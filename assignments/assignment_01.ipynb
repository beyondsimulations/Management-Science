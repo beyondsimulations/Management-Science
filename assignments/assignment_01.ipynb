{
  "cells": [
    {
      "cell_type": "markdown",
      "metadata": {},
      "source": [
        "# Assignment 1: Risk Analysis & Forecasting\n",
        "\n",
        "Management Science\n",
        "\n",
        "## Assignment Overview\n",
        "\n",
        "**Due:** Start of Lecture 8 **Weight:** 30% of final grade **Expected\n",
        "Time:** 4-6 hours **Work:** Groups\n",
        "\n",
        "You’re a a group of junior analyst at a consulting firm. A client needs\n",
        "help with:\n",
        "\n",
        "1.  Understanding investment risk using simulation\n",
        "2.  Forecasting product demand\n",
        "\n",
        "## Consultants\n",
        "\n",
        "Who is part of your group?"
      ],
      "id": "2bbb12c9-93bf-4d62-bd58-722ef31b8375"
    },
    {
      "cell_type": "code",
      "execution_count": 1,
      "metadata": {},
      "outputs": [
        {
          "output_type": "display_data",
          "metadata": {},
          "data": {
            "text/plain": [
              "'\\nYOUR ANSWER HERE:\\n'"
            ]
          }
        }
      ],
      "source": [
        "\"\"\"\n",
        "YOUR ANSWER HERE:\n",
        "\"\"\""
      ],
      "id": "fd2b6485"
    },
    {
      "cell_type": "markdown",
      "metadata": {},
      "source": [
        "## Setup"
      ],
      "id": "59893da2-ac5b-47fb-ac77-904701bff09c"
    },
    {
      "cell_type": "code",
      "execution_count": 2,
      "metadata": {},
      "outputs": [],
      "source": [
        "import numpy as np\n",
        "import pandas as pd\n",
        "import matplotlib.pyplot as plt\n",
        "\n",
        "# Sets a random seed for reproducibility (no need to adjust this for you)\n",
        "np.random.seed(42)"
      ],
      "id": "b39c7871"
    },
    {
      "cell_type": "markdown",
      "metadata": {},
      "source": [
        "## Part A: Investment Risk Simulation (50%)\n",
        "\n",
        "### Scenario\n",
        "\n",
        "Your client wants to invest €100,000 in a new product launch. They need\n",
        "to understand the risk.\n",
        "\n",
        "**Given Information:**\n",
        "\n",
        "-   Best case: €300,000 return (20% probability)\n",
        "-   Most likely: €150,000 return (60% probability)\n",
        "-   Worst case: €50,000 return (20% probability)\n",
        "\n",
        "### Task 1: Simple Monte Carlo Simulation (15%)"
      ],
      "id": "ac1ea01e-89b5-4663-b59c-cffef3c0f425"
    },
    {
      "cell_type": "code",
      "execution_count": 3,
      "metadata": {},
      "outputs": [],
      "source": [
        "# Create a function that runs simulations and randomly picks outcomes\n",
        "def simulate_investment(n_simulations=100):\n",
        "    \"\"\"\n",
        "    Run Monte Carlo simulation for investment returns.\n",
        "\n",
        "    Returns:\n",
        "        array: Simulation results\n",
        "    \"\"\"\n",
        "    # Define possible outcomes and their probabilities\n",
        "    outcomes = [300000, 150000, 50000]\n",
        "    probabilities = [0.2, 0.6, 0.2]\n",
        "\n",
        "    # Hint: use np.random.choice() with probabilities\n",
        "    # YOUR CODE HERE\n",
        "\n",
        "\n",
        "    return results\n",
        "\n",
        "# Run simulation\n",
        "# YOUR CODE HERE"
      ],
      "id": "e1299e12"
    },
    {
      "cell_type": "markdown",
      "metadata": {},
      "source": [
        "### Task 2: Add Uncertainty to Probabilities (15%)"
      ],
      "id": "12527a4d-388c-4ea8-a9f1-70636b265fb0"
    },
    {
      "cell_type": "code",
      "execution_count": 4,
      "metadata": {},
      "outputs": [],
      "source": [
        "def simulate_with_uncertainty(n_simulations=100):\n",
        "    \"\"\"\n",
        "    Simulate investment with uncertain probabilities.\n",
        "    - Best case probability: 10% to 30% (uniform)\n",
        "    - Worst case probability: 10% to 30% (uniform)\n",
        "    - Most likely probability: remainder to sum to 100%\n",
        "    \"\"\"\n",
        "    outcomes = [300000, 150000, 50000]\n",
        "    results = []\n",
        "\n",
        "    return results\n",
        "\n",
        "# Run simulation with uncertainty\n",
        "# YOUR CODE HERE"
      ],
      "id": "c02f28b4"
    },
    {
      "cell_type": "markdown",
      "metadata": {},
      "source": [
        "### Task 3: Analysis & Visualization (20%)"
      ],
      "id": "8d55a0f6-f57f-4335-a4a7-51777d4c3e74"
    },
    {
      "cell_type": "code",
      "execution_count": 5,
      "metadata": {},
      "outputs": [],
      "source": [
        "# Create histogram of returns\n",
        "# YOUR CODE HERE\n",
        "\n",
        "# Calculate key metrics\n",
        "# 1. Probability of losing money (return < €100,000)\n",
        "# 2. 95% Value at Risk (5th percentile)\n",
        "# 3. Expected profit\n",
        "# YOUR CODE HERE"
      ],
      "id": "d8f6abd7"
    },
    {
      "cell_type": "markdown",
      "metadata": {},
      "source": [
        "**Business Question:** Should the client make this investment? Write 3-4\n",
        "sentences explaining your recommendation."
      ],
      "id": "8076c46f-5906-4e00-bc8b-c4e79f89d1f1"
    },
    {
      "cell_type": "code",
      "execution_count": 6,
      "metadata": {},
      "outputs": [
        {
          "output_type": "display_data",
          "metadata": {},
          "data": {
            "text/plain": [
              "'\\nYOUR ANSWER HERE:\\n'"
            ]
          }
        }
      ],
      "source": [
        "\"\"\"\n",
        "YOUR ANSWER HERE:\n",
        "\"\"\""
      ],
      "id": "59f0bd12"
    },
    {
      "cell_type": "markdown",
      "metadata": {},
      "source": [
        "## Part B: Demand Forecasting (50%)\n",
        "\n",
        "### Scenario\n",
        "\n",
        "A retail client needs to forecast demand for the next 3 months to plan\n",
        "inventory.\n",
        "\n",
        "### The Data"
      ],
      "id": "2f5fea50-bac1-432d-85b7-b921357c183c"
    },
    {
      "cell_type": "code",
      "execution_count": 7,
      "metadata": {},
      "outputs": [
        {
          "output_type": "stream",
          "name": "stdout",
          "text": [
            "   month  sales_units\n",
            "0      1          120\n",
            "1      2          135\n",
            "2      3          155\n",
            "3      4          145\n",
            "4      5          165\n",
            "\n",
            "Total months: 24\n",
            "Average sales: 152.1"
          ]
        }
      ],
      "source": [
        "# 24 months of sales data\n",
        "sales_data = {\n",
        "    'month': list(range(1, 25)),\n",
        "    'sales_units': [\n",
        "        120, 135, 155, 145,  # Spring Year 1\n",
        "        165, 180, 195, 175,  # Summer Year 1\n",
        "        150, 140, 125, 130,  # Fall Year 1\n",
        "        110, 105, 115, 125,  # Winter Year 1/2\n",
        "        140, 150, 170, 160,  # Spring Year 2\n",
        "        175, 190, 210, 185   # Summer Year 2\n",
        "    ]\n",
        "}\n",
        "\n",
        "# Convert to pandas DataFrame for easier handling\n",
        "df = pd.DataFrame(sales_data)\n",
        "print(df.head())\n",
        "print(f\"\\nTotal months: {len(df)}\")\n",
        "print(f\"Average sales: {df['sales_units'].mean():.1f}\")"
      ],
      "id": "e29bf755"
    },
    {
      "cell_type": "markdown",
      "metadata": {},
      "source": [
        "### Task 1: Moving Average Forecast (15%)"
      ],
      "id": "025651b0-9865-4eab-877c-e3247a3d493b"
    },
    {
      "cell_type": "code",
      "execution_count": 8,
      "metadata": {},
      "outputs": [],
      "source": [
        "def moving_average_forecast(data, window_size=3):\n",
        "    \"\"\"\n",
        "    Calculate moving average forecast for next period.\n",
        "\n",
        "    Args:\n",
        "        data: List or array of historical values\n",
        "        window_size: Number of periods to average\n",
        "\n",
        "    Returns:\n",
        "        float: Forecast for next period\n",
        "    \"\"\"\n",
        "    # YOUR CODE HERE\n",
        "    # Take the average of the last 'window_size' periods\n",
        "\n",
        "    return forecast\n",
        "\n",
        "# Test different window sizes and print the results\n",
        "# YOUR CODE HERE"
      ],
      "id": "9e2878f1"
    },
    {
      "cell_type": "markdown",
      "metadata": {},
      "source": [
        "### Task 2: Exponential Smoothing (15%)\n",
        "\n",
        "**Understanding Exponential Smoothing:**\n",
        "\n",
        "Exponential smoothing gives more weight to recent observations while\n",
        "still considering historical data. The formula is:\n",
        "\n",
        "$$F_t = α × A_(t-1) + (1 - α) × F_(t-1)$$\n",
        "\n",
        "Where:\n",
        "\n",
        "-   $F_t$ = Forecast for period $t$\n",
        "-   $A_(t-1)$ = Actual value in previous period\n",
        "-   $F_(t-1)$ = Forecast for previous period\n",
        "-   $α$ = Smoothing parameter between 0 and 1\n",
        "\n",
        "**How it works:**\n",
        "\n",
        "-   Start with the first actual value as your initial forecast:\n",
        "    $F_1 = A_1$\n",
        "-   For each subsequent period, update the forecast using the formula\n",
        "    above\n",
        "-   Higher α (e.g., 0.7) = more weight on recent data (responsive to\n",
        "    changes)\n",
        "-   Lower α (e.g., 0.1) = more weight on historical pattern (smooth,\n",
        "    stable)\n",
        "\n",
        "**Example with α = 0.3:**\n",
        "\n",
        "-   Month 1: Actual = 120, Forecast = 120 (initial)\n",
        "-   Month 2: Actual = 135, Forecast = 0.3 × 120 + 0.7 × 120 = 120\n",
        "-   Month 3: Actual = 155, Forecast = 0.3 × 135 + 0.7 × 120 = 124.5\n",
        "-   And so on…"
      ],
      "id": "68642991-70a4-4f2a-8d2a-e7f0fd59435b"
    },
    {
      "cell_type": "code",
      "execution_count": 9,
      "metadata": {},
      "outputs": [],
      "source": [
        "def exponential_smoothing(data, alpha=0.3):\n",
        "    \"\"\"\n",
        "    Calculate exponential smoothing forecast for next period.\n",
        "\n",
        "    Args:\n",
        "        data: Historical values (list or array)\n",
        "        alpha: Smoothing parameter (0-1)\n",
        "               Higher alpha = more weight on recent data\n",
        "\n",
        "    Returns:\n",
        "        float: Forecast for next period\n",
        "    \"\"\"\n",
        "    # Initialize forecast with first actual value\n",
        "    forecast = data[0]\n",
        "\n",
        "    # YOUR CODE HERE\n",
        "    # Loop through data starting from index 1\n",
        "    # For each actual value, update forecast using the formula:\n",
        "    #   forecast = alpha * actual + (1 - alpha) * forecast\n",
        "\n",
        "    # Return the final forecast (which predicts the next period)\n",
        "    return forecast\n",
        "\n",
        "# Test different alpha values and print the results\n",
        "# Try alpha = 0.1 (smooth), 0.3 (balanced), 0.7 (responsive)\n",
        "# YOUR CODE HERE"
      ],
      "id": "8f3d3362"
    },
    {
      "cell_type": "markdown",
      "metadata": {},
      "source": [
        "### Task 3: Evaluate and Compare Methods (20%)"
      ],
      "id": "a3f05005-ab4c-4400-961f-82e6a1ac60e5"
    },
    {
      "cell_type": "code",
      "execution_count": 10,
      "metadata": {},
      "outputs": [],
      "source": [
        "# Split data: first 20 months for training, last 4 for testing\n",
        "train_data = df['sales_units'].values[:20]\n",
        "test_data = df['sales_units'].values[20:]\n",
        "\n",
        "# Generate forecasts for test period\n",
        "ma_forecasts = []\n",
        "es_forecasts = []\n",
        "\n",
        "# For each test month:\n",
        "# 1. Use training data to forecast\n",
        "# 2. Add actual value to training for next forecast\n",
        "# YOUR CODE HERE\n",
        "\n",
        "# Calculate Mean Absolute Error (MAE)\n",
        "# YOUR CODE HERE"
      ],
      "id": "188fc8d6"
    },
    {
      "cell_type": "code",
      "execution_count": 11,
      "metadata": {},
      "outputs": [],
      "source": [
        "# Visualization\n",
        "# Add lines for:\n",
        "# - Moving average forecasts\n",
        "# - Exponential smoothing forecasts\n",
        "# Mark the train/test split\n",
        "# YOUR CODE HERE"
      ],
      "id": "e0f20615"
    },
    {
      "cell_type": "markdown",
      "metadata": {},
      "source": [
        "**Business Question:** Which forecasting method would you recommend and\n",
        "why? How much safety stock should they hold (based on your assumption)?\n",
        "(3-4 sentences)"
      ],
      "id": "7563eeff-81c7-4727-9f1c-f3de7cc93a61"
    },
    {
      "cell_type": "code",
      "execution_count": 12,
      "metadata": {},
      "outputs": [
        {
          "output_type": "display_data",
          "metadata": {},
          "data": {
            "text/plain": [
              "'\\nYOUR ANSWER HERE:\\n'"
            ]
          }
        }
      ],
      "source": [
        "\"\"\"\n",
        "YOUR ANSWER HERE:\n",
        "\"\"\""
      ],
      "id": "f8e67f13"
    },
    {
      "cell_type": "markdown",
      "metadata": {},
      "source": [
        "## Submission Checklist\n",
        "\n",
        "-   [ ] All code cells run without errors\n",
        "-   [ ] Functions are commented\n",
        "-   [ ] Visualizations are clear and labeled\n",
        "-   [ ] Business questions are answered\n",
        "-   [ ] Names added to top of notebook\n",
        "\n",
        "## Tips\n",
        "\n",
        "-   Use AI tools to help understand concepts and programm, but make sure\n",
        "    you understand the code\n",
        "-   Start simple - get something working before optimizing\n",
        "-   Remember: the goal is good solutions, not perfect ones"
      ],
      "id": "fec40100-b3ae-4c02-b20e-405872fbd5bd"
    }
  ],
  "nbformat": 4,
  "nbformat_minor": 5,
  "metadata": {
    "kernelspec": {
      "name": "python3",
      "display_name": "Python 3 (ipykernel)",
      "language": "python",
      "path": "/Users/vlcek/Documents/git-teaching/Management-Science/.venv/share/jupyter/kernels/python3"
    },
    "language_info": {
      "name": "python",
      "codemirror_mode": {
        "name": "ipython",
        "version": "3"
      },
      "file_extension": ".py",
      "mimetype": "text/x-python",
      "nbconvert_exporter": "python",
      "pygments_lexer": "ipython3",
      "version": "3.12.11"
    }
  }
}