{
  "cells": [
    {
      "cell_type": "markdown",
      "metadata": {},
      "source": [
        "# Assignment 2: Optimization in Practice\n",
        "\n",
        "Management Science\n",
        "\n",
        "## Assignment Overview\n",
        "\n",
        "**Due:** Start of Lecture 10 **Weight:** 20% of final grade **Expected\n",
        "Time:** 5-7 hours **Work:** Groups\n",
        "\n",
        "Your consulting firm has been hired by “CityExpress,” a local delivery\n",
        "company. They need help with: 1. Optimizing delivery routes to reduce\n",
        "costs 2. Creating efficient shift assignments that balance operational\n",
        "needs and worker preferences\n",
        "\n",
        "## Consultants\n",
        "\n",
        "Who is part of your group?"
      ],
      "id": "df140861-9e67-491d-a2bc-6ce59de5340a"
    },
    {
      "cell_type": "code",
      "execution_count": 1,
      "metadata": {},
      "outputs": [
        {
          "output_type": "display_data",
          "metadata": {},
          "data": {
            "text/plain": [
              "'\\nYOUR ANSWER HERE:\\n'"
            ]
          }
        }
      ],
      "source": [
        "\"\"\"\n",
        "YOUR ANSWER HERE:\n",
        "\"\"\""
      ],
      "id": "8145e82a"
    },
    {
      "cell_type": "markdown",
      "metadata": {},
      "source": [
        "## Setup"
      ],
      "id": "d24111b7-cd22-4ebe-acaf-9b32d9b583f1"
    },
    {
      "cell_type": "code",
      "execution_count": 2,
      "metadata": {},
      "outputs": [],
      "source": [
        "import numpy as np\n",
        "import pandas as pd\n",
        "import matplotlib.pyplot as plt\n",
        "\n",
        "# Sets a random seed for reproducibility (no need to adjust this for you)\n",
        "np.random.seed(42)"
      ],
      "id": "4ffcd99d"
    },
    {
      "cell_type": "markdown",
      "metadata": {},
      "source": [
        "## Part A: Smart Delivery Routes (50%)\n",
        "\n",
        "### Scenario\n",
        "\n",
        "CityExpress has 12 customer orders to deliver tomorrow. They need an\n",
        "efficient route starting and ending at their depot.\n",
        "\n",
        "### The Data"
      ],
      "id": "c99c3435-1093-4bfa-a17a-eb120f9134a9"
    },
    {
      "cell_type": "code",
      "execution_count": 3,
      "metadata": {},
      "outputs": [],
      "source": [
        "# Location coordinates (in km from origin)\n",
        "locations = {\n",
        "    0: (10, 10),   # Depot\n",
        "    1: (8, 15),    # Customer 1\n",
        "    2: (14, 18),   # Customer 2\n",
        "    3: (5, 12),    # Customer 3\n",
        "    4: (18, 8),    # Customer 4\n",
        "    5: (12, 5),    # Customer 5\n",
        "    6: (3, 7),     # Customer 6\n",
        "    7: (16, 14),   # Customer 7\n",
        "    8: (7, 3),     # Customer 8\n",
        "    9: (15, 6),    # Customer 9\n",
        "    10: (11, 17),  # Customer 10\n",
        "    11: (4, 16),   # Customer 11\n",
        "    12: (19, 12)   # Customer 12\n",
        "}"
      ],
      "id": "e3e9b92d"
    },
    {
      "cell_type": "markdown",
      "metadata": {},
      "source": [
        "### Task 1: Build a Basic Route (20%)"
      ],
      "id": "d5b4a75b-2105-4de3-8368-e1ec57a4787f"
    },
    {
      "cell_type": "code",
      "execution_count": 4,
      "metadata": {},
      "outputs": [],
      "source": [
        "def calculate_distance(loc1, loc2):\n",
        "    \"\"\"Calculate Euclidean distance between two locations.\"\"\"\n",
        "    x1, y1 = loc1\n",
        "    x2, y2 = loc2\n",
        "    # YOUR CODE HERE\n",
        "\n",
        "    return distance\n",
        "\n",
        "def calculate_total_distance(route, locations):\n",
        "    \"\"\"Calculate total distance for a route.\"\"\"\n",
        "    total = 0\n",
        "    # YOUR CODE HERE\n",
        "\n",
        "    # Sum distances between consecutive locations\n",
        "    return total\n",
        "\n",
        "def nearest_neighbor_route(depot, locations):\n",
        "    \"\"\"\n",
        "    Build route using nearest neighbor heuristic.\n",
        "    Always visit the nearest unvisited customer next.\n",
        "    \"\"\"\n",
        "    route = [depot] # Start with depot\n",
        "    # YOUR CODE HERE\n",
        "\n",
        "    route.append(depot)  # End with depot\n",
        "    return route\n",
        "\n",
        "# Build your route\n",
        "# YOUR CODE HERE"
      ],
      "id": "c72baf16"
    },
    {
      "cell_type": "markdown",
      "metadata": {},
      "source": [
        "### Task 2: Improve Your Route (20%)\n",
        "\n",
        "**Understanding 2-Opt Improvement:**\n",
        "\n",
        "The 2-opt algorithm improves a route by removing two edges and\n",
        "reconnecting them in a different way. This is like “uncrossing” routes\n",
        "that cross over themselves.\n",
        "\n",
        "**Visual Example:**\n",
        "\n",
        "    Before:  A → B → C → D → A\n",
        "    If we take edges (A→B) and (C→D) and swap them:\n",
        "    After:   A → C → B → D → A  (reversed the B→C segment)\n",
        "\n",
        "**The Algorithm:**\n",
        "\n",
        "1.  Start with your current best route and its distance\n",
        "2.  Try swapping every possible pair of edges:\n",
        "    -   Take positions i and j in the route (where i \\< j)\n",
        "    -   Reverse the segment between i and j\n",
        "    -   Calculate the new distance\n",
        "3.  If the new route is better, keep it as your new best\n",
        "4.  Repeat until no improvement is found"
      ],
      "id": "f75c5eee-e8af-4df3-a9e5-72dc5a89fab3"
    },
    {
      "cell_type": "code",
      "execution_count": 5,
      "metadata": {},
      "outputs": [],
      "source": [
        "def try_swap_improvement(route, locations):\n",
        "    \"\"\"\n",
        "    Try all possible 2-opt swaps and return the best improvement found.\n",
        "\n",
        "    Args:\n",
        "        route: Current route (list of location indices)\n",
        "        locations: Dictionary of location coordinates\n",
        "\n",
        "    Returns:\n",
        "        tuple: (best_route, best_distance) or (None, None) if no improvement\n",
        "    \"\"\"\n",
        "    # YOUR CODE HERE (replace pass)\n",
        "\n",
        "    pass\n",
        "\n",
        "def improve_route(initial_route, locations, max_iterations=50):\n",
        "    \"\"\"\n",
        "    Repeatedly apply 2-opt improvements until no improvement is found.\n",
        "\n",
        "    Args:\n",
        "        initial_route: Starting route\n",
        "        locations: Dictionary of location coordinates\n",
        "        max_iterations: Maximum number of improvement attempts\n",
        "\n",
        "    \"\"\"\n",
        "    # Loop while iteration < max_iterations:\n",
        "    #   1. Call try_swap_improvement on current_route\n",
        "    #   2. If no improvement found, break\n",
        "    #   3. Otherwise, update current_route and current_distance\n",
        "    #   4. Increment iteration counter\n",
        "    # YOUR CODE HERE (replace pass)\n",
        "\n",
        "    pass\n",
        "\n",
        "# Improve your route\n",
        "# YOUR CODE HERE"
      ],
      "id": "54adc7ff"
    },
    {
      "cell_type": "markdown",
      "metadata": {},
      "source": [
        "### Task 3: Visualize and Analyze (10%)\n",
        "\n",
        "-   Visualize both routes (before and after improvement)\n",
        "-   Calculate and compare:\n",
        "    -   Original route distance\n",
        "    -   Improved route distance\n",
        "    -   Percentage improvement\n",
        "    -   Estimated cost savings (€2 per km)"
      ],
      "id": "78084695-08e7-42eb-932b-35b9df461cf0"
    },
    {
      "cell_type": "code",
      "execution_count": 6,
      "metadata": {},
      "outputs": [],
      "source": [
        "# Visualize both routes\n",
        "# YOUR CODE HERE\n",
        "\n",
        "# Calculate metrics\n",
        "# YOUR CODE HERE"
      ],
      "id": "95ffea43"
    },
    {
      "cell_type": "markdown",
      "metadata": {},
      "source": [
        "**Business Question:** If CityExpress has 50 deliveries per day, how\n",
        "much could they save per month with route optimization? (3-4 sentences)"
      ],
      "id": "c94e2355-201a-4dc0-9aeb-e9ef3bee79b3"
    },
    {
      "cell_type": "code",
      "execution_count": 7,
      "metadata": {},
      "outputs": [
        {
          "output_type": "display_data",
          "metadata": {},
          "data": {
            "text/plain": [
              "'\\nYOUR ANSWER HERE:\\n'"
            ]
          }
        }
      ],
      "source": [
        "\"\"\"\n",
        "YOUR ANSWER HERE:\n",
        "\"\"\""
      ],
      "id": "bb316fce"
    },
    {
      "cell_type": "markdown",
      "metadata": {},
      "source": [
        "## Part B: Smart Shift Assignment (50%)\n",
        "\n",
        "### Scenario\n",
        "\n",
        "CityExpress warehouse needs to assign 6 workers to 6 different shifts\n",
        "this week. Each worker works exactly one shift. Your job: maximize\n",
        "worker satisfaction by matching them to their preferred shifts.\n",
        "\n",
        "### Connection to Lecture 6\n",
        "\n",
        "Remember **greedy heuristics** from job shop scheduling (SPT, EDD)?\n",
        "You’ll design similar rules here—but for workers and shifts instead of\n",
        "jobs and machines.\n",
        "\n",
        "**Think about:**\n",
        "\n",
        "-   SPT prioritized **shortest** jobs first\n",
        "-   EDD prioritized jobs with **earliest deadlines** first\n",
        "-   What should **you** prioritize for shift assignment?\n",
        "\n",
        "### The Data"
      ],
      "id": "36c5415c-9c9d-4944-b336-4d562f0cc37f"
    },
    {
      "cell_type": "code",
      "execution_count": 8,
      "metadata": {},
      "outputs": [],
      "source": [
        "# 6 shifts available this week\n",
        "shifts = [\n",
        "    'Monday-Morning',\n",
        "    'Monday-Evening',\n",
        "    'Tuesday-Morning',\n",
        "    'Tuesday-Evening',\n",
        "    'Wednesday-Morning',\n",
        "    'Wednesday-Evening'\n",
        "]\n",
        "\n",
        "# Worker shift preferences (in order of preference: 1st choice, 2nd choice, 3rd choice)\n",
        "worker_preferences = {\n",
        "    0: ['Monday-Morning', 'Tuesday-Morning', 'Wednesday-Morning'],     # Morning person\n",
        "    1: ['Monday-Evening', 'Tuesday-Evening', 'Wednesday-Evening'],     # Prefers evenings\n",
        "    2: ['Monday-Morning', 'Wednesday-Morning'],                        # Flexible, fewer preferences\n",
        "    3: ['Tuesday-Evening', 'Wednesday-Evening'],                       # Evening only, fewer preferences\n",
        "    4: ['Monday-Morning', 'Monday-Evening', 'Tuesday-Morning'],        # Busy early week\n",
        "    5: ['Wednesday-Morning', 'Wednesday-Evening']                      # Wednesday preferred\n",
        "}\n",
        "\n",
        "# Assignment representation:\n",
        "# assignment = [shift_index for each worker]\n",
        "# Example: assignment = [0, 1, 2, 3, 4, 5]\n",
        "#   Worker 0 gets shift 0 (Monday-Morning)\n",
        "#   Worker 1 gets shift 1 (Monday-Evening)\n",
        "#   Worker 2 gets shift 2 (Tuesday-Morning)\n",
        "#   etc."
      ],
      "id": "ca22e153"
    },
    {
      "cell_type": "markdown",
      "metadata": {},
      "source": [
        "### Task 1: Design Your Greedy Heuristic (15%)\n",
        "\n",
        "**Challenge:** Create a function that builds an assignment using YOUR\n",
        "OWN greedy strategy.\n",
        "\n",
        "**Need a starting point?**\n",
        "\n",
        "Ask yourself:\n",
        "\n",
        "1.  What made SPT different from EDD?\n",
        "2.  What attributes do workers have?\n",
        "3.  What attributes do shifts have?\n",
        "4.  Pick one attribute to prioritize. That’s your greedy rule!"
      ],
      "id": "ccf6edb8-471e-4f24-8556-93e843a4d6b4"
    },
    {
      "cell_type": "code",
      "execution_count": 9,
      "metadata": {},
      "outputs": [],
      "source": [
        "def my_greedy_assignment(worker_preferences, shifts):\n",
        "    \"\"\"\n",
        "    Build an assignment using YOUR greedy strategy.\n",
        "\n",
        "    Args:\n",
        "        worker_preferences: Dict of worker_id → list of preferred shift names\n",
        "        shifts: List of 6 shift names\n",
        "\n",
        "    Returns:\n",
        "        list: assignment where assignment[worker_id] = shift_index\n",
        "              Example: [0, 1, 2, 3, 4, 5] means worker 0→shift 0, worker 1→shift 1, etc.\n",
        "    \"\"\"\n",
        "    assignment = [-1] * 6  # -1 means unassigned\n",
        "    available_shifts = list(range(6))  # Track which shifts are still open\n",
        "\n",
        "    # YOUR GREEDY STRATEGY HERE\n",
        "    # Questions to guide you:\n",
        "    # 1. In what order will you process the workers? (0,1,2,3,4,5 or different order?)\n",
        "    # 2. For each worker, how do you pick their shift from available ones?\n",
        "    # 3. What if their preferred shifts are all taken?\n",
        "\n",
        "    # YOUR CODE HERE\n",
        "\n",
        "    return assignment\n",
        "\n",
        "# Test your greedy heuristic\n",
        "# YOUR CODE HERE"
      ],
      "id": "66cb3bfa"
    },
    {
      "cell_type": "markdown",
      "metadata": {},
      "source": [
        "**Deliverable:**\n",
        "\n",
        "1.  Working greedy function that produces a valid assignment (all\n",
        "    assigned, no duplicate shifts)\n",
        "2.  Written explanation (3-4 sentences)"
      ],
      "id": "b96df842-48cb-43a7-af4f-d614018130a3"
    },
    {
      "cell_type": "code",
      "execution_count": 10,
      "metadata": {},
      "outputs": [
        {
          "output_type": "display_data",
          "metadata": {},
          "data": {
            "text/plain": [
              "'\\nYOUR EXPLANATION HERE:\\nMy greedy strategy: [describe your rule]\\nReasoning: [why did you choose this approach?]\\n'"
            ]
          }
        }
      ],
      "source": [
        "\"\"\"\n",
        "YOUR EXPLANATION HERE:\n",
        "My greedy strategy: [describe your rule]\n",
        "Reasoning: [why did you choose this approach?]\n",
        "\"\"\""
      ],
      "id": "37ab977a"
    },
    {
      "cell_type": "markdown",
      "metadata": {},
      "source": [
        "### Task 2: Build an Evaluation Function (15%)\n",
        "\n",
        "**Challenge:** Create a function that measures how GOOD an assignment\n",
        "is.\n",
        "\n",
        "**Design questions:**\n",
        "\n",
        "-   Should you give more points for 1st choice vs 2nd choice vs 3rd\n",
        "    choice?\n",
        "-   Should all workers count equally, or weight some more?\n",
        "-   What if a worker gets a shift they didn’t list as preferred?"
      ],
      "id": "173a8ddb-7827-435e-8b1f-e5c06f5a3e2f"
    },
    {
      "cell_type": "code",
      "execution_count": 11,
      "metadata": {},
      "outputs": [],
      "source": [
        "def calculate_satisfaction(assignment, worker_preferences, shifts):\n",
        "    \"\"\"\n",
        "    Calculate how good an assignment is.\n",
        "\n",
        "    Design YOUR OWN scoring system!\n",
        "\n",
        "    Possible approaches:\n",
        "    - 1st choice = 3 pts, 2nd choice = 2 pts, 3rd choice = 1 pt, other = 0 pts\n",
        "    - 1st choice = 10 pts, 2nd choice = 5 pts, 3rd choice = 1 pt, other = -5 pts\n",
        "    - Binary: preferred shift = 1 pt, non-preferred = 0 pts\n",
        "    - Your own scoring!\n",
        "\n",
        "    Args:\n",
        "        assignment: List where assignment[worker_id] = shift_index\n",
        "        worker_preferences: Dict of worker_id → list of preferred shift names\n",
        "        shifts: List of shift names\n",
        "\n",
        "    Returns:\n",
        "        float or int: Total satisfaction score (higher is better)\n",
        "    \"\"\"\n",
        "    # Design your own scoring system!\n",
        "    # YOUR EVALUATION LOGIC HERE\n",
        "\n",
        "\n",
        "    return total_satisfaction\n",
        "\n",
        "# Test your evaluation function\n",
        "# YOUR CODE HERE"
      ],
      "id": "af599021"
    },
    {
      "cell_type": "markdown",
      "metadata": {},
      "source": [
        "**Deliverable:**\n",
        "\n",
        "1.  Working evaluation function\n",
        "2.  **Written explanation (2-3 sentences):**\n",
        "    -   What scoring system did you design?\n",
        "    -   Why did you choose this approach?\n",
        "    -   How does it relate to metrics from Lecture 6?"
      ],
      "id": "645ec596-0195-49ac-a575-d2f699edfaf5"
    },
    {
      "cell_type": "code",
      "execution_count": 12,
      "metadata": {},
      "outputs": [
        {
          "output_type": "display_data",
          "metadata": {},
          "data": {
            "text/plain": [
              "'\\nYOUR EXPLANATION HERE:\\nMy scoring system: [describe how you calculate satisfaction]\\nReasoning: [why this approach?]\\n'"
            ]
          }
        }
      ],
      "source": [
        "\"\"\"\n",
        "YOUR EXPLANATION HERE:\n",
        "My scoring system: [describe how you calculate satisfaction]\n",
        "Reasoning: [why this approach?]\n",
        "\"\"\""
      ],
      "id": "f3497172"
    },
    {
      "cell_type": "markdown",
      "metadata": {},
      "source": [
        "### Task 3: Improve with Local Search (15%)\n",
        "\n",
        "**Challenge:** Take your greedy solution and improve it using local\n",
        "search.\n",
        "\n",
        "**Think about Lecture 7:**\n",
        "\n",
        "-   2-opt tried **swaps** and kept improvements\n",
        "-   It kept searching until no improvement was found\n",
        "-   Can you apply similar logic here?\n",
        "\n",
        "**Your task:** Implement a local search that tries swapping workers’\n",
        "shifts."
      ],
      "id": "0886c2ca-e3f8-4a7a-b2e7-28a9410e32cf"
    },
    {
      "cell_type": "code",
      "execution_count": 13,
      "metadata": {},
      "outputs": [],
      "source": [
        "def improve_with_local_search(initial_assignment, worker_preferences, shifts):\n",
        "    \"\"\"\n",
        "    Improve an assignment using local search (like 2-opt from Lecture 7).\n",
        "    Strategy: Try swapping pairs of workers' shifts, keep if it improves satisfaction.\n",
        "\n",
        "    Think about:\n",
        "    - How do you generate \"neighbor\" solutions? (swap two workers)\n",
        "    - How do you know if a neighbor is better? (use your evaluation function!)\n",
        "    - When do you stop? (no improvement found, or max iterations)\n",
        "\n",
        "    Args:\n",
        "        initial_assignment: Starting assignment (from your greedy)\n",
        "        worker_preferences: Dict of worker_id → preferred shifts\n",
        "        shifts: List of shift names\n",
        "\n",
        "    Returns:\n",
        "        list: improved assignment\n",
        "    \"\"\"\n",
        "\n",
        "    # YOUR LOCAL SEARCH LOGIC HERE\n",
        "\n",
        "\n",
        "    # YOUR CODE HERE\n",
        "\n",
        "    return improved_assignment\n",
        "\n",
        "# Apply local search\n",
        "# YOUR CODE HERE"
      ],
      "id": "ed3a3c7a"
    },
    {
      "cell_type": "markdown",
      "metadata": {},
      "source": [
        "**Deliverable:**\n",
        "\n",
        "1.  Working local search function that improves the solution\n",
        "2.  Visualization showing before/after\n",
        "3.  **Written explanation (3-4 sentences):**\n",
        "    -   How does your local search work?\n",
        "    -   How much did you improve the greedy solution?\n",
        "    -   Could you improve it further?"
      ],
      "id": "67460793-e2d4-4945-9c7c-66d964e66b2b"
    },
    {
      "cell_type": "code",
      "execution_count": 14,
      "metadata": {},
      "outputs": [
        {
          "output_type": "display_data",
          "metadata": {},
          "data": {
            "text/plain": [
              "'\\nYOUR EXPLANATION HERE:\\nLocal search method: [describe your approach]\\nResults: [how much improvement?]\\nFurther improvements?: [yes/no and why?]\\n'"
            ]
          }
        }
      ],
      "source": [
        "\"\"\"\n",
        "YOUR EXPLANATION HERE:\n",
        "Local search method: [describe your approach]\n",
        "Results: [how much improvement?]\n",
        "Further improvements?: [yes/no and why?]\n",
        "\"\"\""
      ],
      "id": "13afc6d4"
    },
    {
      "cell_type": "markdown",
      "metadata": {},
      "source": [
        "### Task 4: Business Reflection (5%)\n",
        "\n",
        "**Question 1:** Imagine one worker calls in sick at the last minute. How\n",
        "would you quickly reassign the remaining 5 workers to 6 shifts (one\n",
        "shift will be unfilled)? Would your greedy strategy still work? (3-4\n",
        "sentences)"
      ],
      "id": "9c050fd9-931d-4815-a434-a5e1e1919097"
    },
    {
      "cell_type": "code",
      "execution_count": 15,
      "metadata": {},
      "outputs": [
        {
          "output_type": "display_data",
          "metadata": {},
          "data": {
            "text/plain": [
              "'\\nYOUR ANSWER HERE:\\n'"
            ]
          }
        }
      ],
      "source": [
        "\"\"\"\n",
        "YOUR ANSWER HERE:\n",
        "\"\"\""
      ],
      "id": "ff98e164"
    },
    {
      "cell_type": "markdown",
      "metadata": {},
      "source": [
        "**Question 2:** Your manager says “I don’t care about worker\n",
        "preferences, just fill all shifts as quickly as possible.” How would\n",
        "this change your approach? What would you lose? (2-3 sentences)"
      ],
      "id": "a9e38a6c-2e57-4330-8a04-45013b4a6ff2"
    },
    {
      "cell_type": "code",
      "execution_count": 16,
      "metadata": {},
      "outputs": [
        {
          "output_type": "display_data",
          "metadata": {},
          "data": {
            "text/plain": [
              "'\\nYOUR ANSWER HERE:\\n'"
            ]
          }
        }
      ],
      "source": [
        "\"\"\"\n",
        "YOUR ANSWER HERE:\n",
        "\"\"\""
      ],
      "id": "3c284707"
    },
    {
      "cell_type": "markdown",
      "metadata": {},
      "source": [
        "## Submission Checklist\n",
        "\n",
        "-   [ ] All code cells run without errors\n",
        "-   [ ] Part A: Routes are properly visualized\n",
        "-   [ ] Part B: Greedy heuristic, evaluation function, and local search\n",
        "    all implemented\n",
        "-   [ ] Written explanations completed for all tasks\n",
        "-   [ ] Business questions answered\n",
        "-   [ ] Code is commented and clear\n",
        "-   [ ] Names added to top of notebook\n",
        "\n",
        "## Tips\n",
        "\n",
        "-   **Use AI tools** to help understand concepts and program, but make\n",
        "    sure you understand the code\n",
        "-   **Start simple** - get something working before optimizing\n",
        "-   **Experiment!** - there’s no single “correct” approach\n",
        "-   **Focus on reasoning** - I care more about your thinking than\n",
        "    perfect code\n",
        "-   The goal is **good solutions**, not perfect ones"
      ],
      "id": "0d7df779-001e-4334-bae9-649b5fdaeed6"
    }
  ],
  "nbformat": 4,
  "nbformat_minor": 5,
  "metadata": {
    "kernelspec": {
      "name": "python3",
      "display_name": "Python 3 (ipykernel)",
      "language": "python",
      "path": "/Users/vlcek/Documents/git-teaching/Management-Science/.venv/share/jupyter/kernels/python3"
    },
    "language_info": {
      "name": "python",
      "codemirror_mode": {
        "name": "ipython",
        "version": "3"
      },
      "file_extension": ".py",
      "mimetype": "text/x-python",
      "nbconvert_exporter": "python",
      "pygments_lexer": "ipython3",
      "version": "3.12.11"
    }
  }
}