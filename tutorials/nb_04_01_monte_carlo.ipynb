{
  "cells": [
    {
      "cell_type": "markdown",
      "metadata": {},
      "source": [
        "# Notebook 4.1 - Monte Carlo Simulation Practice\n",
        "\n",
        "Management Science - Building Your Crystal Ball\n",
        "\n",
        "# Introduction\n",
        "\n",
        "Welcome back to Bean Counter, CEO! In the lecture, we saw how Monte\n",
        "Carlo simulation helps us make decisions when the future is uncertain.\n",
        "Now it’s time to apply these techniques to expand your coffee empire and\n",
        "prepare for the TechVenture competition.\n",
        "\n",
        "**Your CEO Challenge:** Bean Counter Expansion - analyzing single\n",
        "locations and portfolios for strategic growth\n",
        "\n",
        "**Key Skills for Competition:**\n",
        "\n",
        "-   Simulating uncertain returns\n",
        "-   Analyzing risk metrics\n",
        "-   Comparing portfolio combinations\n",
        "-   Making data-driven recommendations"
      ],
      "id": "cb5f7fd4-b87b-462c-b228-106fb4f73b5f"
    },
    {
      "cell_type": "code",
      "execution_count": 1,
      "metadata": {},
      "outputs": [
        {
          "output_type": "stream",
          "name": "stdout",
          "text": [
            "Libraries loaded! Let's analyze Bean Counter expansion opportunities ☕"
          ]
        }
      ],
      "source": [
        "import numpy as np\n",
        "import pandas as pd\n",
        "import matplotlib.pyplot as plt\n",
        "from itertools import combinations # Allows us to generate all portfolio combinations\n",
        "\n",
        "# Set seed for reproducibility\n",
        "np.random.seed(42)\n",
        "print(\"Libraries loaded! Let's analyze Bean Counter expansion opportunities ☕\")"
      ],
      "id": "383b5434"
    },
    {
      "cell_type": "markdown",
      "metadata": {},
      "source": [
        "# Section 1 - Modeling Uncertainty with Distributions\n",
        "\n",
        "Let’s start by modeling uncertain business variables using probability\n",
        "distributions.\n",
        "\n",
        "## Understanding np.random"
      ],
      "id": "b9eb3bb2-7036-4c0b-bf98-822645af816f"
    },
    {
      "cell_type": "code",
      "execution_count": 2,
      "metadata": {},
      "outputs": [
        {
          "output_type": "stream",
          "name": "stdout",
          "text": [
            "One random day: 110 customers\n",
            "\n",
            "1000 days simulation:\n",
            "  Mean: 100.4 (expected: 100)\n",
            "  Std Dev: 19.6 (expected: 20)\n",
            "  Min: 35, Max: 177"
          ]
        }
      ],
      "source": [
        "# Example: Daily customer traffic follows a normal distribution\n",
        "# Historical data shows: mean = 100, std = 20\n",
        "\n",
        "# Simulate one day\n",
        "one_day_customers = np.random.normal(100, 20)\n",
        "print(f\"One random day: {one_day_customers:.0f} customers\")\n",
        "\n",
        "# Simulate many days to see the pattern\n",
        "many_days = np.random.normal(100, 20, size=1000)\n",
        "print(f\"\\n1000 days simulation:\")\n",
        "print(f\"  Mean: {many_days.mean():.1f} (expected: 100)\")\n",
        "print(f\"  Std Dev: {many_days.std():.1f} (expected: 20)\")\n",
        "print(f\"  Min: {many_days.min():.0f}, Max: {many_days.max():.0f}\")"
      ],
      "id": "db455e22"
    },
    {
      "cell_type": "markdown",
      "metadata": {},
      "source": [
        "## Exercise 1.1 - Simulate Purchase Amounts\n",
        "\n",
        "Average purchase per customer varies uniformly between €8 and €12.\n",
        "Simulate 10,000 purchase amounts."
      ],
      "id": "411ed4a1-ea86-4ff1-b86b-4b488327d1f6"
    },
    {
      "cell_type": "code",
      "execution_count": 3,
      "metadata": {},
      "outputs": [],
      "source": [
        "# YOUR CODE BELOW\n",
        "# Simulate 10,000 purchase amounts uniformly distributed between 8 and 12\n",
        "purchase_amounts =\n",
        "\n",
        "# Calculate statistics\n",
        "mean_purchase =\n",
        "min_purchase =\n",
        "max_purchase ="
      ],
      "id": "06680f0c"
    },
    {
      "cell_type": "code",
      "execution_count": 5,
      "metadata": {},
      "outputs": [],
      "source": [
        "# Don't modify below - these test your solution\n",
        "assert len(purchase_amounts) == 10_000, \"Should have 10,000 simulations\"\n",
        "assert 9.9 < mean_purchase < 10.1, f\"Mean should be ~10, got {mean_purchase:.2f}\"\n",
        "assert 8 <= min_purchase < 9, f\"Min should be ~8, got {min_purchase:.2f}\"\n",
        "assert 11 < max_purchase <= 12, f\"Max should be ~12, got {max_purchase:.2f}\"\n",
        "print(\"Great, the purchase simulation is correct!\")"
      ],
      "id": "a03b4db6"
    },
    {
      "cell_type": "markdown",
      "metadata": {},
      "source": [
        "## Exercise 1.2 - Calculate Probabilities\n",
        "\n",
        "Using your simulated data from the previous task, calculate key\n",
        "probabilities."
      ],
      "id": "57511240-56cc-41ee-b4e9-52d300141395"
    },
    {
      "cell_type": "code",
      "execution_count": 6,
      "metadata": {},
      "outputs": [],
      "source": [
        "# YOUR CODE BELOW\n",
        "# Using the many_days array from above (1000 days of customer data)\n",
        "# Calculate the probability of different scenarios\n",
        "\n",
        "# Probability of getting more than 120 customers\n",
        "prob_high =\n",
        "\n",
        "# Probability of getting fewer than 80 customers\n",
        "prob_low =\n",
        "\n",
        "# Probability of being within one std dev of mean (80-120)\n",
        "prob_normal ="
      ],
      "id": "e3b2d844"
    },
    {
      "cell_type": "code",
      "execution_count": 8,
      "metadata": {},
      "outputs": [],
      "source": [
        "# Don't modify below\n",
        "assert 0.10 < prob_high < 0.20, f\"High probability should be ~0.16, got {prob_high:.3f}\"\n",
        "assert 0.10 < prob_low < 0.20, f\"Low probability should be ~0.16, got {prob_low:.3f}\"\n",
        "assert 0.65 < prob_normal < 0.72, f\"Normal range probability should be ~0.68, got {prob_normal:.3f}\"\n",
        "print(f\"  P(>120): {prob_high:.1%}\")\n",
        "print(f\"  P(<80): {prob_low:.1%}\")\n",
        "print(f\"  P(80-120): {prob_normal:.1%}\")\n",
        "print(\"Wonderful, probability calculations correct!\")"
      ],
      "id": "4ff80a84"
    },
    {
      "cell_type": "markdown",
      "metadata": {},
      "source": [
        "# Section 2 - Building a Complete Business Simulation\n",
        "\n",
        "Now let’s combine multiple uncertain variables to simulate an entire\n",
        "business.\n",
        "\n",
        "## The Bean Counter Store Model"
      ],
      "id": "4b98048e-6beb-479e-a58e-2572f6411c20"
    },
    {
      "cell_type": "code",
      "execution_count": 9,
      "metadata": {},
      "outputs": [
        {
          "output_type": "stream",
          "name": "stdout",
          "text": [
            "One day at Bean Counter:\n",
            "  Customers: 118\n",
            "  Avg purchase: €9.73\n",
            "  Revenue: €1153.10\n",
            "  Profit: €249.52"
          ]
        }
      ],
      "source": [
        "def simulate_bean_counter_day(mean_customers=100, std_customers=20,\n",
        "                            min_purchase=8, max_purchase=12,\n",
        "                            fixed_costs=500, variable_cost_rate=0.35):\n",
        "    \"\"\"Simulate one day of Bean Counter store operations\"\"\"\n",
        "    # Uncertain variables\n",
        "    customers = np.random.normal(mean_customers, std_customers)\n",
        "    avg_purchase = np.random.uniform(min_purchase, max_purchase)\n",
        "\n",
        "    # Business calculations\n",
        "    revenue = customers * avg_purchase\n",
        "    variable_costs = variable_cost_rate * revenue\n",
        "    profit = revenue - fixed_costs - variable_costs\n",
        "\n",
        "    return {\n",
        "        'customers': customers,\n",
        "        'avg_purchase': avg_purchase,\n",
        "        'revenue': revenue,\n",
        "        'profit': profit\n",
        "    }\n",
        "\n",
        "# Test one simulation\n",
        "one_day = simulate_bean_counter_day()\n",
        "print(f\"One day at Bean Counter:\")\n",
        "print(f\"  Customers: {one_day['customers']:.0f}\")\n",
        "print(f\"  Avg purchase: €{one_day['avg_purchase']:.2f}\")\n",
        "print(f\"  Revenue: €{one_day['revenue']:.2f}\")\n",
        "print(f\"  Profit: €{one_day['profit']:.2f}\")"
      ],
      "id": "29a6f892"
    },
    {
      "cell_type": "markdown",
      "metadata": {},
      "source": [
        "## Exercise 2.1 - Run Multiple Simulations\n",
        "\n",
        "Simulate 10,000 days of Bean Counter operations and analyze the results."
      ],
      "id": "8c64741d-c533-4167-9859-f1c8cd2be9bf"
    },
    {
      "cell_type": "code",
      "execution_count": 10,
      "metadata": {},
      "outputs": [],
      "source": [
        "# YOUR CODE BELOW\n",
        "# Run 10,000 simulations of Bean Counter store\n",
        "n_simulations = 10_000\n",
        "results = []\n",
        "\n",
        "for i in range(n_simulations):\n",
        "    # Simulate one day and add to results\n",
        "\n",
        "# Calculate key metrics (Tip: a DataFrame could help here!)\n",
        "mean_profit =\n",
        "prob_loss =\n",
        "max_profit ="
      ],
      "id": "4fdff5d2"
    },
    {
      "cell_type": "code",
      "execution_count": 12,
      "metadata": {},
      "outputs": [],
      "source": [
        "# Don't modify below\n",
        "assert len(df) == 10_000, \"Should have 10,000 simulations\"\n",
        "assert 100 < mean_profit < 200, f\"Mean profit should be ~150, got {mean_profit:.2f}\"\n",
        "assert 0.12 < prob_loss < 0.18, f\"Probability of loss should be ~15%, got {prob_loss:.1%}\"\n",
        "assert max_profit > 500, f\"Max profit should be >500, got {max_profit:.2f}\"\n",
        "print(\"Very good, the simulation is correct!\")\n",
        "print(f\"  Mean daily profit: €{mean_profit:.2f}\")\n",
        "print(f\"  Probability of loss: {prob_loss:.1%}\")"
      ],
      "id": "f979b1cd"
    },
    {
      "cell_type": "markdown",
      "metadata": {},
      "source": [
        "## Exercise 2.2 - Visualize the Distribution\n",
        "\n",
        "Create a histogram of profit distribution and the percentage of profits\n",
        "between 100 and 400 Euro with key markers based on the results before."
      ],
      "id": "1a6e7293-db26-49de-bb80-c9afcdaed592"
    },
    {
      "cell_type": "code",
      "execution_count": 13,
      "metadata": {},
      "outputs": [],
      "source": [
        "# YOUR CODE BELOW\n",
        "\n",
        "# Calculate what percentage of profits are between €100 and €400\n",
        "prob_target_range =\n",
        "\n",
        "\n",
        "# Create a histogram of the profit distribution with 50 bins\n"
      ],
      "id": "204bf88e"
    },
    {
      "cell_type": "code",
      "execution_count": 15,
      "metadata": {},
      "outputs": [],
      "source": [
        "# Don't modify below\n",
        "assert 0.5 < prob_target_range < 0.6, f\"Should be ~55% in range, got {prob_target_range:.1%}\"\n",
        "print(f\"Visualization complete! {prob_target_range:.1%} of days have profit €100-400\")"
      ],
      "id": "9bec76cb"
    },
    {
      "cell_type": "markdown",
      "metadata": {},
      "source": [
        "# Section 3 - Risk Metrics and Decision Making\n",
        "\n",
        "Learn to calculate key risk metrics that investors care about.\n",
        "\n",
        "## Value at Risk (VaR)"
      ],
      "id": "5171c1a2-f2f2-486c-a6ad-ad57b618f29a"
    },
    {
      "cell_type": "code",
      "execution_count": 16,
      "metadata": {},
      "outputs": [
        {
          "output_type": "stream",
          "name": "stdout",
          "text": [
            "Value at Risk (5%): €-85.38\n",
            "Interpretation: There's a 5% chance of daily profit below €-85.38\n",
            "\n",
            "Value at Risk (1%): €-169.11\n",
            "Interpretation: There's a 1% chance of daily profit below €-169.11\n",
            "\n",
            "Standard deviation: €150.86\n",
            "Interpretation: Daily profit typically varies by €150.86 from the mean"
          ]
        }
      ],
      "source": [
        "# Value at Risk: \"What's the worst-case scenario in X% of cases?\"\n",
        "profits_array = df['profit'].values\n",
        "\n",
        "# 5% VaR: The profit level that we'll exceed 95% of the time\n",
        "var_5 = np.percentile(profits_array, 5)\n",
        "print(f\"Value at Risk (5%): €{var_5:.2f}\")\n",
        "print(f\"Interpretation: There's a 5% chance of daily profit below €{var_5:.2f}\")\n",
        "\n",
        "# 1% VaR: More extreme scenario\n",
        "var_1 = np.percentile(profits_array, 1)\n",
        "print(f\"\\nValue at Risk (1%): €{var_1:.2f}\")\n",
        "print(f\"Interpretation: There's a 1% chance of daily profit below €{var_1:.2f}\")\n",
        "\n",
        "# Standard deviation\n",
        "std_dev = np.std(profits_array)\n",
        "print(f\"\\nStandard deviation: €{std_dev:.2f}\")\n",
        "print(f\"Interpretation: Daily profit typically varies by €{std_dev:.2f} from the mean\")\n",
        "#"
      ],
      "id": "e1944863"
    },
    {
      "cell_type": "markdown",
      "metadata": {},
      "source": [
        "## Exercise 3.1 - Calculate Risk Metrics\n",
        "\n",
        "Calculate comprehensive risk metrics for the coffee shop."
      ],
      "id": "ae8b4ff7-7956-45f5-966a-a42ed8bdf986"
    },
    {
      "cell_type": "code",
      "execution_count": 17,
      "metadata": {},
      "outputs": [],
      "source": [
        "# YOUR CODE BELOW\n",
        "# Calculate various risk metrics\n",
        "\n",
        "# Standard deviation (volatility)\n",
        "volatility =\n",
        "\n",
        "# Probability of making at least €200 profit\n",
        "prob_good_day =\n",
        "\n",
        "# Expected Shortfall: average profit in worst 10% of days\n",
        "worst_10_pct_threshold = np.percentile(profits_array, 10)\n",
        "worst_days = profits_array[profits_array <= worst_10_pct_threshold]\n",
        "expected_shortfall =\n"
      ],
      "id": "95cf7067"
    },
    {
      "cell_type": "code",
      "execution_count": 19,
      "metadata": {},
      "outputs": [],
      "source": [
        "# Don't modify below\n",
        "assert 140 < volatility < 160, f\"Volatility should be ~150, got {volatility:.2f}\"\n",
        "assert 0.25 < prob_good_day < 0.45, f\"Probability should be ~35%, got {prob_good_day:.1%}\"\n",
        "assert -125 < expected_shortfall < -75, f\"ES should be ~100, got {expected_shortfall:.2f}\"\n",
        "print(\"Risk metrics correct!\")\n",
        "print(f\"  Volatility: €{volatility:.2f}\")\n",
        "print(f\"  P(Profit ≥ €200): {prob_good_day:.1%}\")\n",
        "print(f\"  Expected Shortfall (10%): €{expected_shortfall:.2f}\")"
      ],
      "id": "bcde746c"
    },
    {
      "cell_type": "markdown",
      "metadata": {},
      "source": [
        "# Section 4 - Portfolio Analysis\n",
        "\n",
        "Now we’ll analyze portfolios of coffee shops!\n",
        "\n",
        "## Simulating Multiple Locations"
      ],
      "id": "fbafa0dc-f82d-4c74-9592-38cb905dc65a"
    },
    {
      "cell_type": "code",
      "execution_count": 20,
      "metadata": {},
      "outputs": [
        {
          "output_type": "stream",
          "name": "stdout",
          "text": [
            "Simulating 4 locations...\n",
            "  Downtown: Mean profit €419.31\n",
            "  Campus: Mean profit €361.22\n",
            "  Suburb: Mean profit €438.13\n",
            "  Airport: Mean profit €115.56"
          ]
        }
      ],
      "source": [
        "# Bean Counter is considering 4 different expansion locations with different characteristics\n",
        "def simulate_location(location_params, n_days=10_000):\n",
        "    \"\"\"Simulate n_days for a specific location\"\"\"\n",
        "    profits = []\n",
        "    for _ in range(n_days):\n",
        "        customers = np.random.normal(location_params['mean_customers'],\n",
        "                                    location_params['std_customers'])\n",
        "        avg_purchase = np.random.uniform(location_params['min_purchase'],\n",
        "                                        location_params['max_purchase'])\n",
        "        revenue = customers * avg_purchase\n",
        "        variable_costs = location_params['variable_rate'] * revenue\n",
        "        profit = revenue - location_params['fixed_costs'] - variable_costs\n",
        "        profits.append(profit)\n",
        "    return np.array(profits)\n",
        "\n",
        "# Define 4 different Bean Counter expansion locations\n",
        "locations = {\n",
        "    'Downtown': {\n",
        "        'mean_customers': 150, 'std_customers': 30,\n",
        "        'min_purchase': 10, 'max_purchase': 15,\n",
        "        'fixed_costs': 800, 'variable_rate': 0.35\n",
        "    },\n",
        "    'Campus': {\n",
        "        'mean_customers': 200, 'std_customers': 60,\n",
        "        'min_purchase': 6, 'max_purchase': 10,\n",
        "        'fixed_costs': 600, 'variable_rate': 0.40\n",
        "    },\n",
        "    'Suburb': {\n",
        "        'mean_customers': 80, 'std_customers': 15,\n",
        "        'min_purchase': 12, 'max_purchase': 18,\n",
        "        'fixed_costs': 400, 'variable_rate': 0.30\n",
        "    },\n",
        "    'Airport': {\n",
        "        'mean_customers': 120, 'std_customers': 40,\n",
        "        'min_purchase': 15, 'max_purchase': 25,\n",
        "        'fixed_costs': 1200, 'variable_rate': 0.45\n",
        "    }\n",
        "}\n",
        "\n",
        "# Simulate all locations\n",
        "print(\"Simulating 4 locations...\")\n",
        "location_profits = {}\n",
        "for name, params in locations.items():\n",
        "    location_profits[name] = simulate_location(params)\n",
        "    print(f\"  {name}: Mean profit €{location_profits[name].mean():.2f}\")"
      ],
      "id": "81f70625"
    },
    {
      "cell_type": "markdown",
      "metadata": {},
      "source": [
        "## Exercise 4.1 - Analyze All Portfolio Combinations\n",
        "\n",
        "Bean Counter can afford to open exactly 2 new locations. Which pair\n",
        "should they choose for maximum profitability?"
      ],
      "id": "2ee773fb-9b63-4359-8945-01cbea040d19"
    },
    {
      "cell_type": "code",
      "execution_count": 21,
      "metadata": {},
      "outputs": [],
      "source": [
        "# Analyze all possible pairs of locations\n",
        "# Get all combinations of 2 locations\n",
        "location_names = list(locations.keys())\n",
        "pairs = list(combinations(location_names, 2))\n",
        "\n",
        "# YOUR CODE BELOW\n",
        "\n",
        "# Analyze each portfolio\n",
        "portfolio_results = []\n",
        "\n",
        "for pair in pairs:\n",
        "    # Get profits for each location in the pair\n",
        "    profits_1 = location_profits[pair[0]]\n",
        "    profits_2 = location_profits[pair[1]]\n",
        "\n",
        "    # Portfolio assumes equal investment (50/50 split)\n",
        "    portfolio_profit = # Your task!\n",
        "\n",
        "    # Calculate metrics\n",
        "    result = {\n",
        "        'pair': f\"{pair[0]} + {pair[1]}\",\n",
        "        'mean': , # Your task!\n",
        "        'std': , # Your task!\n",
        "        'prob_loss': , # Your task!\n",
        "        'var_5': # Your task!\n",
        "    }\n",
        "    portfolio_results.append(result)\n",
        "\n",
        "# Convert to DataFrame and sort by mean profit\n",
        "df_portfolios = pd.DataFrame(portfolio_results)\n",
        "df_portfolios = df_portfolios.sort_values('mean', ascending=False)\n",
        "\n",
        "# Find best portfolio by mean return\n",
        "best_mean_portfolio = # Your task!\n",
        "best_mean_value = # Your task!"
      ],
      "id": "2a2c84a5"
    },
    {
      "cell_type": "code",
      "execution_count": 23,
      "metadata": {},
      "outputs": [],
      "source": [
        "# Don't modify below\n",
        "assert len(portfolio_results) == 6, \"Should have 6 portfolio combinations\"\n",
        "assert 'Downtown + Suburb' in best_mean_portfolio or 'Suburb + Downtown' in best_mean_portfolio, \\\n",
        "    f\"Best mean portfolio should include Downtown and Campus, got {best_mean_portfolio}\"\n",
        "assert 350 < best_mean_value < 450, f\"Best mean should be ~400, got {best_mean_value:.2f}\"\n",
        "print(\"Portfolio analysis correct!\")\n",
        "print(\"\\nAll Portfolio Combinations:\")\n",
        "print(df_portfolios.to_string(index=False))"
      ],
      "id": "bd0ccebd"
    },
    {
      "cell_type": "markdown",
      "metadata": {},
      "source": [
        "# Section 5 - Making Strategic Recommendations\n",
        "\n",
        "Now let’s visualize and make a final recommendation!\n",
        "\n",
        "## Visualizing Risk-Return Tradeoffs"
      ],
      "id": "3132bd65-5eed-4354-8ea3-96dfec142aaf"
    },
    {
      "cell_type": "code",
      "execution_count": 24,
      "metadata": {},
      "outputs": [
        {
          "output_type": "display_data",
          "metadata": {},
          "data": {
            "image/png": "[encoded data removed]"
          }
        }
      ],
      "source": [
        "# Create risk-return scatter plot for Bean Counter expansion\n",
        "plt.figure(figsize=(10, 6))\n",
        "\n",
        "for _, row in df_portfolios.iterrows():\n",
        "    plt.scatter(row['std'], row['mean'], s=100, alpha=0.7)\n",
        "    plt.annotate(row['pair'], (row['std'], row['mean']),\n",
        "                fontsize=9, xytext=(5, 5), textcoords='offset points')\n",
        "\n",
        "plt.xlabel('Risk (Standard Deviation)')\n",
        "plt.ylabel('Expected Daily Profit (€)')\n",
        "plt.title('Risk-Return Profile of Bean Counter Portfolio Options')\n",
        "plt.grid(True, alpha=0.3)\n",
        "plt.show()"
      ],
      "id": "050cbbe6"
    },
    {
      "cell_type": "markdown",
      "metadata": {},
      "source": [
        "## Exercise 5.1 - Final CEO Recommendation\n",
        "\n",
        "Based on your analysis, make a strategic expansion recommendation for\n",
        "Bean Counter."
      ],
      "id": "881d530b-d76a-4edd-bd72-0154cb72aedf"
    },
    {
      "cell_type": "code",
      "execution_count": 25,
      "metadata": {},
      "outputs": [],
      "source": [
        "# YOUR CODE BELOW\n",
        "# Create a recommendation dictionary with your analysis\n",
        "\n",
        "# Which portfolio maximizes expected profit?\n",
        "max_profit_portfolio =\n",
        "\n",
        "# Which portfolio minimizes risk (lowest std)?\n",
        "min_risk_portfolio =\n",
        "\n",
        "# Your final recommendation (choose one)\n",
        "final_recommendation = # Choose the portfolio you would recommend"
      ],
      "id": "7d8ef1dd"
    },
    {
      "cell_type": "code",
      "execution_count": 27,
      "metadata": {},
      "outputs": [],
      "source": [
        "# Don't modify below\n",
        "assert final_recommendation in df_portfolios['pair'].values, \"Must choose an actual portfolio\"\n",
        "print(f\"\\nYour Recommendation: {final_recommendation}\")"
      ],
      "id": "b9e4281b"
    },
    {
      "cell_type": "markdown",
      "metadata": {},
      "source": [
        "# Conclusion\n",
        "\n",
        "**Outstanding work, CEO!** You’ve successfully applied Monte Carlo\n",
        "simulation to Bean Counter’s expansion strategy and mastered the key\n",
        "skills needed for the TechVenture competition:\n",
        "\n",
        "-   **Simulating uncertain returns** using probability distributions\n",
        "-   **Running thousands of scenarios** with Monte Carlo\n",
        "-   **Calculating risk metrics** (VaR, Expected Shortfall)\n",
        "-   **Comparing portfolio combinations** systematically\n",
        "-   **Making data-driven recommendations** with clear justification\n",
        "\n",
        "When you tackle the TechVenture challenge, apply what you’ve learned at\n",
        "Bean Counter:\n",
        "\n",
        "1.  **Start Simple:** Get one startup simulation working first\n",
        "2.  **Verify Distributions:** Plot histograms to check your simulations\n",
        "3.  **Calculate All Metrics:** Don’t just look at mean returns\n",
        "4.  **Compare Systematically:** Analyze all 6 pairs\n",
        "5.  **Justify Clearly:** Explain WHY your choice is best\n",
        "\n",
        "## Key Differences for Competition\n",
        "\n",
        "The competition uses:\n",
        "\n",
        "-   **Investment returns** instead of daily profits\n",
        "-   **Different distributions** (some normal, one uniform)\n",
        "-   **Larger scale** (€1M investments vs daily operations)\n",
        "\n",
        "But the approach is identical! Apply what you’ve learned here.\n",
        "\n",
        "> **Tip**\n",
        ">\n",
        "> Just as you’ve optimized Bean Counter’s expansion, use scoring\n",
        "> functions in the competition to make objective decisions when multiple\n",
        "> factors matter. Your journey from Barista Trainee to CEO has prepared\n",
        "> you for this!\n",
        "\n",
        "Good luck in the TechVenture Investment Challenge, CEO!"
      ],
      "id": "191855d9-d92b-4e54-9361-2121fca1a95c"
    }
  ],
  "nbformat": 4,
  "nbformat_minor": 5,
  "metadata": {
    "kernelspec": {
      "name": "python3",
      "display_name": "Python 3 (ipykernel)",
      "language": "python",
      "path": "/Users/vlcek/Documents/git-teaching/Management-Science/.venv/share/jupyter/kernels/python3"
    },
    "language_info": {
      "name": "python",
      "codemirror_mode": {
        "name": "ipython",
        "version": "3"
      },
      "file_extension": ".py",
      "mimetype": "text/x-python",
      "nbconvert_exporter": "python",
      "pygments_lexer": "ipython3",
      "version": "3.12.11"
    }
  }
}