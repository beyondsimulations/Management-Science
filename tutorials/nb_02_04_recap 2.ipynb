{
  "cells": [
    {
      "cell_type": "markdown",
      "metadata": {},
      "source": [
        "# Notebook 2.4 - Integration Challenge\n",
        "\n",
        "Management Science - Preparing for CEO at Bean Counter!\n",
        "\n",
        "# Introduction\n",
        "\n",
        "You’ve climbed the ranks:\n",
        "\n",
        "-   **Assistant Manager** → Mastered functions for standardized\n",
        "    operations\n",
        "-   **Regional Manager** → Conquered dictionaries for data management\n",
        "-   **Operations Director** → Optimized with sorting and selection\n",
        "\n",
        "Now the CEO wants to see if you can integrate all these skills. This is\n",
        "your chance to make an impression before potentially taking over as CEO\n",
        "of Bean Counter!\n",
        "\n",
        "**Today’s Challenge:** Build an integrated system that uses functions,\n",
        "dictionaries, and sorting together to solve real business problems.\n",
        "\n",
        "> **How to Use This Tutorial**\n",
        ">\n",
        "> This is a shorter recap session. Each exercise integrates multiple\n",
        "> concepts you’ve learned.\n",
        "\n",
        "------------------------------------------------------------------------\n",
        "\n",
        "# Section 1 - Warm-Up: Functions Meet Dictionaries\n",
        "\n",
        "Let’s start by combining functions with dictionaries, the foundation of\n",
        "business logic and data management."
      ],
      "id": "fe51e7fe-eb32-40a6-8f18-9b304c900ee4"
    },
    {
      "cell_type": "code",
      "execution_count": 1,
      "metadata": {},
      "outputs": [
        {
          "output_type": "stream",
          "name": "stdout",
          "text": [
            "Downtown score: 269.0"
          ]
        }
      ],
      "source": [
        "# Combining what you've learned\n",
        "def calculate_store_score(store):\n",
        "    \"\"\"Calculate a performance score for a store\"\"\"\n",
        "    # Weight different metrics\n",
        "    sales_score = store[\"daily_sales\"] / 100  # Scale to reasonable number\n",
        "    rating_score = store[\"rating\"] * 20  # Rating is 1-5, scale to 20-100\n",
        "    efficiency_score = store[\"customers_per_staff\"] * 2\n",
        "\n",
        "    total_score = sales_score + rating_score + efficiency_score\n",
        "    return round(total_score, 1)\n",
        "\n",
        "# Test with a store\n",
        "test_store = {\n",
        "    \"name\": \"Downtown\",\n",
        "    \"daily_sales\": 4500,\n",
        "    \"rating\": 4.7,\n",
        "    \"customers_per_staff\": 65\n",
        "}\n",
        "\n",
        "score = calculate_store_score(test_store)\n",
        "print(f\"{test_store['name']} score: {score}\")"
      ],
      "id": "fec5b52e"
    },
    {
      "cell_type": "markdown",
      "metadata": {},
      "source": [
        "## Exercise 1.1 - Performance Calculator\n",
        "\n",
        "Create a function `evaluate_store` that:\n",
        "\n",
        "1.  Takes a store dictionary as input (see above)\n",
        "2.  Calculates if the store is meeting targets\n",
        "3.  Returns a tuple: `(is_successful, performance_message)`\n",
        "\n",
        "**Success criteria:**\n",
        "\n",
        "-   Daily sales \\> 4000 AND\n",
        "-   Customer rating \\>= 4.5 AND\n",
        "-   Staff efficiency \\> 50 customers/staff\n",
        "\n",
        "> **Tip**\n",
        ">\n",
        "> The returned `is_successful` is just a boolean (True or False), while\n",
        "> the performance message should be a string with feedback for the\n",
        "> store."
      ],
      "id": "54a01f6b-9a2b-4991-9728-cebf7228374e"
    },
    {
      "cell_type": "code",
      "execution_count": 2,
      "metadata": {},
      "outputs": [],
      "source": [
        "# YOUR CODE BELOW\n",
        "def evaluate_store(store):\n",
        "    \"\"\"Evaluate if a store meets Bean Counter standards\"\"\"\n",
        "    # Check all three criteria\n",
        "\n",
        "    # Return (success_boolean, message)"
      ],
      "id": "51b35a20"
    },
    {
      "cell_type": "code",
      "execution_count": 4,
      "metadata": {},
      "outputs": [],
      "source": [
        "# Test your evaluation function\n",
        "store1 = {\"name\": \"Plaza\", \"daily_sales\": 5000, \"rating\": 4.8, \"customers_per_staff\": 75}\n",
        "success1, msg1 = evaluate_store(store1)\n",
        "assert success1 == True, \"Plaza should be successful\"\n",
        "\n",
        "store2 = {\"name\": \"Beach\", \"daily_sales\": 3500, \"rating\": 4.6, \"customers_per_staff\": 60}\n",
        "success2, msg2 = evaluate_store(store2)\n",
        "assert success2 == False, \"Beach should not be successful (low sales)\"\n",
        "\n",
        "print(\"Great! Your evaluation function works perfectly!\")"
      ],
      "id": "abd01c89"
    },
    {
      "cell_type": "markdown",
      "metadata": {},
      "source": [
        "------------------------------------------------------------------------\n",
        "\n",
        "# Section 2 - The Power of Integration\n",
        "\n",
        "Now let’s combine all three concepts: functions process the data,\n",
        "dictionaries store it, and sorting helps us make decisions."
      ],
      "id": "f74c7f31-5dbc-4ba7-9eea-0bc1f75142e8"
    },
    {
      "cell_type": "code",
      "execution_count": 5,
      "metadata": {},
      "outputs": [
        {
          "output_type": "stream",
          "name": "stdout",
          "text": [
            "Efficiency Rankings:\n",
            "1. Downtown: 1.61\n",
            "2. Airport: 1.43\n",
            "3. Beach: 1.36"
          ]
        }
      ],
      "source": [
        "# Integration example: Finding top performers\n",
        "def calculate_efficiency(store):\n",
        "    \"\"\"Calculate operational efficiency\"\"\"\n",
        "    return store[\"revenue\"] / store[\"costs\"]\n",
        "\n",
        "# Sample stores\n",
        "stores = [\n",
        "    {\"name\": \"Airport\", \"revenue\": 50000, \"costs\": 35000},\n",
        "    {\"name\": \"Downtown\", \"revenue\": 45000, \"costs\": 28000},\n",
        "    {\"name\": \"Beach\", \"revenue\": 30000, \"costs\": 22000}\n",
        "]\n",
        "\n",
        "# Add efficiency to each store\n",
        "for store in stores:\n",
        "    store[\"efficiency\"] = calculate_efficiency(store)\n",
        "\n",
        "# Sort by efficiency\n",
        "ranked = sorted(stores, key=lambda x: x[\"efficiency\"], reverse=True)\n",
        "\n",
        "print(\"Efficiency Rankings:\")\n",
        "for i, store in enumerate(ranked, 1):\n",
        "    print(f\"{i}. {store['name']}: {store['efficiency']:.2f}\")"
      ],
      "id": "10cd0910"
    },
    {
      "cell_type": "markdown",
      "metadata": {},
      "source": [
        "## Exercise 2.1 - Complete Store Ranking System\n",
        "\n",
        "Build a system that:\n",
        "\n",
        "1.  Calculates a composite score for each store using a function\n",
        "2.  Adds this score to each store dictionary\n",
        "3.  Ranks stores from best to worst\n",
        "4.  Returns the name of the best store\n",
        "\n",
        "Composite score = (revenue/1000) + (rating \\* 10) - (complaints \\* 2)"
      ],
      "id": "be90c3a8-57b9-45df-9752-ddd10235bf5a"
    },
    {
      "cell_type": "code",
      "execution_count": 6,
      "metadata": {},
      "outputs": [],
      "source": [
        "def calculate_composite_score(store):\n",
        "    \"\"\"Calculate composite score for ranking\"\"\"\n",
        "    # YOUR CODE BELOW\n",
        "\n",
        "    return score\n",
        "\n",
        "def find_best_store(stores_list):\n",
        "    \"\"\"Find the best store based on composite score\"\"\"\n",
        "    # YOUR CODE BELOW\n",
        "    # 1. Add composite score to each store\n",
        "\n",
        "    # 2. Sort by composite score (highest first)\n",
        "\n",
        "    # 3. Return the name of the best store\n",
        "\n",
        "    return best_store_name\n",
        "\n",
        "# Test data\n",
        "stores = [\n",
        "    {\"name\": \"Plaza\", \"revenue\": 45000, \"rating\": 4.7, \"complaints\": 5},\n",
        "    {\"name\": \"Station\", \"revenue\": 38000, \"rating\": 4.9, \"complaints\": 2},\n",
        "    {\"name\": \"Airport\", \"revenue\": 52000, \"rating\": 4.4, \"complaints\": 12}\n",
        "]\n",
        "\n",
        "best = find_best_store(stores)\n",
        "print(f\"The best performing store is: {best}\")"
      ],
      "id": "c676492b"
    },
    {
      "cell_type": "code",
      "execution_count": 8,
      "metadata": {},
      "outputs": [],
      "source": [
        "# Test your ranking system\n",
        "assert best == \"Station\", f\"Best store should be Station, got {best}\"\n",
        "\n",
        "# Verify scores were calculated correctly\n",
        "for store in stores:\n",
        "    if store[\"name\"] == \"Plaza\":\n",
        "        assert store[\"composite_score\"] == 82.0, \"Plaza score incorrect\"\n",
        "    elif store[\"name\"] == \"Station\":\n",
        "        assert store[\"composite_score\"] == 83.0, \"Station score incorrect (should be highest)\"\n",
        "    elif store[\"name\"] == \"Airport\":\n",
        "        assert store[\"composite_score\"] == 72.0, \"Airport score incorrect\"\n",
        "\n",
        "print(\"Excellent! Your integrated ranking system works perfectly!\")\n",
        "print(\"Station wins with the best composite score!\")\n",
        "print(\"You're ready to become the CEO of Bean Counter!\")"
      ],
      "id": "c40e868c"
    },
    {
      "cell_type": "markdown",
      "metadata": {},
      "source": [
        "------------------------------------------------------------------------\n",
        "\n",
        "# Conclusion\n",
        "\n",
        "**Congratulations! You’re ready to become CEO of Bean Counter!**\n",
        "\n",
        "**You’ve successfully integrated:**\n",
        "\n",
        "-   **Functions** - For calculations and business logic\n",
        "-   **Dictionaries** - For structured data management\n",
        "-   **Sorting** - For optimization and decision-making\n",
        "\n",
        "**Your complete toolkit demonstrates:**\n",
        "\n",
        "-   Evaluating store performance with custom metrics\n",
        "-   Ranking and comparing complex business entities\n",
        "-   Optimizing operational decisions with data\n",
        "\n",
        "**Remember:**\n",
        "\n",
        "-   Functions make your code reusable and maintainable\n",
        "-   Dictionaries organize complex business data effectively\n",
        "-   Sorting and selection help you make optimal choices\n",
        "-   Combining these tools creates powerful business solutions\n",
        "\n",
        "**What’s Next:** You’ve completed the Python foundations! In Lecture 3,\n",
        "you’ll explore advanced data science tools with NumPy and Pandas. These\n",
        "powerful libraries will help you analyze larger datasets and tackle even\n",
        "more complex management science challenges.\n",
        "\n",
        "# Solutions\n",
        "\n",
        "You will likely find solutions to most exercises online. However, I\n",
        "strongly encourage you to work on these exercises independently without\n",
        "searching explicitly for the exact answers to the exercises.\n",
        "Understanding someone else’s solution is very different from developing\n",
        "your own. Use the lecture notes and try to solve the exercises on your\n",
        "own. This approach will significantly enhance your learning and\n",
        "problem-solving skills.\n",
        "\n",
        "Remember, the goal is not just to complete the exercises, but to\n",
        "understand the concepts and improve your programming abilities. If you\n",
        "encounter difficulties, review the lecture materials, experiment with\n",
        "different approaches, and don’t hesitate to ask for clarification during\n",
        "class discussions."
      ],
      "id": "098c89e9-5120-423e-b637-b3fc011efe8e"
    }
  ],
  "nbformat": 4,
  "nbformat_minor": 5,
  "metadata": {
    "kernelspec": {
      "name": "python3",
      "display_name": "Python 3 (ipykernel)",
      "language": "python",
      "path": "/Users/vlcek/Documents/git-teaching/Management-Science/.venv/share/jupyter/kernels/python3"
    },
    "language_info": {
      "name": "python",
      "codemirror_mode": {
        "name": "ipython",
        "version": "3"
      },
      "file_extension": ".py",
      "mimetype": "text/x-python",
      "nbconvert_exporter": "python",
      "pygments_lexer": "ipython3",
      "version": "3.12.11"
    }
  }
}