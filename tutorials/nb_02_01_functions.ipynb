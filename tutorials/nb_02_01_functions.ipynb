{
  "cells": [
    {
      "cell_type": "markdown",
      "metadata": {},
      "source": [
        "# Notebook 2.1 - Functions at Bean Counter\n",
        "\n",
        "Management Science - Your Promotion to Assistant Manager!\n",
        "\n",
        "# Introduction\n",
        "\n",
        "Welcome to your new role at Bean Counter!\n",
        "\n",
        "**Congratulations on your promotion to Assistant Manager!**\n",
        "\n",
        "After your excellent work with inventory tracking and customer queue\n",
        "management, the CEO of Bean Counter has noticed your talent. She’s\n",
        "planning to expand from our flagship store to 10 locations across the\n",
        "city, and she needs your help!\n",
        "\n",
        "**The Challenge:** Each of our baristas currently calculates prices,\n",
        "applies discounts, and prepares drinks their own way. This leads to:\n",
        "\n",
        "-   Inconsistent pricing between stores\n",
        "-   Errors in discount calculations\n",
        "-   Different drink quality at each location\n",
        "-   Frustrated customers who get charged differently at each store\n",
        "\n",
        "**Your Task:** Create standardized functions that every Bean Counter\n",
        "location will use. These functions will ensure consistency, reduce\n",
        "errors, and make training new baristas much easier.\n",
        "\n",
        "In this tutorial, we’ll learn how to use **functions** - reusable blocks\n",
        "of code that standardize operations across all Bean Counter locations.\n",
        "\n",
        "> **How to Use This Tutorial**\n",
        ">\n",
        "> Cells marked with “YOUR CODE BELOW” expect you to write your own code.\n",
        "> Test blocks will verify your solutions.\n",
        "\n",
        "------------------------------------------------------------------------\n",
        "\n",
        "# Section 1 - Basic Functions for Bean Counter\n",
        "\n",
        "As Assistant Manager, your first task is to standardize how we calculate\n",
        "drink prices. Currently, each barista uses their own mental math,\n",
        "leading to pricing chaos!\n",
        "\n",
        "**Functions** are like recipe cards - they take ingredients (inputs),\n",
        "follow a set of instructions, and produce a result (output). Once\n",
        "written, anyone can use them to get consistent results."
      ],
      "id": "8ce4b702-d393-4426-8418-8f9a1c180bcd"
    },
    {
      "cell_type": "code",
      "execution_count": 1,
      "metadata": {},
      "outputs": [
        {
          "output_type": "stream",
          "name": "stdout",
          "text": [
            "Welcome to Bean Counter, Sarah!"
          ]
        }
      ],
      "source": [
        "# Here's how we create a function for Bean Counter\n",
        "def greet_customer(name):\n",
        "    \"\"\"\n",
        "    Greet a customer entering Bean Counter\n",
        "    \"\"\"\n",
        "    greeting = f\"Welcome to Bean Counter, {name}!\"\n",
        "    return greeting\n",
        "\n",
        "# Using the function\n",
        "message = greet_customer(\"Sarah\")\n",
        "print(message)"
      ],
      "id": "8d390b48"
    },
    {
      "cell_type": "markdown",
      "metadata": {},
      "source": [
        "The anatomy of a function:\n",
        "\n",
        "-   `def` - tells Python we’re defining a function\n",
        "-   `greet_customer` - the function’s name (use descriptive names!)\n",
        "-   `(name)` - parameters (inputs) the function needs\n",
        "-   `\"\"\" \"\"\"` - docstring explaining function (optional, but good\n",
        "    practice)\n",
        "-   `return` - sends back the result\n",
        "\n",
        "> **Functions are like Coffee Recipes**\n",
        ">\n",
        "> Think of a function like a coffee recipe:\n",
        ">\n",
        "> -   **Inputs (parameters)**: Coffee beans, water, milk\n",
        "> -   **Process**: The brewing instructions\n",
        "> -   **Output (return)**: A delicious coffee drink\n",
        ">\n",
        "> Once you perfect the recipe, every barista can make the same great\n",
        "> coffee!\n",
        "\n",
        "## Exercise 1.1 - Standardize Drink Pricing\n",
        "\n",
        "Create a function called `calculate_drink_price` that takes the drink\n",
        "size and type, then returns the price.\n",
        "\n",
        "Bean Counter’s pricing:\n",
        "\n",
        "-   Espresso: Medium \\$3.00, Large \\$3.50\n",
        "-   Latte: Medium \\$4.75, Large \\$5.50\n",
        "-   Cappuccino: Medium \\$4.25, Large \\$5.00\n",
        "\n",
        "> **Before You Start**\n",
        ">\n",
        "> -   Use if/elif statements to handle different drink types\n",
        "> -   Make sure to return (not print) the price\n",
        "> -   Consider what to return if an invalid drink type is given"
      ],
      "id": "1b1188fd-7270-423d-a8f4-2bfe05c52b1f"
    },
    {
      "cell_type": "code",
      "execution_count": 2,
      "metadata": {},
      "outputs": [],
      "source": [
        "# YOUR CODE BELOW\n",
        "def calculate_drink_price(size, drink_type):\n",
        "    # Your pricing logic here"
      ],
      "id": "fa7013f8"
    },
    {
      "cell_type": "code",
      "execution_count": 4,
      "metadata": {},
      "outputs": [],
      "source": [
        "# Test your drink pricing function\n",
        "assert calculate_drink_price(\"large\", \"espresso\") == 3.50, \"Large espresso should be 3.50\"\n",
        "assert calculate_drink_price(\"medium\", \"latte\") == 4.75, \"Medium latte should be 4.75\"\n",
        "assert calculate_drink_price(\"large\", \"cappuccino\") == 5.00, \"Large cappuccino should be 5.00\"\n",
        "print(\"Excellent! Your pricing function works perfectly. No more pricing chaos at Bean Counter!\")"
      ],
      "id": "da8b6e9d"
    },
    {
      "cell_type": "markdown",
      "metadata": {},
      "source": [
        "## Exercise 1.2 - Loyalty Points Calculator\n",
        "\n",
        "Bean Counter rewards customer loyalty! Create a function\n",
        "`calculate_loyalty_points` that takes the purchase amount and returns\n",
        "points earned.\n",
        "\n",
        "Rules:\n",
        "\n",
        "-   Customers earn 1 point per dollar spent (rounded down)\n",
        "-   Purchases over \\$10 earn 1.5x points\n",
        "-   Purchases over \\$20 earn 2x points\n",
        "\n",
        "> **Tip**\n",
        ">\n",
        "> If you convert the purchase amount to an integer with `int()` before\n",
        "> calculating points, you’ll get an integer (round number) that is\n",
        "> rounded down."
      ],
      "id": "8a552f75-0d25-4baf-96f2-105c84bf3503"
    },
    {
      "cell_type": "code",
      "execution_count": 5,
      "metadata": {},
      "outputs": [],
      "source": [
        "# YOUR CODE BELOW\n",
        "def calculate_loyalty_points(purchase_amount):\n",
        "    # Calculate points based on purchase amount"
      ],
      "id": "f487987e"
    },
    {
      "cell_type": "code",
      "execution_count": 7,
      "metadata": {},
      "outputs": [],
      "source": [
        "# Test your loyalty points calculator\n",
        "assert calculate_loyalty_points(5.50) == 5, \"Should earn 5 points for $5.50\"\n",
        "assert calculate_loyalty_points(12.00) == 18, \"Should earn 18 points for $12 (1.5x bonus)\"\n",
        "assert calculate_loyalty_points(25.00) == 50, \"Should earn 50 points for $25 (2x bonus)\"\n",
        "print(\"Perfect! The loyalty program is now standardized across all locations!\")"
      ],
      "id": "3e5b1aef"
    },
    {
      "cell_type": "markdown",
      "metadata": {},
      "source": [
        "------------------------------------------------------------------------\n",
        "\n",
        "# Section 2 - Functions with Bean Counter Business Logic\n",
        "\n",
        "Now let’s add Bean Counter’s specific business rules to our functions.\n",
        "The CEO wants smart functions that can make decisions based on our\n",
        "business policies."
      ],
      "id": "7ec0c16c-fc5f-4bfe-8e7f-cb9aaf02a74d"
    },
    {
      "cell_type": "code",
      "execution_count": 8,
      "metadata": {},
      "outputs": [
        {
          "output_type": "stream",
          "name": "stdout",
          "text": [
            "Is it happy hour at 4 PM? True\n",
            "Is it happy hour at 6 PM? False"
          ]
        }
      ],
      "source": [
        "# Functions can contain complex business logic\n",
        "def check_happy_hour(hour):\n",
        "    \"\"\"Check if it's happy hour at Bean Counter (3 PM - 5 PM)\"\"\"\n",
        "    if hour >= 15 and hour < 17:\n",
        "        return True\n",
        "    else:\n",
        "        return False\n",
        "\n",
        "# Test the function\n",
        "print(f\"Is it happy hour at 4 PM? {check_happy_hour(16)}\")\n",
        "print(f\"Is it happy hour at 6 PM? {check_happy_hour(18)}\")"
      ],
      "id": "b0db6e09"
    },
    {
      "cell_type": "markdown",
      "metadata": {},
      "source": [
        "> **Common Mistake**\n",
        ">\n",
        "> Don’t forget to return a value! If you use print instead of return,\n",
        "> other functions won’t be able to use the result.\n",
        ">\n",
        "> ``` python\n",
        "> # Wrong:\n",
        "> def calculate_tax(amount):\n",
        ">     print(amount * 0.08)  # This just displays the value\n",
        ">\n",
        "> # Right:\n",
        "> def calculate_tax(amount):\n",
        ">     return amount * 0.08  # This returns the value for use\n",
        "> ```\n",
        "\n",
        "## Exercise 2.1 - Bean Freshness Checker\n",
        "\n",
        "Create a function `check_bean_freshness` that determines if coffee beans\n",
        "are fresh enough to use.\n",
        "\n",
        "Bean Counter’s freshness standards:\n",
        "\n",
        "-   Beans are fresh for 14 days after roasting\n",
        "-   Beans are acceptable for 21 days (but need manager approval)\n",
        "-   After 21 days, beans must be discarded\n",
        "-   Return: “fresh”, “manager_approval”, or “discard”"
      ],
      "id": "a7e6457c-f47f-4da1-bec5-2781846f423b"
    },
    {
      "cell_type": "code",
      "execution_count": 9,
      "metadata": {},
      "outputs": [],
      "source": [
        "# YOUR CODE BELOW\n",
        "def check_bean_freshness(days_since_roasting):\n",
        "    # Check freshness and return status as string"
      ],
      "id": "fe944c82"
    },
    {
      "cell_type": "code",
      "execution_count": 11,
      "metadata": {},
      "outputs": [],
      "source": [
        "# Test your freshness checker\n",
        "assert check_bean_freshness(10) == \"fresh\", \"10-day old beans should be fresh\"\n",
        "assert check_bean_freshness(18) == \"manager_approval\", \"18-day old beans need approval\"\n",
        "assert check_bean_freshness(25) == \"discard\", \"25-day old beans must be discarded\"\n",
        "print(\"Excellent! Quality control is now standardized!\")"
      ],
      "id": "21474ea6"
    },
    {
      "cell_type": "markdown",
      "metadata": {},
      "source": [
        "## Exercise 2.2 - Smart Discount Function\n",
        "\n",
        "Create a function `apply_discount` that applies Bean Counter’s discount\n",
        "policies:\n",
        "\n",
        "-   Happy hour (use 24-hour format): 15% off\n",
        "-   Senior discount (age 65+): 10% off\n",
        "-   Student discount (with valid ID): 10% off\n",
        "-   Discounts don’t stack - apply the best one!\n",
        "\n",
        "Return the discounted price rounded to two decimals.\n",
        "\n",
        "> **Tip**\n",
        ">\n",
        "> To round a number to two decimals, use the `round()` function. For\n",
        "> example, to round the result of a division or multiplacation that\n",
        "> results in `2.14159` to two decimals, use `round(2.14159, 2)`."
      ],
      "id": "22219996-7e62-455b-96cf-36feef90d8d6"
    },
    {
      "cell_type": "code",
      "execution_count": 12,
      "metadata": {},
      "outputs": [],
      "source": [
        "# YOUR CODE BELOW\n",
        "def apply_discount(original_price, hour, is_senior, is_student):\n",
        "    # Apply the best available discount\n",
        "    # Tip: Use a variable to keep track of the best discount and start with the lowest"
      ],
      "id": "53193439"
    },
    {
      "cell_type": "code",
      "execution_count": 14,
      "metadata": {},
      "outputs": [],
      "source": [
        "# Test your discount function\n",
        "assert apply_discount(10.00, 16, False, False) == 8.50, \"Happy hour should give 15% off\"\n",
        "assert apply_discount(10.00, 12, True, False) == 9.00, \"Senior discount should give 10% off\"\n",
        "assert apply_discount(10.00, 16, True, False) == 8.50, \"Should apply best discount (happy hour 15%)\"\n",
        "assert apply_discount(10.00, 12, False, False) == 10.00, \"No discount applies\"\n",
        "print(\"Great work! Your discount system is working perfectly!\")"
      ],
      "id": "0a6cf6ff"
    },
    {
      "cell_type": "markdown",
      "metadata": {},
      "source": [
        "------------------------------------------------------------------------\n",
        "\n",
        "# Section 3 - Functions Calling Other Functions\n",
        "\n",
        "The real power of functions comes when they work together! Just like how\n",
        "making a latte involves grinding beans, pulling espresso, and steaming\n",
        "milk, complex operations can be built from simpler functions."
      ],
      "id": "e0923c64-5ef0-41b3-ab64-1c488452a92a"
    },
    {
      "cell_type": "code",
      "execution_count": 15,
      "metadata": {},
      "outputs": [
        {
          "output_type": "stream",
          "name": "stdout",
          "text": [
            "Subtotal: $10.0\n",
            "Total with tax: $10.8"
          ]
        }
      ],
      "source": [
        "# Functions can call other functions\n",
        "def calculate_tax(amount):\n",
        "    \"\"\"Calculate 8% sales tax\"\"\"\n",
        "    return amount * 0.08\n",
        "\n",
        "def calculate_total_with_tax(amount):\n",
        "    \"\"\"Calculate total including tax\"\"\"\n",
        "    tax = calculate_tax(amount)  # Calling another function!\n",
        "    total = amount + tax\n",
        "    return round(total, 2)\n",
        "\n",
        "# Test it\n",
        "price = 10.00\n",
        "print(f\"Subtotal: ${price}\")\n",
        "print(f\"Total with tax: ${calculate_total_with_tax(price)}\")"
      ],
      "id": "29a49431"
    },
    {
      "cell_type": "markdown",
      "metadata": {},
      "source": [
        "> **Modular Design**\n",
        ">\n",
        "> Breaking complex operations into smaller functions is like having\n",
        "> specialized baristas:\n",
        ">\n",
        "> -   One expert at espresso\n",
        "> -   One expert at latte art\n",
        "> -   One expert at customer service\n",
        ">\n",
        "> Together, they create the coffee shop experience!\n",
        "\n",
        "## Exercise 3.1 - Order Validation System\n",
        "\n",
        "Create a function `validate_order` that checks if an order can be\n",
        "fulfilled:\n",
        "\n",
        "-   Check bean freshness (use your `check_bean_freshness` function)\n",
        "-   Verify the drink type is valid (espresso, latte, or cappuccino)\n",
        "-   Return a boolean (True or False) stating if we `can_fulfill` the\n",
        "    order\n",
        "\n",
        "> **Using Previous Functions**\n",
        ">\n",
        "> You can use the `check_bean_freshness()` function you created in\n",
        "> Exercise 2.1. Just call it inside your new function!"
      ],
      "id": "33d5468b-05a5-4381-a94c-cc6e0281861c"
    },
    {
      "cell_type": "code",
      "execution_count": 16,
      "metadata": {},
      "outputs": [],
      "source": [
        "# YOUR CODE BELOW\n",
        "def validate_order(drink_type, days_since_roasting):\n",
        "    # Validate the order and return can_fulfill"
      ],
      "id": "591d962d"
    },
    {
      "cell_type": "code",
      "execution_count": 18,
      "metadata": {},
      "outputs": [],
      "source": [
        "# Test your validation system\n",
        "result = validate_order(\"latte\", 10)\n",
        "assert result == True, \"Fresh beans should approve order\"\n",
        "result = validate_order(\"espresso\", 19)\n",
        "assert result == True, \"Should need manager approval\"\n",
        "result = validate_order(\"mocha\", 5)\n",
        "assert result == False, \"Should reject invalid drinks\"\n",
        "print(\"Perfect! Your validation system ensures quality at every Bean Counter location!\")"
      ],
      "id": "bccfb1e6"
    },
    {
      "cell_type": "markdown",
      "metadata": {},
      "source": [
        "------------------------------------------------------------------------\n",
        "\n",
        "# Section 4 - Methods vs Functions\n",
        "\n",
        "Before we dive into returning multiple values, let’s clarify an\n",
        "important distinction: **methods** vs **functions**. At Bean Counter,\n",
        "you’ll use both!\n",
        "\n",
        "**Functions** stand alone - you call them by name:\n",
        "\n",
        "``` python\n",
        "calculate_price(size, type)  # Our function from earlier\n",
        "len(orders)  # Built-in function\n",
        "```\n",
        "\n",
        "**Methods** belong to objects - you call them WITH a dot:\n",
        "\n",
        "``` python\n",
        "orders.append(\"latte\")  # List method - adds item\n",
        "orders.remove(\"espresso\")  # List method - removes item\n",
        "```"
      ],
      "id": "b9c43b7f-3667-4b66-981c-efdfab74e516"
    },
    {
      "cell_type": "code",
      "execution_count": 19,
      "metadata": {},
      "outputs": [
        {
          "output_type": "stream",
          "name": "stdout",
          "text": [
            "Original orders: ['latte', 'espresso', 'cappuccino']\n",
            "After .append('mocha'): ['latte', 'espresso', 'cappuccino', 'mocha']\n",
            "After .remove('espresso'): ['latte', 'cappuccino', 'mocha']\n",
            "Function count_drinks(): 3 drinks\n",
            "Function len(): 3 drinks"
          ]
        }
      ],
      "source": [
        "# Functions vs Methods in action at Bean Counter\n",
        "\n",
        "# FUNCTIONS work on data\n",
        "def count_drinks(order_list):\n",
        "    \"\"\"Function: counts drinks in an order\"\"\"\n",
        "    return len(order_list)  # len() is also a function!\n",
        "\n",
        "# METHODS belong to the data\n",
        "morning_orders = [\"latte\", \"espresso\", \"cappuccino\"]\n",
        "print(f\"Original orders: {morning_orders}\")\n",
        "\n",
        "# Using list METHODS (with dot notation)\n",
        "morning_orders.append(\"mocha\")  # Add to end (you learned this in Notebook 1.2)\n",
        "print(f\"After .append('mocha'): {morning_orders}\")\n",
        "\n",
        "# New method: .remove() removes the first occurrence of a value\n",
        "morning_orders.remove(\"espresso\")  # Remove specific item\n",
        "print(f\"After .remove('espresso'): {morning_orders}\")\n",
        "\n",
        "# Using FUNCTIONS (no dot)\n",
        "total = count_drinks(morning_orders)\n",
        "print(f\"Function count_drinks(): {total} drinks\")\n",
        "print(f\"Function len(): {len(morning_orders)} drinks\")"
      ],
      "id": "28c8c272"
    },
    {
      "cell_type": "markdown",
      "metadata": {},
      "source": [
        "> **Functions vs Methods Quick Guide**\n",
        ">\n",
        "> **Functions:**\n",
        ">\n",
        "> -   Stand alone: `function_name(arguments)`\n",
        "> -   Example: `len(my_list)`, `sum(numbers)`, `print(text)`\n",
        ">\n",
        "> **Methods:**\n",
        ">\n",
        "> -   Belong to objects: `object.method_name(arguments)`\n",
        "> -   Example: `my_list.append(item)`, `my_list.remove(item)`,\n",
        ">     `my_list.clear()`\n",
        ">\n",
        "> Think of it this way: - Functions are like Bean Counter tools anyone\n",
        "> can use - Methods are built into the objects themselves\n",
        "\n",
        "## Exercise 4.1 - Order Queue Manager\n",
        "\n",
        "Create a function that manages Bean Counter’s morning rush order queue\n",
        "using list methods."
      ],
      "id": "a12d0ed4-34f6-42b7-9916-2029843c1082"
    },
    {
      "cell_type": "code",
      "execution_count": 20,
      "metadata": {},
      "outputs": [],
      "source": [
        "# YOUR CODE BELOW\n",
        "def manage_order_queue(current_queue, new_order, completed_order):\n",
        "    \"\"\"\n",
        "    Manage the order queue during morning rush\n",
        "    - Add new order to the end of queue\n",
        "    - Remove completed order from queue\n",
        "    - Return the updated queue length\n",
        "    \"\"\"\n",
        "    # Step 1: Add new_order to the queue using .append()\n",
        "\n",
        "    # Step 2: Remove completed_order from queue using .remove()\n",
        "\n",
        "    # Step 3: Return the queue length (use len() function)\n",
        "\n",
        "    return queue_length"
      ],
      "id": "8c4a8b01"
    },
    {
      "cell_type": "code",
      "execution_count": 22,
      "metadata": {},
      "outputs": [],
      "source": [
        "# Test queue manager\n",
        "queue = [\"latte\", \"espresso\", \"cappuccino\"]\n",
        "initial_length = len(queue)\n",
        "\n",
        "# First test\n",
        "length1 = manage_order_queue(queue, \"americano\", \"latte\")\n",
        "assert \"americano\" in queue, \"Should add americano to queue\"\n",
        "assert \"latte\" not in queue, \"Should remove latte from queue\"\n",
        "assert length1 == 3, \"Queue should still have 3 items\"\n",
        "\n",
        "# Second test\n",
        "length2 = manage_order_queue(queue, \"mocha\", \"espresso\")\n",
        "assert \"mocha\" in queue, \"Should add mocha to queue\"\n",
        "assert \"espresso\" not in queue, \"Should remove espresso from queue\"\n",
        "assert length2 == 3, \"Queue should still have 3 items\"\n",
        "\n",
        "print(\"Excellent! Your order queue system keeps the morning rush flowing smoothly!\")"
      ],
      "id": "1e7e2fbf"
    },
    {
      "cell_type": "markdown",
      "metadata": {},
      "source": [
        "------------------------------------------------------------------------\n",
        "\n",
        "# Section 5 - Returning Multiple Values with Tuples\n",
        "\n",
        "As Assistant Manager, you often need to report multiple pieces of\n",
        "information at once. Python’s **tuples** let functions return multiple\n",
        "values - perfect for analytics and reporting!\n",
        "\n",
        "A tuple is an immutable (unchangeable) sequence of values, perfect for\n",
        "returning multiple related values from a function."
      ],
      "id": "3f1087d1-7206-4573-8ca8-04b188aebb7e"
    },
    {
      "cell_type": "code",
      "execution_count": 23,
      "metadata": {},
      "outputs": [
        {
          "output_type": "stream",
          "name": "stdout",
          "text": [
            "Profit: $3.50\n",
            "Margin: 70.0%"
          ]
        }
      ],
      "source": [
        "# Functions can return multiple values using tuples\n",
        "def analyze_sale(price, cost):\n",
        "    \"\"\"\n",
        "    Calculate both profit and margin for a sale\n",
        "    \"\"\"\n",
        "    profit = price - cost\n",
        "    margin = (profit / price) * 100\n",
        "    return (profit, margin)  # Return as a tuple\n",
        "\n",
        "# Unpacking the returned tuple\n",
        "profit_amount, profit_margin = analyze_sale(5.00, 1.50)\n",
        "print(f\"Profit: ${profit_amount:.2f}\")\n",
        "print(f\"Margin: {profit_margin:.1f}%\")"
      ],
      "id": "064c97ba"
    },
    {
      "cell_type": "markdown",
      "metadata": {},
      "source": [
        "> **Tuple Unpacking**\n",
        ">\n",
        "> When a function returns multiple values, you can “unpack” them\n",
        "> directly:\n",
        ">\n",
        "> ``` python\n",
        "> min_val, max_val, avg_val = calculate_statistics(data)\n",
        "> ```\n",
        ">\n",
        "> This is cleaner than:\n",
        ">\n",
        "> ``` python\n",
        "> result = calculate_statistics(data)\n",
        "> min_val = result[0]\n",
        "> max_val = result[1]\n",
        "> avg_val = result[2]\n",
        "> ```\n",
        "\n",
        "> **Tuples vs Lists**\n",
        ">\n",
        "> -   **Tuples** use parentheses () and cannot be changed after creation\n",
        "> -   **Lists** use square brackets \\[\\] and can be modified\n",
        "> -   Use tuples when returning multiple values from functions\n",
        "> -   Use lists when you need to modify the collection\n",
        "\n",
        "## Exercise 5.1 - Daily Sales Analytics\n",
        "\n",
        "Create a function `analyze_daily_sales` that takes a list of sale\n",
        "amounts and returns three values as a tuple:\n",
        "\n",
        "1.  Total sales for the day\n",
        "2.  Average sale amount\n",
        "3.  Number of transactions"
      ],
      "id": "71675c17-a4ad-4178-936f-8db7265d5f9e"
    },
    {
      "cell_type": "code",
      "execution_count": 24,
      "metadata": {},
      "outputs": [],
      "source": [
        "# YOUR CODE BELOW\n",
        "def analyze_daily_sales(sales_list):\n",
        "    # Calculate and return (total, average, count) as tuple"
      ],
      "id": "2ff1162a"
    },
    {
      "cell_type": "code",
      "execution_count": 26,
      "metadata": {},
      "outputs": [],
      "source": [
        "# Test your sales analytics function\n",
        "sales = [12.50, 8.75, 15.00, 6.25, 22.00]\n",
        "total, avg, count = analyze_daily_sales(sales)\n",
        "assert total == 64.50, \"Total should be $64.50\"\n",
        "assert avg == 12.90, \"Average should be $12.90\"\n",
        "assert count == 5, \"Should have 5 transactions\"\n",
        "print(\"Excellent analytics! You can now track Bean Counter's performance across all locations!\")"
      ],
      "id": "2a25b5f5"
    },
    {
      "cell_type": "markdown",
      "metadata": {},
      "source": [
        "## Exercise 5.2 - Barista Performance Evaluation\n",
        "\n",
        "Create a function `evaluate_barista_performance` that takes:\n",
        "\n",
        "-   List of drink preparation times (in seconds)\n",
        "-   List of customer ratings (1-5 as integter (customer stars))\n",
        "\n",
        "Returns a tuple with:\n",
        "\n",
        "1.  Average preparation time\n",
        "2.  Average customer rating\n",
        "3.  Performance level (“excellent”, “good”, “needs_improvement”)\n",
        "\n",
        "Performance levels:\n",
        "\n",
        "-   “excellent”: avg time \\< 90 seconds AND rating \\>= 4.5\n",
        "-   “good”: avg time \\< 120 seconds AND rating \\>= 4.0\n",
        "-   “needs_improvement”: otherwise\n",
        "\n",
        "> **Tip**\n",
        ">\n",
        "> For robustness, it is nice to handle the case where the input lists\n",
        "> might be empty. For example, if empty, return (0, 0,\n",
        "> “needs_improvement”)."
      ],
      "id": "057cb03f-fcc8-403a-8a2a-bfff6592d072"
    },
    {
      "cell_type": "code",
      "execution_count": 27,
      "metadata": {},
      "outputs": [],
      "source": [
        "# YOUR CODE BELOW\n",
        "def evaluate_barista_performance(prep_times, ratings):\n",
        "    # Calculate metrics and determine performance level"
      ],
      "id": "dc357752"
    },
    {
      "cell_type": "code",
      "execution_count": 29,
      "metadata": {},
      "outputs": [],
      "source": [
        "# Test your barista evaluation function\n",
        "times = [85, 92, 78, 88, 95]\n",
        "ratings = [4.5, 5, 4.5, 5, 4.5]\n",
        "avg_time, avg_rating, level = evaluate_barista_performance(times, ratings)\n",
        "assert avg_time == 87.6, \"Average time should be 87.6 seconds\"\n",
        "assert avg_rating == 4.7, \"Average rating should be 4.7\"\n",
        "assert level == \"excellent\", \"Should be excellent performance\"\n",
        "\n",
        "# Test a barista who needs improvement\n",
        "slow_times = [150, 140, 160, 145]\n",
        "low_ratings = [3, 3.5, 3, 4]\n",
        "time2, rating2, level2 = evaluate_barista_performance(slow_times, low_ratings)\n",
        "assert level2 == \"needs_improvement\", \"Slow service should need improvement\"\n",
        "\n",
        "print(\"Great job! You can now evaluate and coach baristas across all Bean Counter locations!\")"
      ],
      "id": "724445ae"
    },
    {
      "cell_type": "markdown",
      "metadata": {},
      "source": [
        "------------------------------------------------------------------------\n",
        "\n",
        "# Conclusion\n",
        "\n",
        "**Congratulations! You’ve successfully standardized Bean Counter’s\n",
        "operations as Assistant Manager!**\n",
        "\n",
        "**You’ve learned:**\n",
        "\n",
        "-   **Functions** - Reusable code blocks that standardize operations\n",
        "-   **Parameters & Return** - How to pass data in and get results back\n",
        "-   **Business Logic** - Adding smart decision-making to functions\n",
        "-   **Functions Calling Functions** - Building complex operations from\n",
        "    simple parts\n",
        "-   **Methods vs Functions** - Understanding the difference and when to\n",
        "    use each\n",
        "-   **Tuples** - Returning multiple values from a single function\n",
        "\n",
        "**Your Bean Counter standardization system can now:**\n",
        "\n",
        "-   Calculate consistent prices across all locations\n",
        "-   Apply discounts fairly and automatically\n",
        "-   Check quality standards for coffee beans\n",
        "-   Validate orders before processing\n",
        "-   Analyze daily performance metrics\n",
        "-   Evaluate barista performance objectively\n",
        "\n",
        "**Remember:**\n",
        "\n",
        "-   Use `def` to create functions with descriptive names\n",
        "-   Functions make code reusable - write once, use many times\n",
        "-   Parameters let functions work with different data\n",
        "-   `return` sends results back for other code to use\n",
        "-   Methods belong to objects (with dots), functions stand alone\n",
        "-   Tuples let you return multiple values at once\n",
        "\n",
        "**What’s Next:** The CEO is impressed with your work! In the next\n",
        "tutorial, you’ll be promoted to **Regional Manager**, where you’ll use\n",
        "**dictionaries** to manage data across all Bean Counter locations.\n",
        "You’ll track inventory, analyze performance metrics, and optimize\n",
        "operations across the entire chain!\n",
        "\n",
        "# Solutions\n",
        "\n",
        "You will likely find solutions to most exercises online. However, I\n",
        "strongly encourage you to work on these exercises independently without\n",
        "searching explicitly for the exact answers to the exercises.\n",
        "Understanding someone else’s solution is very different from developing\n",
        "your own. Use the lecture notes and try to solve the exercises on your\n",
        "own. This approach will significantly enhance your learning and\n",
        "problem-solving skills.\n",
        "\n",
        "Remember, the goal is not just to complete the exercises, but to\n",
        "understand the concepts and improve your programming abilities. If you\n",
        "encounter difficulties, review the lecture materials, experiment with\n",
        "different approaches, and don’t hesitate to ask for clarification during\n",
        "class discussions."
      ],
      "id": "c4968118-8f87-45bd-bacb-68fcb3e5504a"
    }
  ],
  "nbformat": 4,
  "nbformat_minor": 5,
  "metadata": {
    "kernelspec": {
      "name": "python3",
      "display_name": "Python 3 (ipykernel)",
      "language": "python",
      "path": "/Users/vlcek/Documents/git-teaching/Management-Science/.venv/share/jupyter/kernels/python3"
    },
    "language_info": {
      "name": "python",
      "codemirror_mode": {
        "name": "ipython",
        "version": "3"
      },
      "file_extension": ".py",
      "mimetype": "text/x-python",
      "nbconvert_exporter": "python",
      "pygments_lexer": "ipython3",
      "version": "3.12.11"
    }
  }
}