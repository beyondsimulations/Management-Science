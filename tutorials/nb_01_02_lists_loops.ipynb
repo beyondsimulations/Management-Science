{
  "cells": [
    {
      "cell_type": "markdown",
      "metadata": {},
      "source": [
        "# Notebook 1.2 - Lists & Basic Loops\n",
        "\n",
        "Management Science\n",
        "\n",
        "# Introduction\n",
        "\n",
        "Welcome to your second interactive Python tutorial!\n",
        "\n",
        "**The Weekly Sales Analyzer Problem**\n",
        "\n",
        "You’ve been promoted at Bean Counter coffee shop! The manager is\n",
        "impressed with your calculator skills and now wants you to analyze the\n",
        "shop’s sales data. Every day, the shop records its total sales, and at\n",
        "the end of the week, management needs to know: What was our best day?\n",
        "What’s our average? Are we improving?\n",
        "\n",
        "With just variables, you’d need hundreds of them to track a month’s\n",
        "worth of data. That’s where lists and loops come in - they’re the\n",
        "perfect tools for handling collections of data!\n",
        "\n",
        "In this tutorial, we’ll learn about lists and loops to build a sales\n",
        "analysis system that can handle any amount of data and give you insights\n",
        "at a glance.\n",
        "\n",
        "> **Note**\n",
        ">\n",
        "> If a cell is marked with YOUR CODE BELOW, you are expected to write\n",
        "> your code in that cell.\n",
        "\n",
        "# Section 1 - Creating and Accessing Lists\n",
        "\n",
        "Lists are ordered collections that can store multiple values. Think of\n",
        "them as a row of boxes, each containing a piece of data, numbered\n",
        "starting from 0.\n",
        "\n",
        "> **Tip**\n",
        ">\n",
        "> It really needs some time getting used to the notation that the first\n",
        "> element is stored as 0 in Python!"
      ],
      "id": "20ff2cb3-06b5-4192-b969-db1951ec319f"
    },
    {
      "cell_type": "code",
      "execution_count": 1,
      "metadata": {},
      "outputs": [
        {
          "output_type": "stream",
          "name": "stdout",
          "text": [
            "Monday sales: $1250.5\n",
            "Friday sales: $2150.0\n",
            "All sales: [1250.5, 1380.25, 1425.0, 1890.75, 2150.0]"
          ]
        }
      ],
      "source": [
        "# A list of daily sales for the week (Monday to Friday)\n",
        "daily_sales = [1250.50, 1380.25, 1425.00, 1890.75, 2150.00]\n",
        "\n",
        "# Accessing individual days (note: counting starts at 0 in Python!)\n",
        "monday = daily_sales[0]\n",
        "friday = daily_sales[4]\n",
        "\n",
        "print(f\"Monday sales: ${monday}\")\n",
        "print(f\"Friday sales: ${friday}\")\n",
        "print(f\"All sales: {daily_sales}\")"
      ],
      "id": "df33d708"
    },
    {
      "cell_type": "markdown",
      "metadata": {},
      "source": [
        "> **List Indexing:**\n",
        ">\n",
        "> -   First item: `list[0]`\n",
        "> -   Last item: `list[-1]`\n",
        "> -   Second to last: `list[-2]`\n",
        "> -   Python counts from 0, not 1!\n",
        "\n",
        "We can also use slicing to access multiple elements at once. For\n",
        "example, to get the sales for Tuesday through Thursday:"
      ],
      "id": "e22f1c67-a099-4c1b-9f42-85165a5b5a8f"
    },
    {
      "cell_type": "code",
      "execution_count": 2,
      "metadata": {},
      "outputs": [
        {
          "output_type": "stream",
          "name": "stdout",
          "text": [
            "Midweek sales: [1380.25, 1425.0, 1890.75]"
          ]
        }
      ],
      "source": [
        "midweek = daily_sales[1:4]\n",
        "print(f\"Midweek sales: {midweek}\")"
      ],
      "id": "537d6c86"
    },
    {
      "cell_type": "markdown",
      "metadata": {},
      "source": [
        "If we want to access the sales for Wednesday and Thursday, we can use\n",
        "slicing as well:"
      ],
      "id": "2f0dde6b-d38d-445f-8cd2-41fb98189521"
    },
    {
      "cell_type": "code",
      "execution_count": 3,
      "metadata": {},
      "outputs": [
        {
          "output_type": "stream",
          "name": "stdout",
          "text": [
            "Wednesday and Thursday sales: [1425.0, 1890.75]"
          ]
        }
      ],
      "source": [
        "wed_thu = daily_sales[2:4]\n",
        "print(f\"Wednesday and Thursday sales: {wed_thu}\")"
      ],
      "id": "8fe519f6"
    },
    {
      "cell_type": "markdown",
      "metadata": {},
      "source": [
        "In case we only provide the second index, Python will assume we want all\n",
        "elements up to that index:"
      ],
      "id": "5909fddc-5df5-4c31-ae16-155e3cbd3f23"
    },
    {
      "cell_type": "code",
      "execution_count": 4,
      "metadata": {},
      "outputs": [
        {
          "output_type": "stream",
          "name": "stdout",
          "text": [
            "First three days sales: [1250.5, 1380.25, 1425.0]"
          ]
        }
      ],
      "source": [
        "first_three = daily_sales[:3]\n",
        "print(f\"First three days sales: {first_three}\")"
      ],
      "id": "16a8e70a"
    },
    {
      "cell_type": "markdown",
      "metadata": {},
      "source": [
        "> **Tip**\n",
        ">\n",
        "> Note, how the second index is exclusive, meaning it does not include\n",
        "> the element at that index!\n",
        "\n",
        "## Exercise 1.1 - Create Your Sales List\n",
        "\n",
        "Create a list called `weekend_sales` with Saturday’s sales of \\$2340.50\n",
        "and Sunday’s sales of \\$1890.25. Then access and store Sunday’s sales in\n",
        "a variable called `sunday_total`."
      ],
      "id": "bf82543c-3193-4c9b-aeba-5d7cf547e0c8"
    },
    {
      "cell_type": "code",
      "execution_count": 5,
      "metadata": {},
      "outputs": [],
      "source": [
        "# YOUR CODE BELOW"
      ],
      "id": "ffc67cae"
    },
    {
      "cell_type": "code",
      "execution_count": 7,
      "metadata": {},
      "outputs": [],
      "source": [
        "# Test your answer\n",
        "assert weekend_sales == [2340.50, 1890.25], \"weekend_sales should be [2340.50, 1890.25]\"\n",
        "assert sunday_total == 1890.25, \"sunday_total should be 1890.25 (the second element)\"\n",
        "print(\"Great! You've created your first list and accessed its elements!\")"
      ],
      "id": "6a167439"
    },
    {
      "cell_type": "markdown",
      "metadata": {},
      "source": [
        "## Exercise 1.2 - List Slicing\n",
        "\n",
        "List slicing lets you grab multiple elements at once. Given the weekly\n",
        "sales:\n",
        "\n",
        "``` python\n",
        "week_sales = [1250.50, 1380.25, 1425.00, 1890.75, 2150.00, 2340.50, 1890.25]\n",
        "```\n",
        "\n",
        "Extract:\n",
        "\n",
        "-   `midweek` (Tuesday through Thursday - indices 1, 2, 3)\n",
        "-   `last_three` (the last three days)"
      ],
      "id": "e96c7edd-6d48-4fdd-b3de-93e63b9cbaff"
    },
    {
      "cell_type": "code",
      "execution_count": 8,
      "metadata": {},
      "outputs": [],
      "source": [
        "# YOUR CODE BELOW\n",
        "week_sales = [1250.50, 1380.25, 1425.00, 1890.75, 2150.00, 2340.50, 1890.25]"
      ],
      "id": "f2a330b2"
    },
    {
      "cell_type": "code",
      "execution_count": 10,
      "metadata": {},
      "outputs": [],
      "source": [
        "# Test your answer\n",
        "assert midweek == [1380.25, 1425.00, 1890.75], \"midweek should contain Tuesday through Thursday\"\n",
        "assert last_three == [2150.00, 2340.50, 1890.25], \"last_three should contain the last three days\"\n",
        "print(\"Excellent! You've mastered list slicing!\")"
      ],
      "id": "e2e306b4"
    },
    {
      "cell_type": "markdown",
      "metadata": {},
      "source": [
        "# Section 2 - List Operations: append() and len()\n",
        "\n",
        "Lists are dynamic - you can add items and check their size."
      ],
      "id": "30c39030-99ec-4987-b783-b615442dc444"
    },
    {
      "cell_type": "code",
      "execution_count": 11,
      "metadata": {},
      "outputs": [
        {
          "output_type": "stream",
          "name": "stdout",
          "text": [
            "Morning sales: [23, 45, 67]\n",
            "Number of hours tracked: 3\n",
            "After adding afternoon: [23, 45, 67, 54, 38]\n",
            "Now tracking 5 hours"
          ]
        }
      ],
      "source": [
        "# Start with morning coffee sales\n",
        "coffee_sales = [23, 45, 67]\n",
        "print(f\"Morning sales: {coffee_sales}\")\n",
        "print(f\"Number of hours tracked: {len(coffee_sales)}\")\n",
        "\n",
        "# Add afternoon sales\n",
        "coffee_sales.append(54)\n",
        "coffee_sales.append(38)\n",
        "print(f\"After adding afternoon: {coffee_sales}\")\n",
        "print(f\"Now tracking {len(coffee_sales)} hours\")"
      ],
      "id": "20638191"
    },
    {
      "cell_type": "markdown",
      "metadata": {},
      "source": [
        "> **Common Mistake**\n",
        ">\n",
        "> `append()` modifies the list directly and returns None!\n",
        ">\n",
        "> ``` python\n",
        "> # Wrong:\n",
        "> new_list = my_list.append(5)  # new_list will be None!\n",
        ">\n",
        "> # Right:\n",
        "> my_list.append(5)  # Modifies my_list directly\n",
        "> ```\n",
        "\n",
        "## Exercise 2.1 - Building a Customer Count List\n",
        "\n",
        "Start with an empty list and build up hourly customer counts for the\n",
        "morning shift:\n",
        "\n",
        "-   8 AM: 15 customers\n",
        "-   9 AM: 32 customers\n",
        "-   10 AM: 28 customers\n",
        "-   11 AM: 41 customers\n",
        "\n",
        "Also store the total number of hours tracked as `hours_tracked`.\n",
        "\n",
        "> **Tip**\n",
        ">\n",
        "> You can use the `len()` function to find the length of the list."
      ],
      "id": "4bbe3d32-0046-42fe-8167-578d3ddc3626"
    },
    {
      "cell_type": "code",
      "execution_count": 12,
      "metadata": {},
      "outputs": [],
      "source": [
        "customer_counts = []\n",
        "hours_tracked = 0\n",
        "# YOUR CODE BELOW"
      ],
      "id": "0f977ff9"
    },
    {
      "cell_type": "code",
      "execution_count": 13,
      "metadata": {},
      "outputs": [],
      "source": [
        "# Test your answer\n",
        "assert customer_counts == [15, 32, 28, 41], \"customer_counts should be [15, 32, 28, 41]\"\n",
        "assert hours_tracked == 4, \"hours_tracked should be 4\"\n",
        "print(\"Perfect! You can build lists dynamically and check their length!\")"
      ],
      "id": "f99c0278"
    },
    {
      "cell_type": "markdown",
      "metadata": {},
      "source": [
        "## Exercise 2.2 - Combining Lists\n",
        "\n",
        "You have morning and afternoon sales. Combine them into a full day’s\n",
        "record called `full_day` and compute the total number of transactions as\n",
        "`total_transactions`.\n",
        "\n",
        "> **Tip**\n",
        ">\n",
        "> To combine lists, you can simply use the `+` operator."
      ],
      "id": "cfe8c70a-a806-4e25-a9bc-6251d3f335e1"
    },
    {
      "cell_type": "code",
      "execution_count": 15,
      "metadata": {},
      "outputs": [],
      "source": [
        "morning_sales = [245.50, 189.25, 156.00]\n",
        "afternoon_sales = [312.75, 298.50, 401.25, 389.00]\n",
        "# YOUR CODE BELOW"
      ],
      "id": "8e6d7c1e"
    },
    {
      "cell_type": "code",
      "execution_count": 17,
      "metadata": {},
      "outputs": [],
      "source": [
        "# Test your answer\n",
        "assert full_day == [245.50, 189.25, 156.00, 312.75, 298.50, 401.25, 389.00], \"full_day should combine both lists\"\n",
        "assert total_transactions == 7, \"total_transactions should be 7\"\n",
        "print(\"✓ Excellent! You can combine lists and track their size!\")"
      ],
      "id": "650444ad"
    },
    {
      "cell_type": "markdown",
      "metadata": {},
      "source": [
        "# Section 3 - For Loops for Iteration\n",
        "\n",
        "Loops let us process each item in a list automatically. No more\n",
        "accessing items one by one!"
      ],
      "id": "49f945d5-802b-428d-9aef-08372518c2a2"
    },
    {
      "cell_type": "code",
      "execution_count": 18,
      "metadata": {},
      "outputs": [
        {
          "output_type": "stream",
          "name": "stdout",
          "text": [
            "Daily Sales Report:\n",
            "  Sale: $125.5\n",
            "  Sale: $89.25\n",
            "  Sale: $156.0\n",
            "  Sale: $201.75\n",
            "\n",
            "Commissions earned:\n",
            "  $6.28\n",
            "  $4.46\n",
            "  $7.80\n",
            "  $10.09"
          ]
        }
      ],
      "source": [
        "# Process each sale in our list\n",
        "sales = [125.50, 89.25, 156.00, 201.75]\n",
        "\n",
        "print(\"Daily Sales Report:\")\n",
        "for sale in sales:\n",
        "    print(f\"  Sale: ${sale}\")\n",
        "\n",
        "# Calculate commission (5% of each sale)\n",
        "print(\"\\nCommissions earned:\")\n",
        "for sale in sales:\n",
        "    commission = sale * 0.05\n",
        "    print(f\"  ${commission:.2f}\")"
      ],
      "id": "c9ce25da"
    },
    {
      "cell_type": "markdown",
      "metadata": {},
      "source": [
        "> **For Loop Syntax:**\n",
        ">\n",
        "> ``` python\n",
        "> for item in list:\n",
        ">     # Do something with item\n",
        ">     # This code runs for each item\n",
        "> ```\n",
        ">\n",
        "> The variable name after `for` can be anything - choose something\n",
        "> descriptive!\n",
        "\n",
        "## Exercise 3.1 - Calculate Total Sales\n",
        "\n",
        "Calculate the total of all prices in a list and also count how many\n",
        "items there are."
      ],
      "id": "a09a6d8d-93cb-4a64-bb60-52b3704d3799"
    },
    {
      "cell_type": "code",
      "execution_count": 19,
      "metadata": {},
      "outputs": [],
      "source": [
        "prices = [15.99, 24.50, 8.75, 32.00, 19.99, 45.25]\n",
        "total_cost = 0\n",
        "item_count = 0\n",
        "\n",
        "# Use a for loop to:\n",
        "#   - Add each price to total_cost\n",
        "#   - Increment item_count by 1 each time\n",
        "# YOUR CODE BELOW"
      ],
      "id": "ee975ff2"
    },
    {
      "cell_type": "code",
      "execution_count": 21,
      "metadata": {},
      "outputs": [],
      "source": [
        "# Test your answer\n",
        "assert abs(total_cost - 146.48) < 0.01, \"total_cost should be 146.48\"\n",
        "assert item_count == 6, \"item_count should be 6\"\n",
        "print(f\"Perfect! Total cost: ${total_cost:.2f} for {item_count} items\")"
      ],
      "id": "5669d572"
    },
    {
      "cell_type": "markdown",
      "metadata": {},
      "source": [
        "# Section 4 - Loops with range() for Indexed Access\n",
        "\n",
        "Sometimes you need to know the position (index) of items as you loop\n",
        "through them. That’s where `range()` comes in!"
      ],
      "id": "bb51b7e5-3c97-4779-8510-569d48aa9d09"
    },
    {
      "cell_type": "code",
      "execution_count": 22,
      "metadata": {},
      "outputs": [
        {
          "output_type": "stream",
          "name": "stdout",
          "text": [
            "Sales by day:\n",
            "  Mon: $1250\n",
            "  Tue: $1380\n",
            "  Wed: $1425\n",
            "  Thu: $1890\n",
            "  Fri: $2150\n",
            "\n",
            "First 5 order numbers:\n",
            "  Order #1001\n",
            "  Order #1002\n",
            "  Order #1003\n",
            "  Order #1004\n",
            "  Order #1005"
          ]
        }
      ],
      "source": [
        "# range() generates numbers for us to use as indices\n",
        "days = [\"Mon\", \"Tue\", \"Wed\", \"Thu\", \"Fri\"]\n",
        "sales = [1250, 1380, 1425, 1890, 2150]\n",
        "\n",
        "print(\"Sales by day:\")\n",
        "for i in range(len(days)):\n",
        "    print(f\"  {days[i]}: ${sales[i]}\")\n",
        "\n",
        "# range() can also create custom sequences\n",
        "print(\"\\nFirst 5 order numbers:\")\n",
        "for order_num in range(1001, 1006):\n",
        "    print(f\"  Order #{order_num}\")"
      ],
      "id": "e708bd42"
    },
    {
      "cell_type": "markdown",
      "metadata": {},
      "source": [
        "> **range() Variations:**\n",
        ">\n",
        "> -   `range(5)` → 0, 1, 2, 3, 4\n",
        "> -   `range(1, 6)` → 1, 2, 3, 4, 5\n",
        "> -   `range(0, 10, 2)` → 0, 2, 4, 6, 8\n",
        "> -   `range(len(list))` → indices for the list\n",
        "\n",
        "## Exercise 4.1 - Day-by-Day Changes\n",
        "\n",
        "Calculate the change in sales from each day to the next and store them\n",
        "in a list."
      ],
      "id": "e357e50a-07bb-4b15-9676-4472743ec757"
    },
    {
      "cell_type": "code",
      "execution_count": 23,
      "metadata": {},
      "outputs": [],
      "source": [
        "sales = [1250, 1380, 1125, 1890, 1650]\n",
        "daily_changes = []\n",
        "\n",
        "print(\"Day-to-day changes:\")\n",
        "# Use range(1, len(sales)) to start from index 1\n",
        "# For each day, calculate: sales[i] - sales[i-1]\n",
        "# Append each change to daily_changes\n",
        "# Print the change for each day\n",
        "# YOUR CODE BELOW"
      ],
      "id": "e821c422"
    },
    {
      "cell_type": "code",
      "execution_count": 25,
      "metadata": {},
      "outputs": [],
      "source": [
        "# Test your answer\n",
        "expected_changes = [130, -255, 765, -240]\n",
        "assert daily_changes == expected_changes, f\"daily_changes should be {expected_changes}\"\n",
        "assert len(daily_changes) == 4, \"Should have 4 changes (for days 2-5)\"\n",
        "print(\"Excellent! You calculated the daily changes correctly!\")\n",
        "print(f\"Daily changes: {daily_changes}\")"
      ],
      "id": "4e6cbebe"
    },
    {
      "cell_type": "markdown",
      "metadata": {},
      "source": [
        "# Section 5 - Calculating Aggregations\n",
        "\n",
        "One of the most powerful uses of loops is calculating summary statistics\n",
        "from your data."
      ],
      "id": "2040f2e1-1599-4e48-bc08-f337b05ace48"
    },
    {
      "cell_type": "code",
      "execution_count": 26,
      "metadata": {},
      "outputs": [
        {
          "output_type": "stream",
          "name": "stdout",
          "text": [
            "Total: $24.0\n",
            "Average price: $4.80"
          ]
        }
      ],
      "source": [
        "# Calculate total, average, and count\n",
        "prices = [4.50, 3.75, 5.25, 4.00, 6.50]\n",
        "\n",
        "# Total\n",
        "total = 0\n",
        "for price in prices:\n",
        "    total = total + price\n",
        "print(f\"Total: ${total}\")\n",
        "\n",
        "# Average\n",
        "average = total / len(prices)\n",
        "print(f\"Average price: ${average:.2f}\")"
      ],
      "id": "7c97aa7f"
    },
    {
      "cell_type": "markdown",
      "metadata": {},
      "source": [
        "> **Common Pattern for Aggregations:**\n",
        ">\n",
        "> 1.  Initialize a variable (usually to 0)\n",
        "> 2.  Loop through the list\n",
        "> 3.  Update the variable in each iteration\n",
        "> 4.  Use the final result\n",
        "\n",
        "## Exercise 5.1 - Customer Satisfaction Analysis\n",
        "\n",
        "Calculate the total of all ratings and the average rating. Also count\n",
        "how many total ratings there are."
      ],
      "id": "e82bf225-77a8-435a-9977-f8b43f931f68"
    },
    {
      "cell_type": "code",
      "execution_count": 27,
      "metadata": {},
      "outputs": [],
      "source": [
        "# YOUR CODE BELOW\n",
        "ratings = [5, 4, 3, 5, 5, 2, 4, 5, 3, 4, 5, 5, 4, 3, 5]\n",
        "\n",
        "# Steps:\n",
        "# 1. Initialize total_rating to 0\n",
        "# 2. Initialize rating_count to 0\n",
        "# 3. Loop through ratings and:\n",
        "#    - Add each rating to total_rating\n",
        "#    - Increment rating_count\n",
        "# 4. Calculate average_rating = total_rating / rating_count\n",
        "\n",
        "total_rating = 0\n",
        "rating_count = 0\n",
        "\n",
        "# YOUR LOOP HERE"
      ],
      "id": "3409daed"
    },
    {
      "cell_type": "code",
      "execution_count": 28,
      "metadata": {},
      "outputs": [],
      "source": [
        "# Test your answer\n",
        "assert total_rating == 62, \"total_rating should be 62\"\n",
        "assert rating_count == 15, \"rating_count should be 15\"\n",
        "assert abs(average_rating - 4.13) < 0.01, \"average_rating should be approximately 4.13\"\n",
        "print(\"✓ Perfect! You've mastered aggregation calculations!\")\n",
        "print(f\"Total: {total_rating}, Count: {rating_count}, Average: {average_rating:.2f} stars\")"
      ],
      "id": "5140483e"
    },
    {
      "cell_type": "markdown",
      "metadata": {},
      "source": [
        "# Conclusion\n",
        "\n",
        "Congratulations! You’ve successfully learned how to work with\n",
        "collections of data!\n",
        "\n",
        "**You’ve learned:**\n",
        "\n",
        "-   **Lists** - Storing multiple values in order\n",
        "-   **List Operations** - Using `append()` and `len()`\n",
        "-   **For Loops** - Processing each item automatically\n",
        "-   **range()** - Working with indices and generating sequences\n",
        "-   **Aggregations** - Calculating totals, averages, and counts\n",
        "\n",
        "You can now analyze Bean Counter’s sales data like a pro! Whether it’s\n",
        "tracking daily performance, finding trends, or calculating key metrics,\n",
        "you have the tools to handle any amount of data efficiently.\n",
        "\n",
        "**Remember:**\n",
        "\n",
        "-   Lists let you store multiple related values together\n",
        "-   Loops eliminate repetitive code and process data automatically\n",
        "-   `range()` gives you precise control over iteration\n",
        "-   Aggregations help you summarize data into meaningful insights\n",
        "-   Always initialize aggregation variables before the loop!\n",
        "\n",
        "**Next up:** In the next tutorial, we’ll learn about conditionals and\n",
        "while loops to make even smarter decisions and handle more complex\n",
        "scenarios in your data analysis!"
      ],
      "id": "ce757b13-b181-487e-b432-5c6dc3f405f8"
    }
  ],
  "nbformat": 4,
  "nbformat_minor": 5,
  "metadata": {
    "kernelspec": {
      "name": "python3",
      "display_name": "Python 3 (ipykernel)",
      "language": "python",
      "path": "/Users/vlcek/Documents/git-teaching/Management-Science/.venv/share/jupyter/kernels/python3"
    },
    "language_info": {
      "name": "python",
      "codemirror_mode": {
        "name": "ipython",
        "version": "3"
      },
      "file_extension": ".py",
      "mimetype": "text/x-python",
      "nbconvert_exporter": "python",
      "pygments_lexer": "ipython3",
      "version": "3.12.11"
    }
  }
}