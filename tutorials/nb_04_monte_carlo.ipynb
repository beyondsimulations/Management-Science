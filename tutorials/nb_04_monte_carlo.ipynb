{
  "cells": [
    {
      "cell_type": "markdown",
      "metadata": {},
      "source": [
        "# Random Numbers for Business Simulation\n",
        "\n",
        "As CEO, you need to simulate scenarios for strategic planning. NumPy’s\n",
        "random functions help model uncertainty."
      ],
      "id": "2b180024-c0ae-45fb-a985-453622803020"
    },
    {
      "cell_type": "code",
      "execution_count": 1,
      "metadata": {},
      "outputs": [
        {
          "output_type": "stream",
          "name": "stdout",
          "text": [
            "100 dice rolls average: 3.69 (expected: 3.5)\n",
            "\n",
            "Week's sales: $706,223\n",
            "\n",
            "Wait time analysis:\n",
            "Average: 90.7 seconds\n",
            "% under 2 minutes: 97.4%"
          ]
        }
      ],
      "source": [
        "import numpy as np\n",
        "\n",
        "# Set seed for reproducibility\n",
        "np.random.seed(42)\n",
        "\n",
        "# Simulate dice rolls (discrete uniform)\n",
        "dice_rolls = np.random.randint(1, 7, size=100)  # 100 rolls of a 6-sided die\n",
        "print(f\"100 dice rolls average: {dice_rolls.mean():.2f} (expected: 3.5)\")\n",
        "\n",
        "# Simulate daily sales (continuous uniform)\n",
        "daily_sales = np.random.uniform(80000, 120000, size=7)  # Week of sales\n",
        "print(f\"\\nWeek's sales: ${daily_sales.sum():,.0f}\")\n",
        "\n",
        "# Simulate customer wait times (normal distribution)\n",
        "wait_times = np.random.normal(90, 15, size=1000)  # Mean 90 sec, std 15 sec\n",
        "print(f\"\\nWait time analysis:\")\n",
        "print(f\"Average: {wait_times.mean():.1f} seconds\")\n",
        "print(f\"% under 2 minutes: {(wait_times < 120).sum() / 10:.1f}%\")"
      ],
      "id": "8c6eb38d"
    },
    {
      "cell_type": "markdown",
      "metadata": {},
      "source": [
        "> **Random Number Distributions**\n",
        ">\n",
        "> -   `randint(low, high)` - Integers between low and high-1\n",
        "> -   `uniform(low, high)` - Decimal numbers evenly distributed\n",
        "> -   `normal(mean, std)` - Bell curve distribution (most common in\n",
        ">     nature/business)\n",
        "\n",
        "## Exercise 7.1 - Simulate Future Scenarios\n",
        "\n",
        "Use random numbers to simulate business scenarios for strategic\n",
        "planning."
      ],
      "id": "dffb36d7-0f56-49f8-b125-46b6d3abe482"
    },
    {
      "cell_type": "code",
      "execution_count": 2,
      "metadata": {},
      "outputs": [],
      "source": [
        "import numpy as np\n",
        "np.random.seed(200)  # For consistent results\n",
        "\n",
        "# YOUR CODE BELOW\n",
        "# 1. Simulate 1000 dice rolls and calculate the average\n",
        "dice_outcomes =\n",
        "average_roll =\n",
        "\n",
        "# 2. Simulate next quarter sales (90 days) between $100k and $150k per day\n",
        "quarter_sales =\n",
        "total_quarter =\n",
        "\n",
        "# 3. Simulate customer ratings (normal distribution: mean=4.3, std=0.4)\n",
        "# Generate 500 ratings, then clip to keep between 1 and 5\n",
        "ratings =\n",
        "ratings = np.clip(ratings, 1, 5)  # Keep in valid range\n",
        "percent_satisfied =\n",
        "\n",
        "print(f\"Dice simulation (1000 rolls): {average_roll:.2f}\")\n",
        "print(f\"Projected quarterly revenue: ${total_quarter:,.0f}\")\n",
        "print(f\"Customer satisfaction (4+ stars): {percent_satisfied:.1f}%\")"
      ],
      "id": "0e9c3271"
    },
    {
      "cell_type": "code",
      "execution_count": 4,
      "metadata": {},
      "outputs": [],
      "source": [
        "# Test your simulations\n",
        "assert 3.3 < average_roll < 3.7, f\"Dice average should be near 3.5, got {average_roll}\"\n",
        "assert 11000000 < total_quarter < 12000000, f\"Quarter sales should be ~11.5M\"\n",
        "assert 70 < percent_satisfied < 80, f\"Satisfaction should be ~75%\"\n",
        "print(\"Perfect! You can now simulate future scenarios for strategic planning!\")"
      ],
      "id": "29836a79"
    }
  ],
  "nbformat": 4,
  "nbformat_minor": 5,
  "metadata": {
    "kernelspec": {
      "name": "python3",
      "display_name": "Python 3 (ipykernel)",
      "language": "python",
      "path": "/Users/vlcek/Documents/git-teaching/Management-Science/.venv/share/jupyter/kernels/python3"
    },
    "language_info": {
      "name": "python",
      "codemirror_mode": {
        "name": "ipython",
        "version": "3"
      },
      "file_extension": ".py",
      "mimetype": "text/x-python",
      "nbconvert_exporter": "python",
      "pygments_lexer": "ipython3",
      "version": "3.12.11"
    }
  }
}