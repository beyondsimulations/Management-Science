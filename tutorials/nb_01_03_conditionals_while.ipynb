{
  "cells": [
    {
      "cell_type": "markdown",
      "metadata": {},
      "source": [
        "# Notebook 1.3 - Conditionals & While Loops\n",
        "\n",
        "Management Science\n",
        "\n",
        "# Introduction\n",
        "\n",
        "Welcome to your third interactive Python tutorial!\n",
        "\n",
        "**The Smart Inventory System Problem**\n",
        "\n",
        "Bean Counter coffee shop is growing! They need a smarter inventory\n",
        "management system that can:\n",
        "\n",
        "-   Alert when supplies are running low\n",
        "-   Automatically reorder items when needed\n",
        "-   Track which products are selling fastest\n",
        "-   Simulate inventory usage over time\n",
        "\n",
        "These tasks require your program to make decisions and repeat processes\n",
        "until certain conditions are met. That’s where conditionals and while\n",
        "loops come in - they’re the brains behind smart automated systems!\n",
        "\n",
        "In this tutorial, we’ll learn how to make decisions with if/elif/else\n",
        "statements and create loops that run until specific conditions are met.\n",
        "\n",
        "> **Note**\n",
        ">\n",
        "> If a cell is marked with YOUR CODE BELOW, you are expected to write\n",
        "> your code in that cell.\n",
        "\n",
        "# Section 1 - Comparison Operators & Boolean Logic\n",
        "\n",
        "To make smart decisions, we need to compare values and combine\n",
        "conditions."
      ],
      "id": "eb270bb2-b58c-4fdf-8651-4bd7c848374b"
    },
    {
      "cell_type": "code",
      "execution_count": 1,
      "metadata": {},
      "outputs": [
        {
          "output_type": "stream",
          "name": "stdout",
          "text": [
            "Temperature = 68°F\n",
            "Temperature > 70: False\n",
            "Temperature <= 68: True\n",
            "Temperature == 68: True\n",
            "Temperature != 70: True"
          ]
        }
      ],
      "source": [
        "# Comparison operators\n",
        "temperature = 68\n",
        "humidity = 45\n",
        "\n",
        "print(f\"Temperature = {temperature}°F\")\n",
        "print(f\"Temperature > 70: {temperature > 70}\")\n",
        "print(f\"Temperature <= 68: {temperature <= 68}\")\n",
        "print(f\"Temperature == 68: {temperature == 68}\")\n",
        "print(f\"Temperature != 70: {temperature != 70}\")"
      ],
      "id": "34b4437d"
    },
    {
      "cell_type": "code",
      "execution_count": 2,
      "metadata": {},
      "outputs": [
        {
          "output_type": "stream",
          "name": "stdout",
          "text": [
            "Temperature is in comfort zone: True\n",
            "Uncomfortable conditions: False"
          ]
        }
      ],
      "source": [
        "# Boolean logic with 'and' & 'or'\n",
        "temperature = 68\n",
        "humidity = 45\n",
        "\n",
        "# Both conditions must be True for 'and'\n",
        "check_comfort = temperature >= 65 and temperature <= 75\n",
        "print(f\"Temperature is in comfort zone: {check_comfort}\")\n",
        "\n",
        "# At least one condition must be True for 'or'\n",
        "check_condition = temperature > 80 or humidity > 70\n",
        "print(f\"Uncomfortable conditions: {check_condition}\")"
      ],
      "id": "6a084757"
    },
    {
      "cell_type": "markdown",
      "metadata": {},
      "source": [
        "> **Comparison Operators:**\n",
        ">\n",
        "> -   `==` equal to\n",
        "> -   `!=` not equal to\n",
        "> -   `>` greater than\n",
        "> -   `<` less than\n",
        "> -   `>=` greater than or equal to\n",
        "> -   `<=` less than or equal to\n",
        "\n",
        "> **Boolean Operators:**\n",
        ">\n",
        "> -   `and` - both conditions must be True\n",
        "> -   `or` - at least one condition must be True\n",
        "> -   `not` - reverses the condition\n",
        "\n",
        "## Exercise 1.1 - Coffee Bean Quality Check\n",
        "\n",
        "Check if coffee beans meet quality standards. Beans pass if:\n",
        "\n",
        "-   The moisture level is between 10 and 12 (inclusive)\n",
        "-   AND the defect count is less than 5\n",
        "\n",
        "Create a variable `passes_quality` that is True if both conditions are\n",
        "met."
      ],
      "id": "a9e25a4a-6773-4ce3-9b6e-ab8790f9d76b"
    },
    {
      "cell_type": "code",
      "execution_count": 3,
      "metadata": {},
      "outputs": [],
      "source": [
        "moisture_level = 11\n",
        "defect_count = 3\n",
        "\n",
        "# Check if moisture_level is between 10 and 12 (inclusive) AND defect_count < 5\n",
        "# Store the result in passes_quality\n",
        "# YOUR CODE BELOW"
      ],
      "id": "243b7122"
    },
    {
      "cell_type": "code",
      "execution_count": 5,
      "metadata": {},
      "outputs": [],
      "source": [
        "# Test your answer\n",
        "assert passes_quality == True, \"Beans with moisture=11 and defects=3 should pass\"\n",
        "print(\"Excellent! Your quality check system works correctly!\")"
      ],
      "id": "974008b3"
    },
    {
      "cell_type": "markdown",
      "metadata": {},
      "source": [
        "## Exercise 1.2 - Special Offer Eligibility\n",
        "\n",
        "Customers get a special offer if they meet ANY of these conditions:\n",
        "\n",
        "-   They’re a member (is_member = True)\n",
        "-   OR they’ve spent more than \\$100\n",
        "-   OR it’s their birthday (is_birthday = True)\n",
        "\n",
        "Determine if the customer is eligible by storing the result in a\n",
        "variable called `eligible_for_offer`."
      ],
      "id": "f8371f80-1f16-4f5b-b41a-3e6a7a95d93e"
    },
    {
      "cell_type": "code",
      "execution_count": 6,
      "metadata": {},
      "outputs": [],
      "source": [
        "# YOUR CODE BELOW\n",
        "is_member = False\n",
        "total_spent = 120\n",
        "is_birthday = False\n",
        "\n",
        "# Check if customer is eligible for special offer using 'or'\n",
        "# Store result in eligible_for_offer"
      ],
      "id": "292d7c68"
    },
    {
      "cell_type": "code",
      "execution_count": 8,
      "metadata": {},
      "outputs": [],
      "source": [
        "# Test your answer\n",
        "assert eligible_for_offer == True, \"Customer spending $120 should be eligible\"\n",
        "print(\"Perfect! Your special offer system works with OR logic!\")"
      ],
      "id": "ac8f587b"
    },
    {
      "cell_type": "markdown",
      "metadata": {},
      "source": [
        "# Section 2 - If/Elif/Else Statements\n",
        "\n",
        "Conditional statements let your program make decisions based on\n",
        "conditions. Think of them as automated decision rules."
      ],
      "id": "59fe9c8a-cc39-446d-8def-923bfbc61fc7"
    },
    {
      "cell_type": "code",
      "execution_count": 9,
      "metadata": {},
      "outputs": [
        {
          "output_type": "stream",
          "name": "stdout",
          "text": [
            "Low stock alert!\n",
            "Current stock: 15\n",
            "Please reorder soon!"
          ]
        }
      ],
      "source": [
        "# Basic if statement structure\n",
        "stock_level = 15\n",
        "minimum_stock = 20\n",
        "\n",
        "if stock_level < minimum_stock:\n",
        "    print(\"Low stock alert!\")\n",
        "    print(f\"Current stock: {stock_level}\")\n",
        "    print(f\"Please reorder soon!\")\n",
        "else:\n",
        "    print(\"Stock level is good\")\n",
        "    print(f\"Current stock: {stock_level}\")"
      ],
      "id": "73d15215"
    },
    {
      "cell_type": "code",
      "execution_count": 10,
      "metadata": {},
      "outputs": [
        {
          "output_type": "stream",
          "name": "stdout",
          "text": [
            "WARNING: Stock is low"
          ]
        }
      ],
      "source": [
        "# Using elif for multiple conditions\n",
        "coffee_beans_kg = 8\n",
        "\n",
        "if coffee_beans_kg < 5:\n",
        "    print(\"URGENT: Order immediately!\")\n",
        "elif coffee_beans_kg < 10:\n",
        "    print(\"WARNING: Stock is low\")\n",
        "elif coffee_beans_kg < 20:\n",
        "    print(\"Stock is adequate\")\n",
        "else:\n",
        "    print(\"Stock is excellent!\")"
      ],
      "id": "51791586"
    },
    {
      "cell_type": "markdown",
      "metadata": {},
      "source": [
        "> **If/Elif/Else Structure**\n",
        ">\n",
        "> ``` python\n",
        "> if condition1:\n",
        ">     # Do this if condition1 is True\n",
        "> elif condition2:\n",
        ">     # Do this if condition1 is False but condition2 is True\n",
        "> else:\n",
        ">     # Do this if all conditions are False\n",
        "> ```\n",
        ">\n",
        "> **Remember the colons (:) and indentation!**\n",
        "\n",
        "## Exercise 2.1 - Simple Stock Alert\n",
        "\n",
        "Create a stock alert system. You need to:\n",
        "\n",
        "1.  Check if `milk_liters` is less than 10\n",
        "2.  If it is, print “Order more milk!” and set `order` to `True`\n",
        "3.  Otherwise, print “Milk stock OK”"
      ],
      "id": "b9305c39-3488-45bc-9f5d-7ae8d230fcca"
    },
    {
      "cell_type": "code",
      "execution_count": 11,
      "metadata": {},
      "outputs": [],
      "source": [
        "# YOUR CODE BELOW\n",
        "milk_liters = 7\n",
        "order = False"
      ],
      "id": "a115623b"
    },
    {
      "cell_type": "code",
      "execution_count": 13,
      "metadata": {},
      "outputs": [],
      "source": [
        "# Test your answer\n",
        "assert order == True, \"'order' should be `True` when milk_liters is 7\"\n",
        "print(\"Great! Your stock alert system works!\")"
      ],
      "id": "6cc3a919"
    },
    {
      "cell_type": "markdown",
      "metadata": {},
      "source": [
        "## Exercise 2.2 - Multi-Level Pricing\n",
        "\n",
        "Create a pricing system with multiple tiers. The rules are:\n",
        "\n",
        "-   Orders less than 10 items: \\$5 per item\n",
        "-   Orders 10-49 items: \\$4.50 per item\n",
        "-   Orders 50 or more items: \\$4 per item\n",
        "\n",
        "Calculate and print the `price_per_item` and `total_cost` for the given\n",
        "`quantity`."
      ],
      "id": "71982a49-a590-4c7e-9536-742b4d9fa560"
    },
    {
      "cell_type": "code",
      "execution_count": 14,
      "metadata": {},
      "outputs": [],
      "source": [
        "# YOUR CODE BELOW\n",
        "quantity = 25\n",
        "\n",
        "# Use if/elif/else to determine price_per_item\n",
        "# Then calculate total_cost = quantity * price_per_item\n",
        "# Print both values"
      ],
      "id": "4b1ec655"
    },
    {
      "cell_type": "code",
      "execution_count": 16,
      "metadata": {},
      "outputs": [],
      "source": [
        "# Test your answer\n",
        "assert price_per_item == 4.50, \"price_per_item should be 4.50 for quantity 25\"\n",
        "assert total_cost == 112.50, \"total_cost should be 112.50 (25 * 4.50)\"\n",
        "print(f\"Perfect! Price per item: ${price_per_item}, Total: ${total_cost}\")"
      ],
      "id": "3c00d616"
    },
    {
      "cell_type": "markdown",
      "metadata": {},
      "source": [
        "# Section 3 - Conditionals Within Loops\n",
        "\n",
        "Combining loops with conditionals lets us filter and process data\n",
        "intelligently. But first, let’s learn a new, cleaner way to work with\n",
        "indices in loops.\n",
        "\n",
        "## Introducing enumerate()\n",
        "\n",
        "Previously, you learned to use `range(len(list))` to get indices. Python\n",
        "has a more elegant way: **enumerate()**, which gives you both the index\n",
        "AND the value at the same time!"
      ],
      "id": "16fd2df9-491c-4816-98ff-9cad74be7983"
    },
    {
      "cell_type": "code",
      "execution_count": 17,
      "metadata": {},
      "outputs": [
        {
          "output_type": "stream",
          "name": "stdout",
          "text": [
            "Using range() - the way you learned before:\n",
            "  Item 0: Coffee costs $4.5\n",
            "  Item 1: Milk costs $2.75\n",
            "  Item 2: Sugar costs $1.25"
          ]
        }
      ],
      "source": [
        "# The old way - using range() for indexed access\n",
        "products = [\"Coffee\", \"Milk\", \"Sugar\"]\n",
        "prices = [4.50, 2.75, 1.25]\n",
        "\n",
        "print(\"Using range() - the way you learned before:\")\n",
        "for i in range(len(products)):\n",
        "    print(f\"  Item {i}: {products[i]} costs ${prices[i]}\")"
      ],
      "id": "96cf3880"
    },
    {
      "cell_type": "code",
      "execution_count": 18,
      "metadata": {},
      "outputs": [
        {
          "output_type": "stream",
          "name": "stdout",
          "text": [
            "\n",
            "Using enumerate() - a cleaner approach:\n",
            "  Item 0: Coffee costs $4.5\n",
            "  Item 1: Milk costs $2.75\n",
            "  Item 2: Sugar costs $1.25"
          ]
        }
      ],
      "source": [
        "# The new way - using enumerate() to get both index and value\n",
        "products = [\"Coffee\", \"Milk\", \"Sugar\"]\n",
        "prices = [4.50, 2.75, 1.25]\n",
        "\n",
        "print(\"\\nUsing enumerate() - a cleaner approach:\")\n",
        "for i, product in enumerate(products):\n",
        "    print(f\"  Item {i}: {product} costs ${prices[i]}\")"
      ],
      "id": "01e39bed"
    },
    {
      "cell_type": "markdown",
      "metadata": {},
      "source": [
        "> **When to Use enumerate():**\n",
        ">\n",
        "> Use `enumerate()` when you need **both** the index and the value:\n",
        ">\n",
        "> ``` python\n",
        "> for i, item in enumerate(my_list):\n",
        ">     # i is the index (0, 1, 2, ...)\n",
        ">     # item is the value at that position\n",
        "> ```\n",
        ">\n",
        "> This is cleaner than `for i in range(len(my_list))` and accessing\n",
        "> `my_list[i]`!\n",
        "\n",
        "## Filtering Data with Conditionals in Loops\n",
        "\n",
        "Now let’s combine everything - loops, enumerate(), and conditionals - to\n",
        "filter and process data intelligently."
      ],
      "id": "7b949bee-79e4-4e29-b73f-95a67e77f12c"
    },
    {
      "cell_type": "code",
      "execution_count": 19,
      "metadata": {},
      "outputs": [
        {
          "output_type": "stream",
          "name": "stdout",
          "text": [
            "Sales Analysis:\n",
            "  Day 1: $1250 Missed by $250\n",
            "  Day 2: $1890 Met target!\n",
            "  Day 3: $950 Missed by $550\n",
            "  Day 4: $2100 Met target!\n",
            "  Day 5: $1650 Met target!"
          ]
        }
      ],
      "source": [
        "# Process a list with conditions\n",
        "daily_sales = [1250, 1890, 950, 2100, 1650]\n",
        "target = 1500\n",
        "\n",
        "print(\"Sales Analysis:\")\n",
        "for i, sale in enumerate(daily_sales):\n",
        "    if sale >= target:\n",
        "        print(f\"  Day {i+1}: ${sale} Met target!\")\n",
        "    else:\n",
        "        shortfall = target - sale\n",
        "        print(f\"  Day {i+1}: ${sale} Missed by ${shortfall}\")"
      ],
      "id": "a1a7c656"
    },
    {
      "cell_type": "markdown",
      "metadata": {},
      "source": [
        "> **Tip**\n",
        ">\n",
        "> Instead of just using `range`, we can use `enumerate` as we have seen\n",
        "> in the example before to get both index and value in a loop at once.\n",
        "> The `enumerate` function returns the index (here i) and value (here\n",
        "> sale) of each element in the list.\n",
        "\n",
        "> **Common Pattern:**\n",
        ">\n",
        "> When filtering lists, create an empty list first, then append items\n",
        "> that meet your conditions:\n",
        ">\n",
        "> ``` python\n",
        "> filtered = []\n",
        "> for item in original_list:\n",
        ">     if condition:\n",
        ">         filtered.append(item)\n",
        "> ```\n",
        "\n",
        "## Exercise 3.1 - Filter High-Value Orders\n",
        "\n",
        "Create a list containing only orders above \\$50. Also count how many\n",
        "high-value orders there are."
      ],
      "id": "36eb4251-28e7-4066-85ed-e09e888f1f62"
    },
    {
      "cell_type": "code",
      "execution_count": 20,
      "metadata": {},
      "outputs": [],
      "source": [
        "all_orders = [35.50, 67.25, 45.00, 89.99, 52.10, 23.75, 91.50, 48.00]\n",
        "\n",
        "# Create empty list for high_value_orders\n",
        "high_value_orders = []\n",
        "count = 0\n",
        "\n",
        "# YOUR CODE BELOW\n",
        "\n",
        "# Loop through all_orders\n",
        "# If order > 50, append to high_value_orders and increment count"
      ],
      "id": "440436b5"
    },
    {
      "cell_type": "code",
      "execution_count": 22,
      "metadata": {},
      "outputs": [],
      "source": [
        "# Test your answer\n",
        "assert high_value_orders == [67.25, 89.99, 52.10, 91.50], \"high_value_orders should contain [67.25, 89.99, 52.10, 91.50]\"\n",
        "assert count == 4, \"count should be 4\"\n",
        "print(f\"Great! Found {count} high-value orders: {high_value_orders}\")"
      ],
      "id": "6b243020"
    },
    {
      "cell_type": "markdown",
      "metadata": {},
      "source": [
        "## Exercise 3.2 - Categorize Products\n",
        "\n",
        "Categorize products by stock level and create separate lists for each\n",
        "category:\n",
        "\n",
        "-   Critical: stock \\< 10\n",
        "-   Low: stock \\>= 10 and stock \\< 25\n",
        "-   Good: stock \\>= 25"
      ],
      "id": "4fafa4a3-72d7-4877-b88f-5fe0396b382d"
    },
    {
      "cell_type": "code",
      "execution_count": 23,
      "metadata": {},
      "outputs": [],
      "source": [
        "products = [\"Coffee\", \"Milk\", \"Sugar\", \"Cups\", \"Lids\", \"Stirrers\"]\n",
        "stock_levels = [5, 18, 35, 8, 42, 15]\n",
        "\n",
        "critical = []\n",
        "low = []\n",
        "good = []\n",
        "\n",
        "# YOUR CODE BELOW\n",
        "#\n",
        "# Loop through products using range(len(products))\n",
        "# Check stock_levels[i] and append products[i] to appropriate list"
      ],
      "id": "f38f11fd"
    },
    {
      "cell_type": "code",
      "execution_count": 25,
      "metadata": {},
      "outputs": [],
      "source": [
        "# Test your answer\n",
        "assert critical == [\"Coffee\", \"Cups\"], \"critical should be ['Coffee', 'Cups']\"\n",
        "assert low == [\"Milk\", \"Stirrers\"], \"low should be ['Milk', 'Stirrers']\"\n",
        "assert good == [\"Sugar\", \"Lids\"], \"good should be ['Sugar', 'Lids']\"\n",
        "print(\"Perfect! Product categorization complete!\")\n",
        "print(f\"Critical: {critical}\")\n",
        "print(f\"Low: {low}\")\n",
        "print(f\"Good: {good}\")"
      ],
      "id": "f6a0b663"
    },
    {
      "cell_type": "markdown",
      "metadata": {},
      "source": [
        "# Section 4 - While Loops for Iterative Processes\n",
        "\n",
        "While loops continue running as long as a condition is True. Perfect for\n",
        "simulations and processes with unknown iterations!"
      ],
      "id": "d975e4b1-bbc6-4609-a7fa-b8072e008ab9"
    },
    {
      "cell_type": "code",
      "execution_count": 26,
      "metadata": {},
      "outputs": [
        {
          "output_type": "stream",
          "name": "stdout",
          "text": [
            "Inventory simulation:\n",
            "  Day 1: 17 units remaining\n",
            "  Day 2: 14 units remaining\n",
            "  Day 3: 11 units remaining\n",
            "  Day 4: 8 units remaining\n",
            "  Day 5: 5 units remaining\n",
            "\n",
            "Reorder needed after 5 days!"
          ]
        }
      ],
      "source": [
        "# While loop example - counting down inventory\n",
        "stock = 20\n",
        "daily_usage = 3\n",
        "days = 0\n",
        "\n",
        "print(\"Inventory simulation:\")\n",
        "while stock > 5:  # Continue while stock is above minimum\n",
        "    stock = stock - daily_usage\n",
        "    days = days + 1\n",
        "    print(f\"  Day {days}: {stock} units remaining\")\n",
        "\n",
        "print(f\"\\nReorder needed after {days} days!\")"
      ],
      "id": "84db9ad4"
    },
    {
      "cell_type": "markdown",
      "metadata": {},
      "source": [
        "> **Tip**\n",
        ">\n",
        "> **While Loop Structure:**\n",
        ">\n",
        "> ``` python\n",
        "> while condition:\n",
        ">     # Code runs repeatedly while condition is True\n",
        ">     # Make sure something changes to eventually make condition False!\n",
        "> ```\n",
        "\n",
        "> **Warning**\n",
        ">\n",
        "> **Be careful of infinite loops!** Always ensure the condition will\n",
        "> eventually become False.\n",
        "\n",
        "## Exercise 4.1 - Customer Queue Simulation\n",
        "\n",
        "Simulate serving customers in a queue. Each minute you can serve 2\n",
        "customers, and 3 new customers arrive. The loop should continue running\n",
        "while the queue size is 20 or less.\n",
        "\n",
        "Track:\n",
        "\n",
        "-   How many minutes it takes (until queue exceeds 20)\n",
        "-   The final queue size\n",
        "\n",
        "> **Tip**\n",
        ">\n",
        "> Your while loop condition should be `while queue_size <= 20:` - this\n",
        "> means the loop continues as long as the queue hasn’t exceeded 20 yet."
      ],
      "id": "c3a422d0-efeb-4226-8884-c6f194256db1"
    },
    {
      "cell_type": "code",
      "execution_count": 27,
      "metadata": {},
      "outputs": [],
      "source": [
        "queue_size = 5  # Starting queue\n",
        "minutes = 0\n",
        "serve_rate = 2  # Customers served per minute\n",
        "arrival_rate = 3  # New customers per minute\n",
        "\n",
        "# YOUR CODE BELOW\n",
        "\n",
        "# Use a while loop that continues while queue_size <= 20\n",
        "# Each iteration:\n",
        "#   1. Update queue_size: add arrivals, subtract served\n",
        "#   2. Increment minutes by 1\n"
      ],
      "id": "9f0f23e2"
    },
    {
      "cell_type": "code",
      "execution_count": 29,
      "metadata": {},
      "outputs": [],
      "source": [
        "# Test your answer\n",
        "assert minutes == 16, \"Should take 16 minutes to exceed 20 customers\"\n",
        "assert queue_size == 21, \"Final queue size should be 21\"\n",
        "print(f\"Excellent! After {minutes} minutes, queue size is {queue_size}\")"
      ],
      "id": "c4824e13"
    },
    {
      "cell_type": "markdown",
      "metadata": {},
      "source": [
        "# Section 5 - Building Filtered Lists\n",
        "\n",
        "Let’s combine everything to build sophisticated filtering systems."
      ],
      "id": "5b506230-4719-4442-bea8-6e9d03d7bd63"
    },
    {
      "cell_type": "code",
      "execution_count": 30,
      "metadata": {},
      "outputs": [
        {
          "output_type": "stream",
          "name": "stdout",
          "text": [
            "Affordable drinks: ['Espresso', 'Tea']\n",
            "Average food price: $4.82"
          ]
        }
      ],
      "source": [
        "# Complex filtering example\n",
        "products = [\"Espresso\", \"Latte\", \"Muffin\", \"Sandwich\", \"Tea\", \"Cookie\"]\n",
        "prices = [3.50, 4.75, 3.25, 8.95, 2.50, 2.25]\n",
        "categories = [\"drink\", \"drink\", \"food\", \"food\", \"drink\", \"food\"]\n",
        "\n",
        "# Find all drinks under $4\n",
        "cheap_drinks = []\n",
        "for i in range(len(products)):\n",
        "    if categories[i] == \"drink\" and prices[i] < 4.00:\n",
        "        cheap_drinks.append(products[i])\n",
        "\n",
        "print(f\"Affordable drinks: {cheap_drinks}\")\n",
        "\n",
        "# Calculate average price of food items\n",
        "food_total = 0\n",
        "food_count = 0\n",
        "for i in range(len(products)):\n",
        "    if categories[i] == \"food\":\n",
        "        food_total = food_total + prices[i]\n",
        "        food_count = food_count + 1\n",
        "\n",
        "if food_count > 0:\n",
        "    avg_food_price = food_total / food_count\n",
        "    print(f\"Average food price: ${avg_food_price:.2f}\")"
      ],
      "id": "d311e2c6"
    },
    {
      "cell_type": "markdown",
      "metadata": {},
      "source": [
        "## Complex Conditions with OR Logic\n",
        "\n",
        "Sometimes you need to combine multiple conditions with OR logic. When\n",
        "mixing AND and OR, use parentheses to make your logic clear:"
      ],
      "id": "38e65475-ec41-4b38-aee5-7679aa043537"
    },
    {
      "cell_type": "code",
      "execution_count": 31,
      "metadata": {},
      "outputs": [
        {
          "output_type": "stream",
          "name": "stdout",
          "text": [
            "  Coffee: $5.0 - Eligible!\n",
            "  Pastry: $4.0 - Eligible!\n",
            "  Juice: $3.5 - Eligible!\n",
            "  Sandwich: $7.0 - Eligible!\n",
            "\n",
            "Promotion items: ['Coffee', 'Pastry', 'Juice', 'Sandwich']"
          ]
        }
      ],
      "source": [
        "# Example: Find items that meet EITHER of two criteria\n",
        "items = [\"Coffee\", \"Tea\", \"Pastry\", \"Juice\", \"Sandwich\"]\n",
        "prices = [5.00, 2.50, 4.00, 3.50, 7.00]\n",
        "is_hot = [True, True, True, False, True]\n",
        "\n",
        "# Promotion: Hot items over $4 OR cold items over $3\n",
        "promotion_items = []\n",
        "\n",
        "for i in range(len(items)):\n",
        "    # Use parentheses to group each condition\n",
        "    hot_and_expensive = (is_hot[i] == True and prices[i] >= 4)\n",
        "    cold_and_pricy = (is_hot[i] == False and prices[i] >= 3)\n",
        "\n",
        "    if hot_and_expensive or cold_and_pricy:\n",
        "        promotion_items.append(items[i])\n",
        "        print(f\"  {items[i]}: ${prices[i]} - Eligible!\")\n",
        "\n",
        "print(f\"\\nPromotion items: {promotion_items}\")"
      ],
      "id": "98a24461"
    },
    {
      "cell_type": "markdown",
      "metadata": {},
      "source": [
        "You can also write this more compactly in a single condition:"
      ],
      "id": "67dff381-bbe6-4f2f-8dce-9cedf0913241"
    },
    {
      "cell_type": "code",
      "execution_count": 32,
      "metadata": {},
      "outputs": [
        {
          "output_type": "stream",
          "name": "stdout",
          "text": [
            "Promotion items (compact): ['Coffee', 'Pastry', 'Juice', 'Sandwich']"
          ]
        }
      ],
      "source": [
        "# Same logic, written in one line\n",
        "promotion_items_compact = []\n",
        "\n",
        "for i in range(len(items)):\n",
        "    if (is_hot[i] and prices[i] >= 4) or (not is_hot[i] and prices[i] >= 3):\n",
        "        promotion_items_compact.append(items[i])\n",
        "\n",
        "print(f\"Promotion items (compact): {promotion_items_compact}\")"
      ],
      "id": "7b7a3323"
    },
    {
      "cell_type": "markdown",
      "metadata": {},
      "source": [
        "> **Complex Boolean Logic:**\n",
        ">\n",
        "> When combining AND and OR: - Use **parentheses** to group related\n",
        "> conditions - Break complex conditions into smaller parts if needed -\n",
        "> Test each part separately first, then combine\n",
        "\n",
        "## Exercise 5.1 - Smart Promotion Filter\n",
        "\n",
        "Find products eligible for promotion. Products qualify if they are:\n",
        "\n",
        "-   Drinks priced \\$4 or more, OR\n",
        "-   Food items priced \\$3 or more\n",
        "\n",
        "Also calculate the total discount if we offer 15% off eligible items."
      ],
      "id": "44f7d040-bb65-4e2f-b525-b375dcc796a4"
    },
    {
      "cell_type": "code",
      "execution_count": 33,
      "metadata": {},
      "outputs": [],
      "source": [
        "# YOUR CODE BELOW\n",
        "products = [\"Coffee\", \"Tea\", \"Muffin\", \"Sandwich\", \"Smoothie\", \"Cookie\"]\n",
        "prices = [4.50, 2.75, 3.50, 7.95, 5.25, 2.00]\n",
        "categories = [\"drink\", \"drink\", \"food\", \"food\", \"drink\", \"food\"]\n",
        "\n",
        "eligible_products = []\n",
        "total_discount = 0\n",
        "\n",
        "# Loop through all products\n",
        "# Check if eligible based on category and price\n",
        "# If eligible: add to list and add (price * 0.15) to total_discount"
      ],
      "id": "e081359f"
    },
    {
      "cell_type": "code",
      "execution_count": 35,
      "metadata": {},
      "outputs": [],
      "source": [
        "# Test your answer\n",
        "assert eligible_products == [\"Coffee\", \"Muffin\", \"Sandwich\", \"Smoothie\"], \"Should include Coffee, Muffin, Sandwich, Smoothie\"\n",
        "assert abs(total_discount - 3.15) < 0.1, \"Total discount should be approximately 3.15\"\n",
        "print(f\"Excellent! Eligible products: {eligible_products}\")\n",
        "print(f\"Total discount offered: ${total_discount:.2f}\")"
      ],
      "id": "272bfb93"
    },
    {
      "cell_type": "markdown",
      "metadata": {},
      "source": [
        "# Conclusion\n",
        "\n",
        "Congratulations! You’ve successfully built a smart inventory management\n",
        "system!\n",
        "\n",
        "**You’ve learned:**\n",
        "\n",
        "-   **If/Elif/Else** - Making decisions in your code\n",
        "-   **Comparison Operators** - Checking relationships between values\n",
        "-   **Boolean Logic** - Combining conditions with and/or\n",
        "-   **Conditionals in Loops** - Filtering and categorizing data\n",
        "-   **While Loops** - Running processes until conditions are met\n",
        "\n",
        "**Your Bean Counter inventory system can now:**\n",
        "\n",
        "-   Alert when supplies run low\n",
        "-   Categorize products by stock level\n",
        "-   Filter products for promotions\n",
        "\n",
        "**Remember:**\n",
        "\n",
        "-   Always include colons (:) after if/elif/else/while statements\n",
        "-   Proper indentation is crucial in Python\n",
        "-   While loops need a way to eventually become False\n",
        "-   Combine conditions with `and`/`or` for complex logic\n",
        "-   Build filtered lists by starting empty and appending matches\n",
        "\n",
        "**What’s Next:** You’ve completed the Python foundation! In the next\n",
        "lecture, you’ll learn about more advanced Python features including\n",
        "functions, dictionaries, and data analysis with pandas. These tools will\n",
        "help you tackle even more complex management science problems!"
      ],
      "id": "34637dd0-9b8b-4cef-83dd-ff282404436f"
    }
  ],
  "nbformat": 4,
  "nbformat_minor": 5,
  "metadata": {
    "kernelspec": {
      "name": "python3",
      "display_name": "Python 3 (ipykernel)",
      "language": "python",
      "path": "/Users/vlcek/Documents/git-teaching/Management-Science/.venv/share/jupyter/kernels/python3"
    },
    "language_info": {
      "name": "python",
      "codemirror_mode": {
        "name": "ipython",
        "version": "3"
      },
      "file_extension": ".py",
      "mimetype": "text/x-python",
      "nbconvert_exporter": "python",
      "pygments_lexer": "ipython3",
      "version": "3.12.11"
    }
  }
}