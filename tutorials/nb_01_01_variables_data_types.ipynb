{
  "cells": [
    {
      "cell_type": "markdown",
      "metadata": {},
      "source": [
        "# Notebook 1.1 - Variables & Basic Data Types\n",
        "\n",
        "Management Science\n",
        "\n",
        "# Introduction\n",
        "\n",
        "Welcome to your first interactive Python tutorial!\n",
        "\n",
        "**The Coffee Shop Calculator Problem**\n",
        "\n",
        "Imagine you just started working at a busy coffee shop called “Bean\n",
        "Counter.” On your first day, the manager asks you to help with various\n",
        "calculations: pricing drinks, applying discounts, calculating tips, and\n",
        "formatting receipts. The old calculator is broken, and they need a\n",
        "better system anyway. Lucky for them, you know Python!\n",
        "\n",
        "In this tutorial, we’ll learn about variables and basic data types to\n",
        "build your own coffee shop calculator system. By the end, you’ll be able\n",
        "to handle any calculation the shop throws at you!\n",
        "\n",
        "> **Note**\n",
        ">\n",
        "> If a cell is marked with YOUR CODE BELOW, you are expected to write\n",
        "> your code in that cell.\n",
        "\n",
        "# Section 1 - Variables as Named Storage\n",
        "\n",
        "Variables are like labeled containers that store information. In our\n",
        "coffee shop, we need to keep track of prices, customer names, order\n",
        "quantities, and more. Variables allow us to store this information in a\n",
        "way that we can easily access and update it later."
      ],
      "id": "8a4c1af5-d727-4bc6-a6f3-4923a1aa8e5d"
    },
    {
      "cell_type": "code",
      "execution_count": 1,
      "metadata": {},
      "outputs": [
        {
          "output_type": "stream",
          "name": "stdout",
          "text": [
            "Customer Alex ordered 3 coffees at $4.5 each"
          ]
        }
      ],
      "source": [
        "# Variables are created by giving them a name and a value\n",
        "coffee_price = 4.50\n",
        "customer_name = \"Alex\"\n",
        "cups_ordered = 3\n",
        "shop_open = True\n",
        "\n",
        "print(f\"Customer {customer_name} ordered {cups_ordered} coffees at ${coffee_price} each\")"
      ],
      "id": "29f9ba49"
    },
    {
      "cell_type": "markdown",
      "metadata": {},
      "source": [
        "> **Why Use Variables?**\n",
        ">\n",
        "> -   **Reusability**: Once you store a value in a variable, you can use\n",
        ">     it multiple times without rewriting the value.\n",
        "> -   **Readability**: Variables make your code easier to read and\n",
        ">     understand.\n",
        "> -   **Flexibility**: You can easily update the value of a variable\n",
        ">     without changing the entire code.\n",
        "\n",
        "> **Variable Naming Rules**\n",
        ">\n",
        "> -   Use descriptive names (coffee_price is better than cp)\n",
        "> -   Use lowercase with underscores for multiple words\n",
        "> -   Can’t start with numbers\n",
        "> -   Can’t use Python keywords (like if, for, def)\n",
        "\n",
        "## Exercise 1.1 - Your First Variables\n",
        "\n",
        "Create three variables for a new order:\n",
        "\n",
        "-   `latte_price` should be 5.25\n",
        "-   `customer` should be “Maria”\n",
        "-   `quantity` should be 2\n",
        "-   `shop_closed` = False"
      ],
      "id": "088408c8-6acc-4eb2-bd2d-2c2433ce7af0"
    },
    {
      "cell_type": "code",
      "execution_count": 2,
      "metadata": {},
      "outputs": [],
      "source": [
        "# YOUR CODE BELOW"
      ],
      "id": "efd08008"
    },
    {
      "cell_type": "code",
      "execution_count": 4,
      "metadata": {},
      "outputs": [],
      "source": [
        "# Test your answer\n",
        "assert latte_price == 5.25, \"The latte_price should be 5.25\"\n",
        "assert customer == \"Maria\", \"The customer should be 'Maria'\"\n",
        "assert quantity == 2, \"The quantity should be 2\"\n",
        "assert shop_closed == False, \"The shop should be open\"\n",
        "print(\"Perfect! You've created your first variables for the coffee shop!\")"
      ],
      "id": "07271a67"
    },
    {
      "cell_type": "markdown",
      "metadata": {},
      "source": [
        "## Exercise 1.2 - Updating Variables\n",
        "\n",
        "Variables can change! A customer changed their mind and wants 4 lattes\n",
        "instead of 2. Update the `quantity` variable to 4 and create a new\n",
        "variable `total_order` that stores the total price (latte_price\n",
        "multiplied by quantity)."
      ],
      "id": "0061a847-d0ab-44d4-b577-33714a7e40fb"
    },
    {
      "cell_type": "code",
      "execution_count": 5,
      "metadata": {},
      "outputs": [],
      "source": [
        "# YOUR CODE BELOW\n",
        "# Assume latte_price = 5.25 and quantity = 2 from previous exercise\n",
        "# Tip: Just overwrite these old values\n",
        "# Then calculate: total_order = latte_price * quantity"
      ],
      "id": "9ec47d3a"
    },
    {
      "cell_type": "code",
      "execution_count": 7,
      "metadata": {},
      "outputs": [],
      "source": [
        "# Test your answer\n",
        "assert quantity == 4, \"The quantity should be updated to 4\"\n",
        "assert total_order == 21.0, \"The total_order should be 21.0 (5.25 * 4)\"\n",
        "print(\"Excellent! You can update variables and create new ones from existing values!\")"
      ],
      "id": "afc32d21"
    },
    {
      "cell_type": "markdown",
      "metadata": {},
      "source": [
        "# Section 2 - Data Types: Numbers and Text\n",
        "\n",
        "Python has different types of data. The three most common are:\n",
        "\n",
        "-   **int** (integers): Whole numbers like 1, 42, -10\n",
        "-   **float** (floating-point): Decimal numbers like 3.14, 2.50, -0.5\n",
        "-   **str** (strings): Text like “coffee”, “Bean Counter”, “Order #123”\n",
        "-   **bool** (boolean): True or False"
      ],
      "id": "3be7e1a7-5276-4d9c-9ffc-eb126faac4ed"
    },
    {
      "cell_type": "code",
      "execution_count": 8,
      "metadata": {},
      "outputs": [
        {
          "output_type": "stream",
          "name": "stdout",
          "text": [
            "cups_sold is a <class 'int'>\n",
            "price is a <class 'float'>\n",
            "shop_name is a <class 'str'>\n",
            "is_open is a <class 'bool'>"
          ]
        }
      ],
      "source": [
        "# Different data types in our coffee shop\n",
        "cups_sold = 150           # int - whole number\n",
        "price = 4.99              # float - decimal number\n",
        "shop_name = \"Bean Counter\" # str - text\n",
        "is_open = True            # bool - true or false\n",
        "\n",
        "# Python can tell you the type of any variable\n",
        "print(f\"cups_sold is a {type(cups_sold)}\")\n",
        "print(f\"price is a {type(price)}\")\n",
        "print(f\"shop_name is a {type(shop_name)}\")\n",
        "print(f\"is_open is a {type(is_open)}\")"
      ],
      "id": "328dbf08"
    },
    {
      "cell_type": "markdown",
      "metadata": {},
      "source": [
        "> **Why Different Data Types?**\n",
        ">\n",
        "> -   **Precision**: Different data types allow for different levels of\n",
        ">     precision. For example, floats can represent decimal numbers,\n",
        ">     while integers cannot.\n",
        "> -   **Operations**: Different data types support different operations.\n",
        ">     For example, you can add numbers but concatenate strings.\n",
        "> -   **Memory**: Different data types use different amounts of memory.\n",
        ">     For example, integers use less memory than floats.\n",
        "\n",
        "> **Warning**\n",
        ">\n",
        "> **Common Mistake:** Mixing up numbers and text that looks like\n",
        "> numbers!\n",
        ">\n",
        "> ``` python\n",
        "> quantity = \"5\"  # This is text, not a number!\n",
        "> quantity * 2    # This would give \"55\" not 10!\n",
        "> ```\n",
        "\n",
        "## Exercise 2.1 - Identifying Data Types\n",
        "\n",
        "Create variables of each type for our coffee shop:\n",
        "\n",
        "-   `daily_customers` (int): 85 customers visited today\n",
        "-   `average_tip` (float): 2.50 dollars average tip\n",
        "-   `best_seller` (str): “Caramel Macchiato”"
      ],
      "id": "906e580a-9b8e-4ba7-a65c-c5d1b89938b5"
    },
    {
      "cell_type": "code",
      "execution_count": 9,
      "metadata": {},
      "outputs": [],
      "source": [
        "# YOUR CODE BELOW"
      ],
      "id": "78b9eb9e"
    },
    {
      "cell_type": "code",
      "execution_count": 11,
      "metadata": {},
      "outputs": [],
      "source": [
        "# Test your answer\n",
        "assert daily_customers == 85 and type(daily_customers) == int, \"daily_customers should be the integer 85\"\n",
        "assert average_tip == 2.50 and type(average_tip) == float, \"average_tip should be the float 2.50\"\n",
        "assert best_seller == \"Caramel Macchiato\" and type(best_seller) == str, \"best_seller should be the string 'Caramel Macchiato'\"\n",
        "print(\"Great job! You understand the different data types!\")"
      ],
      "id": "fde3c616"
    },
    {
      "cell_type": "markdown",
      "metadata": {},
      "source": [
        "## Exercise 2.2 - Type Conversion\n",
        "\n",
        "Sometimes we need to convert between types. A customer’s loyalty card\n",
        "bonus points were entered as text “1234” but we need it as a number to\n",
        "do calculations.\n",
        "\n",
        "Convert the string `card_points = \"1234\"` to an integer and create a new\n",
        "variable `new_points` that adds 100 bonus points to it.\n",
        "\n",
        "> **Tip**\n",
        ">\n",
        "> You can use the `int()` function to convert a string to an integer or\n",
        "> use the `float()` function to convert a string to a float."
      ],
      "id": "58a86cb1-e3df-4837-87f1-f6abb1025e13"
    },
    {
      "cell_type": "code",
      "execution_count": 12,
      "metadata": {},
      "outputs": [],
      "source": [
        "# YOUR CODE BELOW\n",
        "card_points = \"1234\""
      ],
      "id": "5d511458"
    },
    {
      "cell_type": "code",
      "execution_count": 14,
      "metadata": {},
      "outputs": [],
      "source": [
        "# Test your answer\n",
        "assert card_points == 1234, \"card_points should be 1234 as an integer\"\n",
        "assert new_points == 1334, \"new_points should be 1334 (1234 + 100)\"\n",
        "print(\"Perfect! You can convert between data types!\")"
      ],
      "id": "abf734e1"
    },
    {
      "cell_type": "markdown",
      "metadata": {},
      "source": [
        "# Section 3 - Basic Arithmetic Operations\n",
        "\n",
        "Now let’s use Python’s arithmetic operations to handle coffee shop\n",
        "calculations!"
      ],
      "id": "290ebfa2-d651-4a30-bab7-0f3b007b9bff"
    },
    {
      "cell_type": "code",
      "execution_count": 15,
      "metadata": {},
      "outputs": [
        {
          "output_type": "stream",
          "name": "stdout",
          "text": [
            "Double espresso: $7.0\n",
            "With tip: $8.5\n",
            "Change from $20: $11.5\n",
            "Price per shot: $3.5"
          ]
        }
      ],
      "source": [
        "# Basic arithmetic operations\n",
        "espresso_price = 3.50\n",
        "shots = 2\n",
        "\n",
        "# Addition and multiplication\n",
        "double_espresso = espresso_price * shots\n",
        "with_tip = double_espresso + 1.50\n",
        "\n",
        "# Division and subtraction\n",
        "change = 20.00 - with_tip\n",
        "price_per_shot = double_espresso / shots\n",
        "\n",
        "print(f\"Double espresso: ${double_espresso}\")\n",
        "print(f\"With tip: ${with_tip}\")\n",
        "print(f\"Change from $20: ${change}\")\n",
        "print(f\"Price per shot: ${price_per_shot}\")"
      ],
      "id": "12c56be5"
    },
    {
      "cell_type": "markdown",
      "metadata": {},
      "source": [
        "> **Common Errors in Arithmetic**\n",
        ">\n",
        "> -   **TypeError**: This occurs when you try to perform an operation on\n",
        ">     incompatible types, like adding a string to a number.\n",
        "> -   **ZeroDivisionError**: This occurs when you try to divide by zero.\n",
        "\n",
        "> **Python Arithmetic Operators**\n",
        ">\n",
        "> -   `+` Addition\n",
        "> -   `-` Subtraction\n",
        "> -   `*` Multiplication\n",
        "> -   `/` Division\n",
        "> -   `**` Exponentiation (power)\n",
        "> -   `//` Floor division (rounds down)\n",
        "> -   `%` Modulo (remainder)\n",
        "\n",
        "## Exercise 3.1 - Calculate the Bill\n",
        "\n",
        "A group orders:\n",
        "\n",
        "-   3 cappuccinos at \\$4.75 each\n",
        "-   2 muffins at \\$3.50 each\n",
        "-   1 sandwich at \\$8.95\n",
        "\n",
        "Calculate the `subtotal`, then add 19% tax to get the `total_with_tax`.\n",
        "\n",
        "> **Tip**\n",
        ">\n",
        "> To add 19% tax to a value, you can multiply by 1.19."
      ],
      "id": "f8140ad6-b15a-4786-87fb-34afef892173"
    },
    {
      "cell_type": "code",
      "execution_count": 16,
      "metadata": {},
      "outputs": [],
      "source": [
        "# YOUR CODE BELOW"
      ],
      "id": "10b6d39d"
    },
    {
      "cell_type": "code",
      "execution_count": 18,
      "metadata": {},
      "outputs": [],
      "source": [
        "# Test your answer\n",
        "import math\n",
        "assert math.isclose(subtotal, 30.20, rel_tol=0.01), \"Subtotal should be 30.20\"\n",
        "assert math.isclose(total_with_tax, 30.20*1.19, rel_tol=0.01), \"Total with tax should be 35.94\"\n",
        "print(\"Excellent calculation! You've mastered basic arithmetic!\")"
      ],
      "id": "20b3c099"
    },
    {
      "cell_type": "markdown",
      "metadata": {},
      "source": [
        "## Exercise 3.2 - Splitting the Bill\n",
        "\n",
        "The group wants to split the bill evenly among 4 people. Calculate:\n",
        "\n",
        "-   How much each person pays (`per_person`)\n",
        "-   If they pay with exact change, how many dollars (`dollars`) and\n",
        "    cents (`cents`) each person needs. Provide each as variable.\n",
        "\n",
        "> **Tip**\n",
        ">\n",
        "> You could use `//` for floor division and `%` for remainder, but you\n",
        "> don’t need to do that as other solutions are possible. If you want to\n",
        "> round the cents, you can use the `round()` function."
      ],
      "id": "17a07160-3866-4b4a-9228-6f205ca4088e"
    },
    {
      "cell_type": "code",
      "execution_count": 19,
      "metadata": {},
      "outputs": [],
      "source": [
        "# YOUR CODE BELOW\n",
        "# Assume total_with_tax = 32.616 from previous exercise"
      ],
      "id": "b60d570b"
    },
    {
      "cell_type": "code",
      "execution_count": 21,
      "metadata": {},
      "outputs": [],
      "source": [
        "# Test your answer\n",
        "assert math.isclose(per_person, 8.154, rel_tol=0.01), \"Each person should pay 8.154\"\n",
        "assert dollars == 8, \"Each person needs 8 dollars\"\n",
        "assert cents == 15, \"Each person needs 15 cents (rounded)\"\n",
        "print(\"Great work! You can split bills and handle money calculations!\")"
      ],
      "id": "8e8e8c42"
    },
    {
      "cell_type": "markdown",
      "metadata": {},
      "source": [
        "# Section 4 - F-strings for Output Formatting\n",
        "\n",
        "F-strings make it easy to create formatted output - perfect for receipts\n",
        "and displays!"
      ],
      "id": "2a661d2b-2c9b-4135-b64f-aba27f538ba6"
    },
    {
      "cell_type": "code",
      "execution_count": 22,
      "metadata": {},
      "outputs": [
        {
          "output_type": "stream",
          "name": "stdout",
          "text": [
            "Item: Flat White, Quantity: 2, Total: $8.5\n",
            "\n",
            "╔══════════════════════════╗\n",
            "║     BEAN COUNTER         ║\n",
            "╠══════════════════════════╣\n",
            "║ Flat White        2      ║\n",
            "║ Price: $  4.25           ║\n",
            "║ Total: $  8.50           ║\n",
            "╚══════════════════════════╝\n"
          ]
        }
      ],
      "source": [
        "# F-strings let you embed variables and expressions in text\n",
        "item = \"Flat White\"\n",
        "price = 4.25\n",
        "quantity = 2\n",
        "total = price * quantity\n",
        "\n",
        "# Basic f-string\n",
        "receipt = f\"Item: {item}, Quantity: {quantity}, Total: ${total}\"\n",
        "print(receipt)\n",
        "\n",
        "# Formatting numbers\n",
        "formatted_receipt = f\"\"\"\n",
        "╔══════════════════════════╗\n",
        "║     BEAN COUNTER         ║\n",
        "╠══════════════════════════╣\n",
        "║ {item:<16} {quantity:2d}      ║\n",
        "║ Price: ${price:>6.2f}           ║\n",
        "║ Total: ${total:>6.2f}           ║\n",
        "╚══════════════════════════╝\n",
        "\"\"\"\n",
        "print(formatted_receipt)"
      ],
      "id": "c9b810eb"
    },
    {
      "cell_type": "markdown",
      "metadata": {},
      "source": [
        "> **Common Errors in F-strings**\n",
        ">\n",
        "> -   **SyntaxError**: This occurs when you forget to use an `f` before\n",
        ">     the string or use incorrect syntax within the curly braces.\n",
        "> -   **TypeError**: This occurs when you try to format a value that is\n",
        ">     not compatible with the specified format.\n",
        "\n",
        "> **F-string Formatting:**\n",
        ">\n",
        "> -   `{variable:.2f}` - Show 2 decimal places\n",
        "> -   `{variable:10}` - Use 10 characters of space\n",
        "> -   `{variable:<10}` - Left align in 10 spaces\n",
        "> -   `{variable:>10}` - Right align in 10 spaces\n",
        "> -   `{variable:^10}` - Center in 10 spaces\n",
        "\n",
        "## Exercise 4.1 - Create a Simple Receipt\n",
        "\n",
        "Create a formatted receipt for a coffee order with these variables:\n",
        "\n",
        "-   `coffee_type = \"Americano\"`\n",
        "-   `size = \"Large\"`\n",
        "-   `price = 3.75`\n",
        "\n",
        "Create a variable called `receipt` with the format: “Order: \\[size\\]\n",
        "\\[coffee_type\\] - \\$\\[price with 2 decimal places\\]”\n",
        "\n",
        "> **Tip**\n",
        ">\n",
        "> Use an f-string with `{price:.2f}` to format the price with exactly 2\n",
        "> decimal places."
      ],
      "id": "f9ec5fd3-5756-4c4c-a703-87e165d4d0af"
    },
    {
      "cell_type": "code",
      "execution_count": 23,
      "metadata": {},
      "outputs": [],
      "source": [
        "# YOUR CODE BELOW"
      ],
      "id": "a181151d"
    },
    {
      "cell_type": "code",
      "execution_count": 25,
      "metadata": {},
      "outputs": [],
      "source": [
        "# Test your answer\n",
        "assert receipt == \"Order: Large Americano - $3.75\", \"Receipt should be 'Order: Large Americano - $3.75'\"\n",
        "print(\"Perfect! You've created your first formatted string!\")"
      ],
      "id": "de11a9c3"
    },
    {
      "cell_type": "markdown",
      "metadata": {},
      "source": [
        "# Conclusion\n",
        "\n",
        "Congratulations! You’ve successfully learned the fundamentals of Python\n",
        "programming!\n",
        "\n",
        "**You’ve learned:**\n",
        "\n",
        "-   **Variables** - Storing and updating information\n",
        "-   **Data Types** - Working with integers, floats, and strings\n",
        "-   **Arithmetic** - Performing calculations\n",
        "-   **F-strings** - Creating formatted output\n",
        "\n",
        "You can now handle any calculation at Bean Counter coffee shop! From\n",
        "calculating bills and splitting checks to creating professional\n",
        "receipts, you have all the basic tools you need.\n",
        "\n",
        "**Remember:**\n",
        "\n",
        "-   Variables are named containers for storing data\n",
        "-   Python has different data types (int, float, str) for different\n",
        "    kinds of information\n",
        "-   Arithmetic operations follow standard mathematical rules\n",
        "-   F-strings make it easy to create formatted, professional output\n",
        "\n",
        "**Next up:** In the next tutorial, we’ll learn about lists and loops to\n",
        "handle multiple orders at once and analyze daily sales data!"
      ],
      "id": "35bba28a-864f-4b96-addb-c8183238c53e"
    }
  ],
  "nbformat": 4,
  "nbformat_minor": 5,
  "metadata": {
    "kernelspec": {
      "name": "python3",
      "display_name": "Python 3 (ipykernel)",
      "language": "python",
      "path": "/Users/vlcek/Documents/git-teaching/Management-Science/.venv/share/jupyter/kernels/python3"
    },
    "language_info": {
      "name": "python",
      "codemirror_mode": {
        "name": "ipython",
        "version": "3"
      },
      "file_extension": ".py",
      "mimetype": "text/x-python",
      "nbconvert_exporter": "python",
      "pygments_lexer": "ipython3",
      "version": "3.12.11"
    }
  }
}