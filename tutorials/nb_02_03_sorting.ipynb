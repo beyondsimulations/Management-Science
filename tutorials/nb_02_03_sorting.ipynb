{
  "cells": [
    {
      "cell_type": "markdown",
      "metadata": {},
      "source": [
        "# Tutorial 2.3 - Sorting & Finding Best Options\n",
        "\n",
        "Management Science - Operations Director at Bean Counter!\n",
        "\n",
        "# Introduction\n",
        "\n",
        "Welcome to your role as Operations Director at Bean Counter!\n",
        "\n",
        "**Congratulations on becoming Operations Director!**\n",
        "\n",
        "Your regional management skills were so impressive that the CEO has\n",
        "promoted you to **Operations Director**! You now oversee operations for\n",
        "the entire Bean Counter empire - 10 locations, 150+ employees, and\n",
        "thousands of daily decisions.\n",
        "\n",
        "**The Challenge:** Every day brings countless decisions:\n",
        "\n",
        "-   Which stores should receive limited supplies first?\n",
        "-   Which tasks should baristas prioritize during rush hour?\n",
        "-   Which locations need emergency support?\n",
        "-   How do we schedule deliveries efficiently?\n",
        "\n",
        "Making the wrong choice costs time, money, and customer satisfaction.\n",
        "You need systematic ways to find the best options!\n",
        "\n",
        "**Your Mission:** Understand **sorting and optimization** - Python’s\n",
        "tools for finding the best (or worst) options among many choices. You’ll\n",
        "learn to rank, prioritize, and optimize.\n",
        "\n",
        "In this tutorial, we’ll explore how to make data-driven decisions that\n",
        "optimize Bean Counter’s entire operation.\n",
        "\n",
        "> **How to Use This Tutorial**\n",
        ">\n",
        "> Cells marked with “YOUR CODE BELOW” expect you to write your own code.\n",
        "> Test blocks will verify your solutions.\n",
        "\n",
        "------------------------------------------------------------------------\n",
        "\n",
        "# Section 1 - Sorting Lists for Better Decisions\n",
        "\n",
        "As Operations Director, you constantly need to rank things: Which stores\n",
        "are performing best? Which products sell fastest? Let’s start with\n",
        "sorting simple lists."
      ],
      "id": "b6f58910-30d1-4762-8d2d-b4ca29cfc32d"
    },
    {
      "cell_type": "code",
      "execution_count": 1,
      "metadata": {},
      "outputs": [
        {
          "output_type": "stream",
          "name": "stdout",
          "text": [
            "Sales (low to high): [3800, 4500, 4900, 5100, 6200]\n",
            "Sales (high to low): [6200, 5100, 4900, 4500, 3800]\n",
            "Original: [4500, 6200, 3800, 5100, 4900]"
          ]
        }
      ],
      "source": [
        "# Sorting helps us see patterns and make decisions\n",
        "daily_sales = [4500, 6200, 3800, 5100, 4900]\n",
        "\n",
        "# Sort from lowest to highest\n",
        "sorted_sales = sorted(daily_sales)\n",
        "print(f\"Sales (low to high): {sorted_sales}\")\n",
        "\n",
        "# Sort from highest to lowest with reverse=True\n",
        "top_sales = sorted(daily_sales, reverse=True)\n",
        "print(f\"Sales (high to low): {top_sales}\")\n",
        "\n",
        "# Original list is unchanged!\n",
        "print(f\"Original: {daily_sales}\")"
      ],
      "id": "2ab9d187"
    },
    {
      "cell_type": "markdown",
      "metadata": {},
      "source": [
        "Key points about `sorted()`:\n",
        "\n",
        "-   Returns a NEW sorted list (doesn’t change the original)\n",
        "-   Default: sorts lowest to highest\n",
        "-   `reverse=True`: sorts highest to lowest\n",
        "-   Works with numbers, strings, and more\n",
        "\n",
        "> **Sort vs Sorted**\n",
        ">\n",
        "> -   `sorted(list)` - Creates a new sorted list, original unchanged\n",
        "> -   `list.sort()` - Sorts the list in place, modifying the original\n",
        ">\n",
        "> Use `sorted()` when you want to keep the original order available!\n",
        "\n",
        "## Exercise 1.1 - Rank Store Wait Times\n",
        "\n",
        "Bean Counter tracks average wait times (in seconds) for each location.\n",
        "Sort them to identify which stores need improvement.\n",
        "\n",
        "Create two lists:\n",
        "\n",
        "1.  `fastest_first` - sorted from fastest to slowest\n",
        "2.  `slowest_first` - sorted from slowest to fastest"
      ],
      "id": "d6fb6816-f82c-4fda-8e9b-304660b655a5"
    },
    {
      "cell_type": "code",
      "execution_count": 2,
      "metadata": {},
      "outputs": [],
      "source": [
        "wait_times = [95, 120, 85, 150, 110, 90, 135, 88, 125, 105]\n",
        "\n",
        "# YOUR CODE BELOW"
      ],
      "id": "bc5287b6"
    },
    {
      "cell_type": "code",
      "execution_count": 4,
      "metadata": {},
      "outputs": [],
      "source": [
        "# Test your sorting\n",
        "assert fastest_first[0] == 85, \"Fastest time should be 85 seconds\"\n",
        "assert fastest_first[-1] == 150, \"Last in fastest_first should be 150\"\n",
        "assert slowest_first[0] == 150, \"First in slowest_first should be 150\"\n",
        "assert slowest_first[-1] == 85, \"Last in slowest_first should be 85\"\n",
        "print(f\"Fastest to slowest: {fastest_first}\")\n",
        "print(f\"Slowest to fastest: {slowest_first}\")\n",
        "print(\"Perfect! You can now identify which stores need operational improvements!\")"
      ],
      "id": "98606cb5"
    },
    {
      "cell_type": "markdown",
      "metadata": {},
      "source": [
        "## Exercise 1.2 - Alphabetical Store Directory\n",
        "\n",
        "Create an alphabetically sorted list of store names for the company\n",
        "directory. It should be called `alphabetical`."
      ],
      "id": "1b11813c-9682-4cd3-8127-fed19ab27a74"
    },
    {
      "cell_type": "code",
      "execution_count": 5,
      "metadata": {},
      "outputs": [],
      "source": [
        "store_names = [\"Plaza\", \"Downtown\", \"Airport\", \"University\", \"Beach\", \"Station\", \"Mall\", \"Park\"]\n",
        "\n",
        "# YOUR CODE BELOW\n",
        "# Sort alphabetically (A to Z)"
      ],
      "id": "8af62c24"
    },
    {
      "cell_type": "code",
      "execution_count": 7,
      "metadata": {},
      "outputs": [],
      "source": [
        "# Test your alphabetical sorting\n",
        "assert alphabetical[0] == \"Airport\", \"First store should be Airport\"\n",
        "assert alphabetical[-1] == \"University\", \"Last store should be University\"\n",
        "assert len(alphabetical) == 8, \"Should still have 8 stores\"\n",
        "print(f\"Store directory: {alphabetical}\")\n",
        "print(\"Great! Your store directory is professionally organized!\")"
      ],
      "id": "4b6c364d"
    },
    {
      "cell_type": "markdown",
      "metadata": {},
      "source": [
        "------------------------------------------------------------------------\n",
        "\n",
        "# Section 2 - Finding Extremes with Min and Max\n",
        "\n",
        "Sometimes you don’t need the full ranking, just the best or worst.\n",
        "Python’s `min()` and `max()` functions find extremes instantly!"
      ],
      "id": "b605943f-93a9-48c5-994a-b8b0302186e1"
    },
    {
      "cell_type": "code",
      "execution_count": 8,
      "metadata": {},
      "outputs": [
        {
          "output_type": "stream",
          "name": "stdout",
          "text": [
            "Best customer rating: 4.9★\n",
            "Worst customer rating: 4.2★\n",
            "Rating range: 0.7★\n",
            "First alphabetically: Airport"
          ]
        }
      ],
      "source": [
        "# Finding the best and worst performers\n",
        "customer_ratings = [4.5, 4.8, 4.2, 4.9, 4.6, 4.3]\n",
        "\n",
        "best_rating = max(customer_ratings)\n",
        "worst_rating = min(customer_ratings)\n",
        "\n",
        "print(f\"Best customer rating: {best_rating}★\")\n",
        "print(f\"Worst customer rating: {worst_rating}★\")\n",
        "print(f\"Rating range: {best_rating - worst_rating:.1f}★\")\n",
        "\n",
        "# Also works with strings (alphabetical order)\n",
        "first_alphabetically = min([\"Plaza\", \"Downtown\", \"Airport\"])\n",
        "print(f\"First alphabetically: {first_alphabetically}\")"
      ],
      "id": "ee3be735"
    },
    {
      "cell_type": "markdown",
      "metadata": {},
      "source": [
        "> **Empty Lists**\n",
        ">\n",
        "> Be careful! Calling `min()` or `max()` on an empty list causes an\n",
        "> error. Always check if a list has items before using these functions:\n",
        ">\n",
        "> ``` python\n",
        "> if sales_list:  # True if list has items\n",
        ">     best = max(sales_list)\n",
        "> ```\n",
        "\n",
        "## Exercise 2.1 - Daily Operations Extremes\n",
        "\n",
        "Find the operational extremes for Bean Counter’s daily metrics:\n",
        "\n",
        "1.  Highest and lowest sales figures\n",
        "2.  Fastest and slowest delivery times\n",
        "3.  The difference between best and worst sales (the range)"
      ],
      "id": "8d5aa31e-b22e-4b71-a6da-ed79de96c6e2"
    },
    {
      "cell_type": "code",
      "execution_count": 9,
      "metadata": {},
      "outputs": [],
      "source": [
        "daily_sales = [4250, 6100, 3900, 5200, 4800, 5500, 4100]\n",
        "delivery_times = [25, 35, 18, 42, 30, 28, 38]  # in minutes\n",
        "\n",
        "# YOUR CODE BELOW\n",
        "\n",
        "# Find sales extremes\n",
        "highest_sales =\n",
        "lowest_sales =\n",
        "sales_range =\n",
        "\n",
        "# Find delivery extremes\n",
        "fastest_delivery =\n",
        "slowest_delivery ="
      ],
      "id": "590b312c"
    },
    {
      "cell_type": "code",
      "execution_count": 11,
      "metadata": {},
      "outputs": [],
      "source": [
        "# Test your extremes\n",
        "assert highest_sales == 6100, \"Highest sales should be 6100\"\n",
        "assert lowest_sales == 3900, \"Lowest sales should be 3900\"\n",
        "assert sales_range == 2200, \"Sales range should be 2200\"\n",
        "assert fastest_delivery == 18, \"Fastest delivery should be 18 minutes\"\n",
        "assert slowest_delivery == 42, \"Slowest delivery should be 42 minutes\"\n",
        "print(f\"Sales: ${lowest_sales} to ${highest_sales} (range: ${sales_range})\")\n",
        "print(f\"Delivery: {fastest_delivery} to {slowest_delivery} minutes\")\n",
        "print(\"Excellent! You can quickly identify operational extremes for decision-making!\")"
      ],
      "id": "9d1e1ef8"
    },
    {
      "cell_type": "markdown",
      "metadata": {},
      "source": [
        "------------------------------------------------------------------------\n",
        "\n",
        "# Section 3 - Sorting Dictionaries by Any Metric\n",
        "\n",
        "Real power comes from sorting complex data. As Operations Director, you\n",
        "need to rank stores by different metrics: sales, efficiency, customer\n",
        "satisfaction, etc."
      ],
      "id": "a00e316b-8604-4b8c-b9cf-e54ac9d7af70"
    },
    {
      "cell_type": "code",
      "execution_count": 12,
      "metadata": {},
      "outputs": [
        {
          "output_type": "stream",
          "name": "stdout",
          "text": [
            "By sales:\n",
            "  Airport: $6200\n",
            "  Downtown: $4500\n",
            "  University: $3800\n",
            "\n",
            "By rating:\n",
            "  University: 4.9★\n",
            "  Downtown: 4.8★\n",
            "  Airport: 4.5★"
          ]
        }
      ],
      "source": [
        "# Stores with multiple metrics\n",
        "stores = [\n",
        "    {\"name\": \"Downtown\", \"sales\": 4500, \"rating\": 4.8},\n",
        "    {\"name\": \"Airport\", \"sales\": 6200, \"rating\": 4.5},\n",
        "    {\"name\": \"University\", \"sales\": 3800, \"rating\": 4.9}\n",
        "]\n",
        "\n",
        "# Sort by sales (highest first)\n",
        "by_sales = sorted(stores, key=lambda x: x[\"sales\"], reverse=True)\n",
        "print(\"By sales:\")\n",
        "for store in by_sales:\n",
        "    print(f\"  {store['name']}: ${store['sales']}\")\n",
        "\n",
        "# Sort by rating (highest first)\n",
        "by_rating = sorted(stores, key=lambda x: x[\"rating\"], reverse=True)\n",
        "print(\"\\nBy rating:\")\n",
        "for store in by_rating:\n",
        "    print(f\"  {store['name']}: {store['rating']}★\")"
      ],
      "id": "b6b7c3bc"
    },
    {
      "cell_type": "markdown",
      "metadata": {},
      "source": [
        "> **The key Parameter**\n",
        ">\n",
        "> `key=lambda x: x[\"field\"]` tells Python what to sort by: - `lambda x:`\n",
        "> means “for each item x in the list” - `x[\"field\"]` is the value to\n",
        "> sort by - Think of it as: “sort by looking at this specific field”\n",
        "\n",
        "## Exercise 3.1 - Rank Stores by Efficiency\n",
        "\n",
        "Sort Bean Counter stores by efficiency (customers served per staff\n",
        "member). Create two rankings:\n",
        "\n",
        "1.  Most efficient to least efficient\n",
        "2.  Least efficient to most efficient"
      ],
      "id": "7703ef45-2e3e-4e35-85cd-878168748171"
    },
    {
      "cell_type": "code",
      "execution_count": 13,
      "metadata": {},
      "outputs": [],
      "source": [
        "store_efficiency = [\n",
        "    {\"location\": \"Plaza\", \"customers\": 450, \"staff\": 6},      # 75 per staff\n",
        "    {\"location\": \"Airport\", \"customers\": 680, \"staff\": 12},   # 56.7 per staff\n",
        "    {\"location\": \"Downtown\", \"customers\": 520, \"staff\": 8},   # 65 per staff\n",
        "    {\"location\": \"Beach\", \"customers\": 280, \"staff\": 4},      # 70 per staff\n",
        "    {\"location\": \"Station\", \"customers\": 410, \"staff\": 7}     # 58.6 per staff\n",
        "]\n",
        "\n",
        "# Calculate efficiency for each store\n",
        "for store in store_efficiency:\n",
        "    store[\"efficiency\"] = store[\"customers\"] / store[\"staff\"]\n",
        "\n",
        "# YOUR CODE BELOW\n",
        "\n",
        "# Sort by efficiency (most efficient first)\n",
        "most_efficient =\n",
        "\n",
        "# Sort by efficiency (least efficient first)\n",
        "least_efficient =\n"
      ],
      "id": "98989a65"
    },
    {
      "cell_type": "code",
      "execution_count": 15,
      "metadata": {},
      "outputs": [],
      "source": [
        "# Test your efficiency ranking\n",
        "assert most_efficient[0][\"location\"] == \"Plaza\", \"Plaza should be most efficient\"\n",
        "assert most_efficient[-1][\"location\"] == \"Airport\", \"Airport should be least efficient\"\n",
        "assert least_efficient[0][\"location\"] == \"Airport\", \"Airport should be first in least efficient\"\n",
        "print(\"Most to least efficient:\")\n",
        "for store in most_efficient:\n",
        "    print(f\"  {store['location']}: {store['efficiency']:.1f} customers/staff\")\n",
        "print(\"Perfect! You can now identify which stores operate most efficiently!\")"
      ],
      "id": "017defd6"
    },
    {
      "cell_type": "markdown",
      "metadata": {},
      "source": [
        "------------------------------------------------------------------------\n",
        "\n",
        "# Section 4 - Finding the Best Option in Complex Data\n",
        "\n",
        "As Operations Director, you often need to find THE best store, THE most\n",
        "urgent task, or THE optimal choice from complex data."
      ],
      "id": "0860891e-37ee-4153-94af-5c1e4feab91f"
    },
    {
      "cell_type": "code",
      "execution_count": 16,
      "metadata": {},
      "outputs": [
        {
          "output_type": "stream",
          "name": "stdout",
          "text": [
            "Highest profit: Airport ($22000)\n",
            "Best satisfaction: Beach (4.9★)"
          ]
        }
      ],
      "source": [
        "# Finding the best store by different metrics\n",
        "locations = [\n",
        "    {\"name\": \"Downtown\", \"profit\": 15000, \"satisfaction\": 4.8},\n",
        "    {\"name\": \"Airport\", \"profit\": 22000, \"satisfaction\": 4.5},\n",
        "    {\"name\": \"Beach\", \"profit\": 12000, \"satisfaction\": 4.9}\n",
        "]\n",
        "\n",
        "# Find store with highest profit\n",
        "best_profit = max(locations, key=lambda x: x[\"profit\"])\n",
        "print(f\"Highest profit: {best_profit['name']} (${best_profit['profit']})\")\n",
        "\n",
        "# Find store with best satisfaction\n",
        "best_satisfaction = max(locations, key=lambda x: x[\"satisfaction\"])\n",
        "print(f\"Best satisfaction: {best_satisfaction['name']} ({best_satisfaction['satisfaction']}★)\")"
      ],
      "id": "e84cae54"
    },
    {
      "cell_type": "markdown",
      "metadata": {},
      "source": [
        "> **Tip**\n",
        ">\n",
        "> Looks nearly as the previous example, doesn’t it?\n",
        "\n",
        "## Exercise 4.1 - Critical Supply Allocation\n",
        "\n",
        "Bean Counter has limited specialty coffee beans. Find which store should\n",
        "receive them based on different criteria:\n",
        "\n",
        "1.  The store with the lowest current inventory (most urgent need)\n",
        "2.  The store with the highest daily bean usage (highest demand)"
      ],
      "id": "7c760104-067d-4547-b67d-e293c12dee7d"
    },
    {
      "cell_type": "code",
      "execution_count": 17,
      "metadata": {},
      "outputs": [],
      "source": [
        "supply_data = [\n",
        "    {\"store\": \"Plaza\", \"inventory_kg\": 15, \"daily_usage\": 8},\n",
        "    {\"store\": \"Downtown\", \"inventory_kg\": 8, \"daily_usage\": 12},\n",
        "    {\"store\": \"Airport\", \"inventory_kg\": 25, \"daily_usage\": 15},\n",
        "    {\"store\": \"Beach\", \"inventory_kg\": 5, \"daily_usage\": 6},\n",
        "    {\"store\": \"University\", \"inventory_kg\": 18, \"daily_usage\": 10}\n",
        "]\n",
        "\n",
        "# YOUR CODE BELOW\n",
        "# Find store with lowest inventory\n",
        "most_urgent =\n",
        "\n",
        "# Find store with highest daily usage\n",
        "highest_demand =\n"
      ],
      "id": "86b4368c"
    },
    {
      "cell_type": "code",
      "execution_count": 19,
      "metadata": {},
      "outputs": [],
      "source": [
        "# Test your supply allocation\n",
        "assert most_urgent[\"store\"] == \"Beach\", \"Beach has lowest inventory\"\n",
        "assert highest_demand[\"store\"] == \"Airport\", \"Airport has highest daily usage\"\n",
        "print(f\"Most urgent (lowest inventory): {most_urgent['store']}\")\n",
        "print(f\"Highest demand: {highest_demand['store']}\")\n",
        "print(\"Excellent decision-making! You've allocated supplies optimally!\")"
      ],
      "id": "3bcf10d9"
    },
    {
      "cell_type": "markdown",
      "metadata": {},
      "source": [
        "------------------------------------------------------------------------\n",
        "\n",
        "# Section 5 - Introduction to Scheduling Optimization\n",
        "\n",
        "As Operations Director, you’ll face scheduling challenges daily. Let’s\n",
        "preview two fundamental scheduling rules used in operations management.\n",
        "\n",
        "**SPT (Shortest Processing Time)**: Do the quickest tasks first\n",
        "\n",
        "-   Minimizes average waiting time\n",
        "-   Reduces work-in-progress\n",
        "\n",
        "**EDD (Earliest Due Date)**: Do tasks with earliest deadlines first\n",
        "\n",
        "-   Minimizes late deliveries\n",
        "-   Ensures time-sensitive tasks are prioritized"
      ],
      "id": "410a75e0-5fc6-442f-b832-24fd8425cfc1"
    },
    {
      "cell_type": "code",
      "execution_count": 20,
      "metadata": {},
      "outputs": [
        {
          "output_type": "stream",
          "name": "stdout",
          "text": [
            "SPT Schedule (fastest first):\n",
            "  Order C: 2 min prep\n",
            "  Order A: 3 min prep\n",
            "  Order B: 5 min prep\n",
            "SPT order sequence: ['C', 'A', 'B']\n",
            "\n",
            "EDD Schedule (earliest deadline first):\n",
            "  Order B: deadline at minute 8\n",
            "  Order A: deadline at minute 10\n",
            "  Order C: deadline at minute 12\n",
            "EDD order sequence: ['B', 'A', 'C']"
          ]
        }
      ],
      "source": [
        "# Scheduling coffee orders during morning rush\n",
        "orders = [\n",
        "    {\"id\": \"A\", \"prep_time\": 3, \"deadline\": 10},\n",
        "    {\"id\": \"B\", \"prep_time\": 5, \"deadline\": 8},\n",
        "    {\"id\": \"C\", \"prep_time\": 2, \"deadline\": 12}\n",
        "]\n",
        "\n",
        "# SPT: Sort by preparation time\n",
        "spt_schedule = sorted(orders, key=lambda x: x[\"prep_time\"])\n",
        "print(\"SPT Schedule (fastest first):\")\n",
        "for order in spt_schedule:\n",
        "    print(f\"  Order {order['id']}: {order['prep_time']} min prep\")\n",
        "\n",
        "# Extract just the IDs using list comprehension\n",
        "# This compact syntax: [item[\"field\"] for item in list]\n",
        "# Creates a new list with just the IDs\n",
        "spt_ids = [order[\"id\"] for order in spt_schedule]\n",
        "print(f\"SPT order sequence: {spt_ids}\")\n",
        "\n",
        "# EDD: Sort by deadline\n",
        "edd_schedule = sorted(orders, key=lambda x: x[\"deadline\"])\n",
        "print(\"\\nEDD Schedule (earliest deadline first):\")\n",
        "for order in edd_schedule:\n",
        "    print(f\"  Order {order['id']}: deadline at minute {order['deadline']}\")\n",
        "\n",
        "# Again, extract just the IDs using list comprehension\n",
        "edd_ids = [order[\"id\"] for order in edd_schedule]\n",
        "print(f\"EDD order sequence: {edd_ids}\")"
      ],
      "id": "02de4a19"
    },
    {
      "cell_type": "markdown",
      "metadata": {},
      "source": [
        "> **List Comprehension**\n",
        ">\n",
        "> The syntax `[order[\"id\"] for order in spt_schedule]` is called **list\n",
        "> comprehension**. It is a compact way to create a new list by\n",
        "> extracting or transforming elements from an existing list. It’s much\n",
        "> cleaner than writing a loop to append items one by one!\n",
        "\n",
        "## Exercise 5.1 - Morning Rush Scheduling\n",
        "\n",
        "It’s 7 AM at Bean Counter Plaza, and you have multiple drink orders to\n",
        "schedule. Apply both SPT and EDD rules to determine the order sequence.\n",
        "\n",
        "Create:\n",
        "\n",
        "1.  `spt_sequence` - List of order IDs in SPT order\n",
        "2.  `edd_sequence` - List of order IDs in EDD order"
      ],
      "id": "002c1850-acd1-46ab-8f6b-f2a1acf8d0cd"
    },
    {
      "cell_type": "code",
      "execution_count": 21,
      "metadata": {},
      "outputs": [],
      "source": [
        "rush_orders = [\n",
        "    {\"id\": \"Latte1\", \"prep_time\": 4, \"promised_time\": 7.15},\n",
        "    {\"id\": \"Espresso1\", \"prep_time\": 2, \"promised_time\": 7.10},\n",
        "    {\"id\": \"Cappuccino1\", \"prep_time\": 5, \"promised_time\": 7.20},\n",
        "    {\"id\": \"Americano1\", \"prep_time\": 3, \"promised_time\": 7.12},\n",
        "    {\"id\": \"Latte2\", \"prep_time\": 4, \"promised_time\": 7.18}\n",
        "]\n",
        "\n",
        "# YOUR CODE BELOW\n",
        "# Apply SPT rule (sort by prep_time)\n",
        "\n",
        "# Extract just the IDs using list comprehension\n",
        "\n",
        "# Apply EDD rule (sort by promised_time)\n",
        "\n",
        "# Extract just the IDs using list comprehension"
      ],
      "id": "9ebad934"
    },
    {
      "cell_type": "code",
      "execution_count": 23,
      "metadata": {},
      "outputs": [],
      "source": [
        "# Test your scheduling\n",
        "assert spt_sequence[0] == \"Espresso1\", \"Espresso1 should be first in SPT\"\n",
        "assert spt_sequence[-1] == \"Cappuccino1\", \"Cappuccino1 should be last in SPT\"\n",
        "assert edd_sequence[0] == \"Espresso1\", \"Espresso1 should be first in EDD\"\n",
        "assert edd_sequence[1] == \"Americano1\", \"Americano1 should be second in EDD\"\n",
        "print(f\"SPT sequence: {spt_sequence}\")\n",
        "print(f\"EDD sequence: {edd_sequence}\")\n",
        "print(\"Outstanding! You've mastered basic scheduling optimization!\")"
      ],
      "id": "2a26e5fc"
    },
    {
      "cell_type": "markdown",
      "metadata": {},
      "source": [
        "------------------------------------------------------------------------\n",
        "\n",
        "# Conclusion\n",
        "\n",
        "**Congratulations! You’ve built an optimization toolkit for Bean\n",
        "Counter’s operations!**\n",
        "\n",
        "**You’ve learned:**\n",
        "\n",
        "-   **Sorting Lists** - Ranking data from best to worst (or vice versa)\n",
        "-   **Finding Min/Max** - Quickly identifying extremes in your data\n",
        "-   **Sorting Dictionaries** - Ranking complex data by any metric\n",
        "-   **Finding Best Options** - Selecting optimal choices from\n",
        "    dictionaries\n",
        "-   **Scheduling Rules** - SPT and EDD for operational efficiency\n",
        "\n",
        "**Your Bean Counter optimization system can now:**\n",
        "\n",
        "-   Rank stores by any performance metric\n",
        "-   Identify the best and worst performers instantly\n",
        "-   Allocate resources to the most critical locations\n",
        "-   Schedule tasks for maximum efficiency\n",
        "-   Make data-driven operational decisions\n",
        "\n",
        "**Remember:**\n",
        "\n",
        "-   `sorted()` creates a new list; the original stays unchanged\n",
        "-   `reverse=True` sorts from highest to lowest\n",
        "-   `min()` and `max()` find extremes quickly\n",
        "-   Use `key=lambda x: x[\"field\"]` to sort dictionaries by any field\n",
        "-   SPT minimizes wait times; EDD minimizes late orders\n",
        "-   Always consider what metric to optimize for your specific goal\n",
        "\n",
        "**What’s Next:** The CEO is preparing you for the a challenge! In the\n",
        "next tutorial, you’ll integrate everything you’ve learned - functions,\n",
        "dictionaries, and sorting.\n",
        "\n",
        "# Solutions\n",
        "\n",
        "You will likely find solutions to most exercises online. However, I\n",
        "strongly encourage you to work on these exercises independently without\n",
        "searching explicitly for the exact answers to the exercises.\n",
        "Understanding someone else’s solution is very different from developing\n",
        "your own. Use the lecture notes and try to solve the exercises on your\n",
        "own. This approach will significantly enhance your learning and\n",
        "problem-solving skills.\n",
        "\n",
        "Remember, the goal is not just to complete the exercises, but to\n",
        "understand the concepts and improve your programming abilities. If you\n",
        "encounter difficulties, review the lecture materials, experiment with\n",
        "different approaches, and don’t hesitate to ask for clarification during\n",
        "class discussions."
      ],
      "id": "5d9cae41-e988-4bdb-b052-d6110b67468e"
    }
  ],
  "nbformat": 4,
  "nbformat_minor": 5,
  "metadata": {
    "kernelspec": {
      "name": "python3",
      "display_name": "Python 3 (ipykernel)",
      "language": "python",
      "path": "/Users/vlcek/Documents/git-teaching/Management-Science/.venv/share/jupyter/kernels/python3"
    },
    "language_info": {
      "name": "python",
      "codemirror_mode": {
        "name": "ipython",
        "version": "3"
      },
      "file_extension": ".py",
      "mimetype": "text/x-python",
      "nbconvert_exporter": "python",
      "pygments_lexer": "ipython3",
      "version": "3.12.11"
    }
  }
}