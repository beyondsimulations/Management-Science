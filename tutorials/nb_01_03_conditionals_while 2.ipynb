{
  "cells": [
    {
      "cell_type": "markdown",
      "metadata": {},
      "source": [
        "# Tutorial 1.3 - Conditionals & While Loops\n",
        "\n",
        "Management Science\n",
        "\n",
        "# Introduction\n",
        "\n",
        "Welcome to your third interactive Python tutorial!\n",
        "\n",
        "**The Smart Inventory System Problem**\n",
        "\n",
        "Bean Counter coffee shop is growing! They need a smarter inventory\n",
        "management system that can:\n",
        "\n",
        "-   Alert when supplies are running low\n",
        "-   Automatically reorder items when needed\n",
        "-   Track which products are selling fastest\n",
        "-   Simulate inventory usage over time\n",
        "\n",
        "These tasks require your program to make decisions and repeat processes\n",
        "until certain conditions are met. That’s where conditionals and while\n",
        "loops come in - they’re the brains behind smart automated systems!\n",
        "\n",
        "In this tutorial, we’ll learn how to make decisions with if/elif/else\n",
        "statements and create loops that run until specific conditions are met.\n",
        "\n",
        "> **Note**\n",
        ">\n",
        "> If a cell is marked with YOUR CODE BELOW, you are expected to write\n",
        "> your code in that cell.\n",
        "\n",
        "# Section 1 - Comparison Operators & Boolean Logic\n",
        "\n",
        "To make smart decisions, we need to compare values and combine\n",
        "conditions."
      ],
      "id": "6262dae9-b707-4a44-8784-cdcd5f32c163"
    },
    {
      "cell_type": "code",
      "execution_count": 1,
      "metadata": {},
      "outputs": [
        {
          "output_type": "stream",
          "name": "stdout",
          "text": [
            "Temperature = 68°F\n",
            "Temperature > 70: False\n",
            "Temperature <= 68: True\n",
            "Temperature == 68: True\n",
            "Temperature != 70: True"
          ]
        }
      ],
      "source": [
        "# Comparison operators\n",
        "temperature = 68\n",
        "humidity = 45\n",
        "\n",
        "print(f\"Temperature = {temperature}°F\")\n",
        "print(f\"Temperature > 70: {temperature > 70}\")\n",
        "print(f\"Temperature <= 68: {temperature <= 68}\")\n",
        "print(f\"Temperature == 68: {temperature == 68}\")\n",
        "print(f\"Temperature != 70: {temperature != 70}\")"
      ],
      "id": "ae063afe"
    },
    {
      "cell_type": "code",
      "execution_count": 2,
      "metadata": {},
      "outputs": [
        {
          "output_type": "stream",
          "name": "stdout",
          "text": [
            "Temperature is in comfort zone: True\n",
            "Uncomfortable conditions: False"
          ]
        }
      ],
      "source": [
        "# Boolean logic with 'and' & 'or'\n",
        "temperature = 68\n",
        "humidity = 45\n",
        "\n",
        "# Both conditions must be True for 'and'\n",
        "check_comfort = temperature >= 65 and temperature <= 75\n",
        "print(f\"Temperature is in comfort zone: {check_comfort}\")\n",
        "\n",
        "# At least one condition must be True for 'or'\n",
        "check_condition = temperature > 80 or humidity > 70\n",
        "print(f\"Uncomfortable conditions: {check_condition}\")"
      ],
      "id": "86c71ed1"
    },
    {
      "cell_type": "markdown",
      "metadata": {},
      "source": [
        "> **Comparison Operators:**\n",
        ">\n",
        "> -   `==` equal to\n",
        "> -   `!=` not equal to\n",
        "> -   `>` greater than\n",
        "> -   `<` less than\n",
        "> -   `>=` greater than or equal to\n",
        "> -   `<=` less than or equal to\n",
        "\n",
        "> **Boolean Operators:**\n",
        ">\n",
        "> -   `and` - both conditions must be True\n",
        "> -   `or` - at least one condition must be True\n",
        "> -   `not` - reverses the condition\n",
        "\n",
        "## Exercise 2.1 - Coffee Bean Quality Check\n",
        "\n",
        "Check if coffee beans meet quality standards. Beans pass if:\n",
        "\n",
        "-   The moisture level is between 10 and 12 (inclusive)\n",
        "-   AND the defect count is less than 5\n",
        "\n",
        "Create a variable `passes_quality` that is True if both conditions are\n",
        "met."
      ],
      "id": "a152c566-eb15-4e6a-8f4a-f3a8286c37a9"
    },
    {
      "cell_type": "code",
      "execution_count": 3,
      "metadata": {},
      "outputs": [],
      "source": [
        "moisture_level = 11\n",
        "defect_count = 3\n",
        "\n",
        "# Check if moisture_level is between 10 and 12 (inclusive) AND defect_count < 5\n",
        "# Store the result in passes_quality\n",
        "# YOUR CODE BELOW"
      ],
      "id": "6123f1f4"
    },
    {
      "cell_type": "code",
      "execution_count": 5,
      "metadata": {},
      "outputs": [],
      "source": [
        "# Test your answer\n",
        "assert passes_quality == True, \"Beans with moisture=11 and defects=3 should pass\"\n",
        "print(\"Excellent! Your quality check system works correctly!\")"
      ],
      "id": "d749cfb9"
    },
    {
      "cell_type": "markdown",
      "metadata": {},
      "source": [
        "## Exercise 2.2 - Special Offer Eligibility\n",
        "\n",
        "Customers get a special offer if they meet ANY of these conditions:\n",
        "\n",
        "-   They’re a member (is_member = True)\n",
        "-   OR they’ve spent more than \\$100\n",
        "-   OR it’s their birthday (is_birthday = True)\n",
        "\n",
        "Determine if the customer is eligible and print an appropriate message."
      ],
      "id": "cf3c80db-6daa-47ca-930c-62d98894547e"
    },
    {
      "cell_type": "code",
      "execution_count": 6,
      "metadata": {},
      "outputs": [],
      "source": [
        "# YOUR CODE BELOW\n",
        "is_member = False\n",
        "total_spent = 120\n",
        "is_birthday = False\n",
        "\n",
        "# Check if customer is eligible for special offer using 'or'\n",
        "# Store result in eligible_for_offer\n",
        "# Print \"Special offer available!\" or \"No special offers today\""
      ],
      "id": "81e3dd34"
    },
    {
      "cell_type": "code",
      "execution_count": 8,
      "metadata": {},
      "outputs": [],
      "source": [
        "# Test your answer\n",
        "assert eligible_for_offer == True, \"Customer spending $120 should be eligible\"\n",
        "print(\"Perfect! Your special offer system works with OR logic!\")"
      ],
      "id": "4fda466d"
    },
    {
      "cell_type": "markdown",
      "metadata": {},
      "source": [
        "# Section 2 - If/Elif/Else Statements\n",
        "\n",
        "Conditional statements let your program make decisions based on\n",
        "conditions. Think of them as automated decision rules."
      ],
      "id": "6d492798-f7cf-440d-b0b8-4913a3df96e2"
    },
    {
      "cell_type": "code",
      "execution_count": 9,
      "metadata": {},
      "outputs": [
        {
          "output_type": "stream",
          "name": "stdout",
          "text": [
            "Low stock alert!\n",
            "Current stock: 15\n",
            "Please reorder soon!"
          ]
        }
      ],
      "source": [
        "# Basic if statement structure\n",
        "stock_level = 15\n",
        "minimum_stock = 20\n",
        "\n",
        "if stock_level < minimum_stock:\n",
        "    print(\"Low stock alert!\")\n",
        "    print(f\"Current stock: {stock_level}\")\n",
        "    print(f\"Please reorder soon!\")\n",
        "else:\n",
        "    print(\"Stock level is good\")\n",
        "    print(f\"Current stock: {stock_level}\")"
      ],
      "id": "63c2f1d4"
    },
    {
      "cell_type": "code",
      "execution_count": 10,
      "metadata": {},
      "outputs": [
        {
          "output_type": "stream",
          "name": "stdout",
          "text": [
            "WARNING: Stock is low"
          ]
        }
      ],
      "source": [
        "# Using elif for multiple conditions\n",
        "coffee_beans_kg = 8\n",
        "\n",
        "if coffee_beans_kg < 5:\n",
        "    print(\"URGENT: Order immediately!\")\n",
        "elif coffee_beans_kg < 10:\n",
        "    print(\"WARNING: Stock is low\")\n",
        "elif coffee_beans_kg < 20:\n",
        "    print(\"Stock is adequate\")\n",
        "else:\n",
        "    print(\"Stock is excellent!\")"
      ],
      "id": "d36f225f"
    },
    {
      "cell_type": "markdown",
      "metadata": {},
      "source": [
        "> **If/Elif/Else Structure**\n",
        ">\n",
        "> ``` python\n",
        "> if condition1:\n",
        ">     # Do this if condition1 is True\n",
        "> elif condition2:\n",
        ">     # Do this if condition1 is False but condition2 is True\n",
        "> else:\n",
        ">     # Do this if all conditions are False\n",
        "> ```\n",
        ">\n",
        "> **Remember the colons (:) and indentation!**\n",
        "\n",
        "## Exercise 2.1 - Simple Stock Alert\n",
        "\n",
        "Create a stock alert system. You need to:\n",
        "\n",
        "1.  Check if `milk_liters` is less than 10\n",
        "2.  If it is, print “Order more milk!” and set `order` to `True`\n",
        "3.  Otherwise, print “Milk stock OK”"
      ],
      "id": "47041141-eb50-4ede-a290-2ca6def3b755"
    },
    {
      "cell_type": "code",
      "execution_count": 11,
      "metadata": {},
      "outputs": [],
      "source": [
        "# YOUR CODE BELOW\n",
        "milk_liters = 7\n",
        "order = False"
      ],
      "id": "c2f7be6c"
    },
    {
      "cell_type": "code",
      "execution_count": 13,
      "metadata": {},
      "outputs": [],
      "source": [
        "# Test your answer\n",
        "assert order == True, \"'order' should be `True` when milk_liters is 7\"\n",
        "print(\"Great! Your stock alert system works!\")"
      ],
      "id": "0207a069"
    },
    {
      "cell_type": "markdown",
      "metadata": {},
      "source": [
        "## Exercise 2.2 - Multi-Level Pricing\n",
        "\n",
        "Create a pricing system with multiple tiers. The rules are:\n",
        "\n",
        "-   Orders less than 10 items: \\$5 per item\n",
        "-   Orders 10-49 items: \\$4.50 per item\n",
        "-   Orders 50 or more items: \\$4 per item\n",
        "\n",
        "Calculate and print the `price_per_item` and `total_cost` for the given\n",
        "`quantity`."
      ],
      "id": "285f8b26-7863-449a-857a-c107b5e85a6d"
    },
    {
      "cell_type": "code",
      "execution_count": 14,
      "metadata": {},
      "outputs": [],
      "source": [
        "# YOUR CODE BELOW\n",
        "quantity = 25\n",
        "\n",
        "# Use if/elif/else to determine price_per_item\n",
        "# Then calculate total_cost = quantity * price_per_item\n",
        "# Print both values"
      ],
      "id": "8fe1fb3d"
    },
    {
      "cell_type": "code",
      "execution_count": 16,
      "metadata": {},
      "outputs": [],
      "source": [
        "# Test your answer\n",
        "assert price_per_item == 4.50, \"price_per_item should be 4.50 for quantity 25\"\n",
        "assert total_cost == 112.50, \"total_cost should be 112.50 (25 * 4.50)\"\n",
        "print(f\"Perfect! Price per item: ${price_per_item}, Total: ${total_cost}\")"
      ],
      "id": "4059f322"
    },
    {
      "cell_type": "markdown",
      "metadata": {},
      "source": [
        "# Section 3 - Conditionals Within Loops\n",
        "\n",
        "Combining loops with conditionals lets us filter and process data\n",
        "intelligently."
      ],
      "id": "bb76ed39-d788-4ef6-8110-4c269cab14bc"
    },
    {
      "cell_type": "code",
      "execution_count": 17,
      "metadata": {},
      "outputs": [
        {
          "output_type": "stream",
          "name": "stdout",
          "text": [
            "Sales Analysis:\n",
            "  Day 1: $1250 Missed by $250\n",
            "  Day 2: $1890 Met target!\n",
            "  Day 3: $950 Missed by $550\n",
            "  Day 4: $2100 Met target!\n",
            "  Day 5: $1650 Met target!"
          ]
        }
      ],
      "source": [
        "# Process a list with conditions\n",
        "daily_sales = [1250, 1890, 950, 2100, 1650]\n",
        "target = 1500\n",
        "\n",
        "print(\"Sales Analysis:\")\n",
        "for i, sale in enumerate(daily_sales):\n",
        "    if sale >= target:\n",
        "        print(f\"  Day {i+1}: ${sale} Met target!\")\n",
        "    else:\n",
        "        shortfall = target - sale\n",
        "        print(f\"  Day {i+1}: ${sale} Missed by ${shortfall}\")"
      ],
      "id": "813f9cbd"
    },
    {
      "cell_type": "markdown",
      "metadata": {},
      "source": [
        "> **Tip**\n",
        ">\n",
        "> Instead of just using `range`, we can use `enumerate` to get both\n",
        "> index and value in a loop at once. The `enumerate` function returns\n",
        "> the index (here i) and value (here sale) of each element in the list.\n",
        "\n",
        "> **Common Pattern:**\n",
        ">\n",
        "> When filtering lists, create an empty list first, then append items\n",
        "> that meet your conditions:\n",
        ">\n",
        "> ``` python\n",
        "> filtered = []\n",
        "> for item in original_list:\n",
        ">     if condition:\n",
        ">         filtered.append(item)\n",
        "> ```\n",
        "\n",
        "## Exercise 3.1 - Filter High-Value Orders\n",
        "\n",
        "Create a list containing only orders above \\$50. Also count how many\n",
        "high-value orders there are."
      ],
      "id": "a576fd09-9dcd-44dc-abb7-9d0bcea7d235"
    },
    {
      "cell_type": "code",
      "execution_count": 18,
      "metadata": {},
      "outputs": [],
      "source": [
        "all_orders = [35.50, 67.25, 45.00, 89.99, 52.10, 23.75, 91.50, 48.00]\n",
        "\n",
        "# Create empty list for high_value_orders\n",
        "high_value_orders = []\n",
        "count = 0\n",
        "\n",
        "# YOUR CODE BELOW\n",
        "\n",
        "# Loop through all_orders\n",
        "# If order > 50, append to high_value_orders and increment count"
      ],
      "id": "654d3b2e"
    },
    {
      "cell_type": "code",
      "execution_count": 20,
      "metadata": {},
      "outputs": [],
      "source": [
        "# Test your answer\n",
        "assert high_value_orders == [67.25, 89.99, 52.10, 91.50], \"high_value_orders should contain [67.25, 89.99, 52.10, 91.50]\"\n",
        "assert count == 4, \"count should be 4\"\n",
        "print(f\"Great! Found {count} high-value orders: {high_value_orders}\")"
      ],
      "id": "71efb858"
    },
    {
      "cell_type": "markdown",
      "metadata": {},
      "source": [
        "## Exercise 3.2 - Categorize Products\n",
        "\n",
        "Categorize products by stock level and create separate lists for each\n",
        "category:\n",
        "\n",
        "-   Critical: stock \\< 10\n",
        "-   Low: stock \\>= 10 and stock \\< 25\n",
        "-   Good: stock \\>= 25"
      ],
      "id": "3beb8470-75bb-44dc-a8cc-4f36138424a7"
    },
    {
      "cell_type": "code",
      "execution_count": 21,
      "metadata": {},
      "outputs": [],
      "source": [
        "products = [\"Coffee\", \"Milk\", \"Sugar\", \"Cups\", \"Lids\", \"Stirrers\"]\n",
        "stock_levels = [5, 18, 35, 8, 42, 15]\n",
        "\n",
        "critical = []\n",
        "low = []\n",
        "good = []\n",
        "\n",
        "# YOUR CODE BELOW\n",
        "#\n",
        "# Loop through products using range(len(products))\n",
        "# Check stock_levels[i] and append products[i] to appropriate list"
      ],
      "id": "1bfee70f"
    },
    {
      "cell_type": "code",
      "execution_count": 23,
      "metadata": {},
      "outputs": [],
      "source": [
        "# Test your answer\n",
        "assert critical == [\"Coffee\", \"Cups\"], \"critical should be ['Coffee', 'Cups']\"\n",
        "assert low == [\"Milk\", \"Stirrers\"], \"low should be ['Milk', 'Stirrers']\"\n",
        "assert good == [\"Sugar\", \"Lids\"], \"good should be ['Sugar', 'Lids']\"\n",
        "print(\"Perfect! Product categorization complete!\")\n",
        "print(f\"Critical: {critical}\")\n",
        "print(f\"Low: {low}\")\n",
        "print(f\"Good: {good}\")"
      ],
      "id": "090300f6"
    },
    {
      "cell_type": "markdown",
      "metadata": {},
      "source": [
        "# Section 4 - While Loops for Iterative Processes\n",
        "\n",
        "While loops continue running as long as a condition is True. Perfect for\n",
        "simulations and processes with unknown iterations!"
      ],
      "id": "7ae1e82f-8ede-4fdd-8e9e-412a1210d71e"
    },
    {
      "cell_type": "code",
      "execution_count": 24,
      "metadata": {},
      "outputs": [
        {
          "output_type": "stream",
          "name": "stdout",
          "text": [
            "Inventory simulation:\n",
            "  Day 1: 17 units remaining\n",
            "  Day 2: 14 units remaining\n",
            "  Day 3: 11 units remaining\n",
            "  Day 4: 8 units remaining\n",
            "  Day 5: 5 units remaining\n",
            "\n",
            "Reorder needed after 5 days!"
          ]
        }
      ],
      "source": [
        "# While loop example - counting down inventory\n",
        "stock = 20\n",
        "daily_usage = 3\n",
        "days = 0\n",
        "\n",
        "print(\"Inventory simulation:\")\n",
        "while stock > 5:  # Continue while stock is above minimum\n",
        "    stock = stock - daily_usage\n",
        "    days = days + 1\n",
        "    print(f\"  Day {days}: {stock} units remaining\")\n",
        "\n",
        "print(f\"\\nReorder needed after {days} days!\")"
      ],
      "id": "b4696aa0"
    },
    {
      "cell_type": "markdown",
      "metadata": {},
      "source": [
        "> **Tip**\n",
        ">\n",
        "> **While Loop Structure:**\n",
        ">\n",
        "> ``` python\n",
        "> while condition:\n",
        ">     # Code runs repeatedly while condition is True\n",
        ">     # Make sure something changes to eventually make condition False!\n",
        "> ```\n",
        "\n",
        "> **Warning**\n",
        ">\n",
        "> **Be careful of infinite loops!** Always ensure the condition will\n",
        "> eventually become False.\n",
        "\n",
        "## Exercise 4.1 - Customer Queue Simulation\n",
        "\n",
        "Simulate serving customers in a queue. Each minute you can serve 2\n",
        "customers, and 3 new customers arrive. Stop when the queue exceeds 20\n",
        "customers.\n",
        "\n",
        "Track:\n",
        "\n",
        "-   How many minutes it takes\n",
        "-   The final queue size"
      ],
      "id": "e619cd73-9dd9-4bee-9bbe-68dc34883d84"
    },
    {
      "cell_type": "code",
      "execution_count": 25,
      "metadata": {},
      "outputs": [],
      "source": [
        "queue_size = 5  # Starting queue\n",
        "minutes = 0\n",
        "serve_rate = 2  # Customers served per minute\n",
        "arrival_rate = 3  # New customers per minute\n",
        "\n",
        "# YOUR CODE BELOW\n",
        "\n",
        "# Use a while loop that continues while queue_size <= 20\n",
        "# Each iteration: add arrivals, subtract served, increment minutes\n"
      ],
      "id": "1839694e"
    },
    {
      "cell_type": "code",
      "execution_count": 27,
      "metadata": {},
      "outputs": [],
      "source": [
        "# Test your answer\n",
        "assert minutes == 16, \"Should take 16 minutes to exceed 20 customers\"\n",
        "assert queue_size == 21, \"Final queue size should be 21\"\n",
        "print(f\"Excellent! After {minutes} minutes, queue size is {queue_size}\")"
      ],
      "id": "bfbfc497"
    },
    {
      "cell_type": "markdown",
      "metadata": {},
      "source": [
        "# Section 5 - Building Filtered Lists\n",
        "\n",
        "Let’s combine everything to build sophisticated filtering systems."
      ],
      "id": "7b4febf9-f867-42cb-bf3e-565e57000a4a"
    },
    {
      "cell_type": "code",
      "execution_count": 28,
      "metadata": {},
      "outputs": [
        {
          "output_type": "stream",
          "name": "stdout",
          "text": [
            "Affordable drinks: ['Espresso', 'Tea']\n",
            "Average food price: $4.82"
          ]
        }
      ],
      "source": [
        "# Complex filtering example\n",
        "products = [\"Espresso\", \"Latte\", \"Muffin\", \"Sandwich\", \"Tea\", \"Cookie\"]\n",
        "prices = [3.50, 4.75, 3.25, 8.95, 2.50, 2.25]\n",
        "categories = [\"drink\", \"drink\", \"food\", \"food\", \"drink\", \"food\"]\n",
        "\n",
        "# Find all drinks under $4\n",
        "cheap_drinks = []\n",
        "for i in range(len(products)):\n",
        "    if categories[i] == \"drink\" and prices[i] < 4.00:\n",
        "        cheap_drinks.append(products[i])\n",
        "\n",
        "print(f\"Affordable drinks: {cheap_drinks}\")\n",
        "\n",
        "# Calculate average price of food items\n",
        "food_total = 0\n",
        "food_count = 0\n",
        "for i in range(len(products)):\n",
        "    if categories[i] == \"food\":\n",
        "        food_total = food_total + prices[i]\n",
        "        food_count = food_count + 1\n",
        "\n",
        "if food_count > 0:\n",
        "    avg_food_price = food_total / food_count\n",
        "    print(f\"Average food price: ${avg_food_price:.2f}\")"
      ],
      "id": "f73e46c3"
    },
    {
      "cell_type": "markdown",
      "metadata": {},
      "source": [
        "## Exercise 5.1 - Smart Promotion Filter\n",
        "\n",
        "Find products eligible for promotion. Products qualify if they are:\n",
        "\n",
        "-   Drinks priced \\$4 or more, OR\n",
        "-   Food items priced \\$3 or more\n",
        "\n",
        "Also calculate the total discount if we offer 15% off eligible items."
      ],
      "id": "d1144a38-f2f9-49a4-94e9-16f10940e869"
    },
    {
      "cell_type": "code",
      "execution_count": 29,
      "metadata": {},
      "outputs": [],
      "source": [
        "# YOUR CODE BELOW\n",
        "products = [\"Coffee\", \"Tea\", \"Muffin\", \"Sandwich\", \"Smoothie\", \"Cookie\"]\n",
        "prices = [4.50, 2.75, 3.50, 7.95, 5.25, 2.00]\n",
        "categories = [\"drink\", \"drink\", \"food\", \"food\", \"drink\", \"food\"]\n",
        "\n",
        "eligible_products = []\n",
        "total_discount = 0\n",
        "\n",
        "# Loop through all products\n",
        "# Check if eligible based on category and price\n",
        "# If eligible: add to list and add (price * 0.15) to total_discount"
      ],
      "id": "223d1211"
    },
    {
      "cell_type": "code",
      "execution_count": 31,
      "metadata": {},
      "outputs": [],
      "source": [
        "# Test your answer\n",
        "assert eligible_products == [\"Coffee\", \"Muffin\", \"Sandwich\", \"Smoothie\"], \"Should include Coffee, Muffin, Sandwich, Smoothie\"\n",
        "assert abs(total_discount - 3.15) < 0.01, \"Total discount should be approximately 3.15\"\n",
        "print(f\"Excellent! Eligible products: {eligible_products}\")\n",
        "print(f\"Total discount offered: ${total_discount:.2f}\")"
      ],
      "id": "3dff3083"
    },
    {
      "cell_type": "markdown",
      "metadata": {},
      "source": [
        "# Conclusion\n",
        "\n",
        "Congratulations! You’ve successfully built a smart inventory management\n",
        "system!\n",
        "\n",
        "**You’ve learned:**\n",
        "\n",
        "-   **If/Elif/Else** - Making decisions in your code\n",
        "-   **Comparison Operators** - Checking relationships between values\n",
        "-   **Boolean Logic** - Combining conditions with and/or\n",
        "-   **Conditionals in Loops** - Filtering and categorizing data\n",
        "-   **While Loops** - Running processes until conditions are met\n",
        "\n",
        "Your Bean Counter inventory system can now:\n",
        "\n",
        "-   Alert when supplies run low\n",
        "-   Categorize products by stock level\n",
        "-   Filter products for promotions\n",
        "\n",
        "Remember:\n",
        "\n",
        "-   Always include colons (:) after if/elif/else/while statements\n",
        "-   Proper indentation is crucial in Python\n",
        "-   While loops need a way to eventually become False\n",
        "-   Combine conditions with `and`/`or` for complex logic\n",
        "-   Build filtered lists by starting empty and appending matches\n",
        "\n",
        "**What’s Next:** You’ve completed the Python foundation! In the next\n",
        "lecture, you’ll learn about more advanced Python features including\n",
        "functions, dictionaries, and data analysis with pandas. These tools will\n",
        "help you tackle even more complex management science problems!"
      ],
      "id": "a1b5ee61-2a6c-40e1-89f8-1a4243d0400a"
    }
  ],
  "nbformat": 4,
  "nbformat_minor": 5,
  "metadata": {
    "kernelspec": {
      "name": "python3",
      "display_name": "Python 3 (ipykernel)",
      "language": "python",
      "path": "/Users/vlcek/Documents/git-teaching/Management-Science/.venv/share/jupyter/kernels/python3"
    },
    "language_info": {
      "name": "python",
      "codemirror_mode": {
        "name": "ipython",
        "version": "3"
      },
      "file_extension": ".py",
      "mimetype": "text/x-python",
      "nbconvert_exporter": "python",
      "pygments_lexer": "ipython3",
      "version": "3.12.11"
    }
  }
}