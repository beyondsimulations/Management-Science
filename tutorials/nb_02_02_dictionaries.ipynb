{
  "cells": [
    {
      "cell_type": "markdown",
      "metadata": {},
      "source": [
        "# Notebook 2.2 - Dictionaries at Bean Counter\n",
        "\n",
        "Management Science - Regional Manager of Multiple Locations!\n",
        "\n",
        "# Introduction\n",
        "\n",
        "Welcome to your new role as Regional Manager at Bean Counter!\n",
        "\n",
        "**Congratulations on another promotion!**\n",
        "\n",
        "Your standardized functions from the Assistant Manager role were so\n",
        "successful that the CEO has promoted you to **Regional Manager**! You’re\n",
        "now responsible for overseeing 10 Bean Counter locations across the\n",
        "city.\n",
        "\n",
        "**The Challenge:** Managing 10 locations means tracking large amounts of\n",
        "data:\n",
        "\n",
        "-   Each location has different inventory levels\n",
        "-   Sales vary by neighborhood\n",
        "-   Barista teams have different sizes\n",
        "-   Equipment needs vary by store size\n",
        "\n",
        "Using simple variables or lists isn’t enough anymore. You need a better\n",
        "way to organize all this information!\n",
        "\n",
        "**Your Task:** Understand dictionaries - Python’s way of storing\n",
        "structured data with labels. Think of them as digital filing cabinets\n",
        "where everything has a clear label and is easy to find.\n",
        "\n",
        "In this tutorial, we’ll learn how dictionaries help you manage complex\n",
        "business data across all Bean Counter locations.\n",
        "\n",
        "> **How to Use This Tutorial**\n",
        ">\n",
        "> Cells marked with “YOUR CODE BELOW” expect you to write your own code.\n",
        "> Test blocks will verify your solutions.\n",
        "\n",
        "------------------------------------------------------------------------\n",
        "\n",
        "# Section 1 - Dictionary Basics for Location Management\n",
        "\n",
        "As Regional Manager, you need to track detailed information about each\n",
        "Bean Counter location. **Dictionaries** are perfect for this - they\n",
        "store data with descriptive labels (keys) instead of position numbers."
      ],
      "id": "278274c3-32eb-4ae6-8731-4d1c1814fb0b"
    },
    {
      "cell_type": "code",
      "execution_count": 1,
      "metadata": {},
      "outputs": [
        {
          "output_type": "stream",
          "name": "stdout",
          "text": [
            "Location: Bean Counter Downtown\n",
            "Manager: Sarah Chen\n",
            "Today's sales: $4500.0"
          ]
        }
      ],
      "source": [
        "# A dictionary for one Bean Counter location\n",
        "downtown_store = {\n",
        "    \"name\": \"Bean Counter Downtown\",\n",
        "    \"manager\": \"Sarah Chen\",\n",
        "    \"daily_sales\": 4500.00,\n",
        "    \"staff_count\": 8,\n",
        "    \"coffee_beans_kg\": 45.5\n",
        "}\n",
        "\n",
        "# Accessing data is intuitive with keys\n",
        "print(f\"Location: {downtown_store['name']}\")\n",
        "print(f\"Manager: {downtown_store['manager']}\")\n",
        "print(f\"Today's sales: ${downtown_store['daily_sales']}\")"
      ],
      "id": "31c2dc5c"
    },
    {
      "cell_type": "markdown",
      "metadata": {},
      "source": [
        "Dictionary anatomy:\n",
        "\n",
        "-   Curly braces `{}` create a dictionary\n",
        "-   **Keys** (like “name”, “manager”) are labels for your data\n",
        "-   **Values** are the actual data (like “Sarah Chen”, 4500.00)\n",
        "-   Access values using square brackets with the key: `dict['key']`\n",
        "\n",
        "> **Lists vs Dictionaries**\n",
        ">\n",
        "> -   **Lists** are like numbered storage boxes - you access items by\n",
        ">     position (0, 1, 2…)\n",
        "> -   **Dictionaries** are like labeled filing folders - you access\n",
        ">     items by name (“sales”, “inventory”…)\n",
        "> -   Use dictionaries when you want to describe something with multiple\n",
        ">     attributes!\n",
        "\n",
        "## Exercise 1.1 - Create a Location Profile\n",
        "\n",
        "Create a dictionary called `airport_store` for the Bean Counter airport\n",
        "location with:\n",
        "\n",
        "-   name: “Bean Counter Airport”\n",
        "-   manager: “James Wilson”\n",
        "-   daily_sales: 6200.00\n",
        "-   staff_count: 12\n",
        "-   coffee_beans_kg: 62.0"
      ],
      "id": "ef121f24-839b-441b-a305-50058ad16b54"
    },
    {
      "cell_type": "code",
      "execution_count": 2,
      "metadata": {},
      "outputs": [],
      "source": [
        "# YOUR CODE BELOW\n",
        "airport_store = {\n",
        "    # Add the key-value pairs here\n",
        "}"
      ],
      "id": "7f8c8f56"
    },
    {
      "cell_type": "code",
      "execution_count": 4,
      "metadata": {},
      "outputs": [],
      "source": [
        "# Test your location profile\n",
        "assert airport_store[\"name\"] == \"Bean Counter Airport\", \"Store name should be 'Bean Counter Airport'\"\n",
        "assert airport_store[\"manager\"] == \"James Wilson\", \"Manager should be 'James Wilson'\"\n",
        "assert airport_store[\"daily_sales\"] == 6200.00, \"Daily sales should be 6200.00\"\n",
        "assert airport_store[\"staff_count\"] == 12, \"Staff count should be 12\"\n",
        "assert airport_store[\"coffee_beans_kg\"] == 62.0, \"Coffee beans should be 62.0 kg\"\n",
        "print(\"Perfect! You've created your first location profile!\")"
      ],
      "id": "53f094b9"
    },
    {
      "cell_type": "markdown",
      "metadata": {},
      "source": [
        "## Exercise 1.2 - Update Inventory\n",
        "\n",
        "The airport store just received a delivery! Update the dictionary:\n",
        "\n",
        "1.  Add 25 kg to the current coffee_beans_kg\n",
        "2.  Update the manager to “Maria Garcia” (James got promoted!)\n",
        "3.  Add a new key “last_inspection” with value “2024-01-15”\n",
        "\n",
        "> **Updating Dictionaries**\n",
        ">\n",
        "> -   Update existing values: `dict['key'] = new_value`\n",
        "> -   Add new keys: `dict['new_key'] = value`\n",
        "> -   Modify values using math: `dict['number'] = dict['number'] + 10`"
      ],
      "id": "30f2ee7a-8d8d-48c2-80aa-0df75228f66d"
    },
    {
      "cell_type": "code",
      "execution_count": 5,
      "metadata": {},
      "outputs": [],
      "source": [
        "# Assuming airport_store exists from previous exercise\n",
        "airport_store = {\n",
        "    \"name\": \"Bean Counter Airport\",\n",
        "    \"manager\": \"James Wilson\",\n",
        "    \"daily_sales\": 6200.00,\n",
        "    \"staff_count\": 12,\n",
        "    \"coffee_beans_kg\": 62.0\n",
        "}\n",
        "\n",
        "# YOUR CODE BELOW\n",
        "# Update coffee beans (add 25 kg)\n",
        "\n",
        "# Update manager\n",
        "\n",
        "# Add last_inspection"
      ],
      "id": "4aeb8345"
    },
    {
      "cell_type": "code",
      "execution_count": 7,
      "metadata": {},
      "outputs": [],
      "source": [
        "# Test your updates\n",
        "assert airport_store[\"coffee_beans_kg\"] == 87.0, \"Coffee beans should now be 87.0 kg\"\n",
        "assert airport_store[\"manager\"] == \"Maria Garcia\", \"Manager should be Maria Garcia\"\n",
        "assert airport_store[\"last_inspection\"] == \"2024-01-15\", \"Should have last_inspection date\"\n",
        "print(\"Excellent inventory management! The airport store is fully updated!\")"
      ],
      "id": "6a94cd15"
    },
    {
      "cell_type": "markdown",
      "metadata": {},
      "source": [
        "------------------------------------------------------------------------\n",
        "\n",
        "# Section 2 - Lists of Dictionaries for Multiple Locations\n",
        "\n",
        "Managing 10 Bean Counter locations means working with multiple\n",
        "dictionaries. We can organize them in a list!"
      ],
      "id": "759f539b-d239-4fb6-b763-ec2d69699003"
    },
    {
      "cell_type": "code",
      "execution_count": 8,
      "metadata": {},
      "outputs": [
        {
          "output_type": "stream",
          "name": "stdout",
          "text": [
            "First location: Downtown\n",
            "Second location sales: $6200"
          ]
        }
      ],
      "source": [
        "# List of dictionaries - each dictionary is one store\n",
        "bean_counter_locations = [\n",
        "    {\n",
        "        \"id\": 1,\n",
        "        \"neighborhood\": \"Downtown\",\n",
        "        \"daily_sales\": 4500,\n",
        "        \"needs_restock\": False\n",
        "    },\n",
        "    {\n",
        "        \"id\": 2,\n",
        "        \"neighborhood\": \"Airport\",\n",
        "        \"daily_sales\": 6200,\n",
        "        \"needs_restock\": True\n",
        "    },\n",
        "    {\n",
        "        \"id\": 3,\n",
        "        \"neighborhood\": \"University\",\n",
        "        \"daily_sales\": 3800,\n",
        "        \"needs_restock\": False\n",
        "    }\n",
        "]\n",
        "\n",
        "# Access specific stores and their data\n",
        "print(f\"First location: {bean_counter_locations[0]['neighborhood']}\")\n",
        "print(f\"Second location sales: ${bean_counter_locations[1]['daily_sales']}\")"
      ],
      "id": "295690b8"
    },
    {
      "cell_type": "markdown",
      "metadata": {},
      "source": [
        "> **Common Mistake**\n",
        ">\n",
        "> When accessing data from a list of dictionaries, remember the two-step\n",
        "> process:\n",
        ">\n",
        "> 1.  First, get the dictionary from the list: `list[index]`\n",
        "> 2.  Then, get the value from the dictionary: `list[index]['key']`\n",
        "\n",
        "## Exercise 2.1 - Build Your Regional Network\n",
        "\n",
        "Create a list called `regional_stores` containing 2 Bean Counter\n",
        "locations. Each store dictionary should have:\n",
        "\n",
        "-   location_name (string)\n",
        "-   monthly_revenue (number)\n",
        "-   manager_name (string)\n",
        "-   flagship (boolean - True for one store, False for others)"
      ],
      "id": "12cc822b-9963-4255-ace1-4d82a08f51b1"
    },
    {
      "cell_type": "code",
      "execution_count": 9,
      "metadata": {},
      "outputs": [],
      "source": [
        "# YOUR CODE BELOW\n",
        "regional_stores = [\n",
        "    # Add 2 store dictionaries here\n",
        "]"
      ],
      "id": "a15c6410"
    },
    {
      "cell_type": "code",
      "execution_count": 11,
      "metadata": {},
      "outputs": [],
      "source": [
        "# Test your regional network\n",
        "assert len(regional_stores) == 2, \"Should have exactly 2 stores\"\n",
        "assert all(\"location_name\" in store for store in regional_stores), \"Each store needs location_name\"\n",
        "assert all(\"monthly_revenue\" in store for store in regional_stores), \"Each store needs monthly_revenue\"\n",
        "assert all(\"manager_name\" in store for store in regional_stores), \"Each store needs manager_name\"\n",
        "assert all(\"flagship\" in store for store in regional_stores), \"Each store needs flagship status\"\n",
        "assert sum(store[\"flagship\"] for store in regional_stores) >= 1, \"At least one store should be flagship\"\n",
        "print(\"Great work! Your regional network is established!\")"
      ],
      "id": "088f8c1d"
    },
    {
      "cell_type": "markdown",
      "metadata": {},
      "source": [
        "------------------------------------------------------------------------\n",
        "\n",
        "# Section 3 - Looping Through Store Data\n",
        "\n",
        "As Regional Manager, you need to analyze data across all locations.\n",
        "Let’s loop through dictionaries to find insights!"
      ],
      "id": "34c3ba56-9d2a-41d8-aa5f-6a02019cd146"
    },
    {
      "cell_type": "code",
      "execution_count": 12,
      "metadata": {},
      "outputs": [
        {
          "output_type": "stream",
          "name": "stdout",
          "text": [
            "Downtown: $4500 (Rating: 4.8★)\n",
            "Airport: $6200 (Rating: 4.5★)\n",
            "University: $3800 (Rating: 4.9★)\n",
            "\n",
            "Total regional sales: $14500"
          ]
        }
      ],
      "source": [
        "# Analyzing multiple stores\n",
        "stores = [\n",
        "    {\n",
        "        \"name\": \"Downtown\",\n",
        "        \"sales\": 4500,\n",
        "        \"rating\": 4.8\n",
        "    },\n",
        "    {\n",
        "        \"name\": \"Airport\",\n",
        "        \"sales\": 6200,\n",
        "        \"rating\": 4.5\n",
        "    },\n",
        "    {\n",
        "        \"name\": \"University\",\n",
        "        \"sales\": 3800,\n",
        "        \"rating\": 4.9\n",
        "    }\n",
        "]\n",
        "\n",
        "# Calculate total sales across all stores\n",
        "total_sales = 0\n",
        "for store in stores:\n",
        "    total_sales = total_sales + store[\"sales\"]\n",
        "    print(f\"{store['name']}: ${store['sales']} (Rating: {store['rating']}★)\")\n",
        "\n",
        "print(f\"\\nTotal regional sales: ${total_sales}\")"
      ],
      "id": "110e98b0"
    },
    {
      "cell_type": "markdown",
      "metadata": {},
      "source": [
        "> **Accessing Dictionary Items**\n",
        ">\n",
        "> When looping through a list of dictionaries:\n",
        ">\n",
        "> -   The loop variable (like `store`) represents one complete\n",
        ">     dictionary\n",
        "> -   Access values using keys: `store['key_name']`\n",
        "> -   You can use the values in calculations, conditions, or function\n",
        ">     calls\n",
        "\n",
        "## Exercise 3.1 - Regional Performance Analysis\n",
        "\n",
        "Write code to analyze the `performance_data` list:\n",
        "\n",
        "1.  Calculate the total customers served across all stores\n",
        "2.  Find the average customer satisfaction score\n",
        "3.  Count how many stores served over 500 customers"
      ],
      "id": "ebf5db8b-4410-4030-bb61-27e2415f1308"
    },
    {
      "cell_type": "code",
      "execution_count": 13,
      "metadata": {},
      "outputs": [],
      "source": [
        "performance_data = [\n",
        "    {\"store\": \"Downtown\", \"customers\": 450, \"satisfaction\": 4.7},\n",
        "    {\"store\": \"Airport\", \"customers\": 680, \"satisfaction\": 4.4},\n",
        "    {\"store\": \"University\", \"customers\": 520, \"satisfaction\": 4.8},\n",
        "    {\"store\": \"Mall\", \"customers\": 380, \"satisfaction\": 4.6},\n",
        "    {\"store\": \"Station\", \"customers\": 590, \"satisfaction\": 4.5}\n",
        "]\n",
        "\n",
        "total_customers = 0\n",
        "total_satisfaction = 0\n",
        "busy_stores = 0  # Stores with >500 customers\n",
        "# YOUR CODE BELOW\n",
        "for store in performance_data:\n",
        "    # Add to total customers\n",
        "\n",
        "    # Add to satisfaction sum\n",
        "\n",
        "    # Check if this is a busy store\n",
        "\n",
        "\n",
        "# Print your results\n",
        "#"
      ],
      "id": "0d9186f6"
    },
    {
      "cell_type": "code",
      "execution_count": 15,
      "metadata": {},
      "outputs": [],
      "source": [
        "# Test your analysis\n",
        "assert total_customers == 2620, f\"Total customers should be 2620, got {total_customers}\"\n",
        "assert round(average_satisfaction, 2) == 4.60, f\"Average satisfaction should be 4.60, got {round(average_satisfaction, 2)}\"\n",
        "assert busy_stores == 3, f\"Should have 3 busy stores, got {busy_stores}\"\n",
        "print(f\"Total customers: {total_customers}\")\n",
        "print(f\"Average satisfaction: {average_satisfaction}\")\n",
        "print(f\"Stores serving >500 customers: {busy_stores}\")\n",
        "print(\"Excellent analysis! You have a clear picture of regional performance!\")"
      ],
      "id": "e1fd08cb"
    },
    {
      "cell_type": "markdown",
      "metadata": {},
      "source": [
        "------------------------------------------------------------------------\n",
        "\n",
        "# Section 4 - Filtering Store Data\n",
        "\n",
        "Regional Managers often need to find stores that meet specific\n",
        "criteria - which ones need supplies? Which are underperforming?"
      ],
      "id": "2677c3c6-de83-439d-a013-24fc4b3d46b9"
    },
    {
      "cell_type": "code",
      "execution_count": 16,
      "metadata": {},
      "outputs": [
        {
          "output_type": "stream",
          "name": "stdout",
          "text": [
            "Stores needing coffee beans: ['Airport', 'Mall']"
          ]
        }
      ],
      "source": [
        "# Finding stores that need attention\n",
        "all_stores = [\n",
        "    {\"name\": \"Downtown\", \"inventory_kg\": 15, \"daily_sales\": 4500},\n",
        "    {\"name\": \"Airport\", \"inventory_kg\": 8, \"daily_sales\": 6200},\n",
        "    {\"name\": \"University\", \"inventory_kg\": 22, \"daily_sales\": 3800},\n",
        "    {\"name\": \"Mall\", \"inventory_kg\": 5, \"daily_sales\": 4100}\n",
        "]\n",
        "\n",
        "# Find stores with low inventory (less than 10 kg)\n",
        "low_inventory_stores = []\n",
        "for store in all_stores:\n",
        "    if store[\"inventory_kg\"] < 10:\n",
        "        low_inventory_stores.append(store[\"name\"])\n",
        "\n",
        "print(\"Stores needing coffee beans:\", low_inventory_stores)"
      ],
      "id": "95baf2b5"
    },
    {
      "cell_type": "markdown",
      "metadata": {},
      "source": [
        "## Exercise 4.1 - Identify Priority Stores\n",
        "\n",
        "Find stores that need immediate attention. Create two lists:\n",
        "\n",
        "1.  `restock_needed`: Store names with inventory below 20 kg\n",
        "2.  `low_performers`: Store names with daily revenue below 1000"
      ],
      "id": "c4805034-7f5f-49f4-92ef-696a13e2e6f3"
    },
    {
      "cell_type": "code",
      "execution_count": 17,
      "metadata": {},
      "outputs": [],
      "source": [
        "inventory_data = [\n",
        "    {\"name\": \"Plaza\", \"coffee_kg\": 45, \"milk_liters\": 30, \"daily_revenue\": 1850},\n",
        "    {\"name\": \"Station\", \"coffee_kg\": 12, \"milk_liters\": 8, \"daily_revenue\": 920},\n",
        "    {\"name\": \"Park\", \"coffee_kg\": 18, \"milk_liters\": 15, \"daily_revenue\": 1100},\n",
        "    {\"name\": \"Beach\", \"coffee_kg\": 7, \"milk_liters\": 22, \"daily_revenue\": 780},\n",
        "    {\"name\": \"Downtown\", \"coffee_kg\": 35, \"milk_liters\": 18, \"daily_revenue\": 2200}\n",
        "]\n",
        "\n",
        "# YOUR CODE BELOW\n",
        "restock_needed = []\n",
        "low_performers = []\n",
        "\n",
        "for store in inventory_data:\n",
        "    # Check if coffee inventory is low (below 20 kg)\n",
        "\n",
        "    # Check if daily revenue is low (below 1000)"
      ],
      "id": "b81cef03"
    },
    {
      "cell_type": "code",
      "execution_count": 19,
      "metadata": {},
      "outputs": [],
      "source": [
        "# Test your filtering\n",
        "assert set(restock_needed) == {\"Station\", \"Park\", \"Beach\"}, f\"Restock list should be Station, Park, Beach\"\n",
        "assert set(low_performers) == {\"Station\", \"Beach\"}, f\"Low performers should be Station and Beach\"\n",
        "print(f\"Stores needing restock: {restock_needed}\")\n",
        "print(f\"Low performing stores: {low_performers}\")\n",
        "print(\"Perfect! You've identified the stores that need immediate attention!\")"
      ],
      "id": "56f8ef99"
    },
    {
      "cell_type": "markdown",
      "metadata": {},
      "source": [
        "------------------------------------------------------------------------\n",
        "\n",
        "# Section 5 - Dictionaries with Functions\n",
        "\n",
        "Let’s combine your function skills from the Assistant Manager role with\n",
        "dictionaries to create powerful analysis tools!"
      ],
      "id": "5989de84-d240-41f8-8864-04b23f6ef3b2"
    },
    {
      "cell_type": "code",
      "execution_count": 20,
      "metadata": {},
      "outputs": [
        {
          "output_type": "stream",
          "name": "stdout",
          "text": [
            "Downtown earned a $1800 bonus!"
          ]
        }
      ],
      "source": [
        "def calculate_store_bonus(store_data):\n",
        "    \"\"\"Calculate performance bonus based on store metrics\"\"\"\n",
        "    base_bonus = 1000\n",
        "\n",
        "    # Add bonus for high sales\n",
        "    if store_data[\"monthly_sales\"] > 100000:\n",
        "        base_bonus = base_bonus + 500\n",
        "\n",
        "    # Add bonus for good ratings\n",
        "    if store_data[\"customer_rating\"] >= 4.5:\n",
        "        base_bonus = base_bonus + 300\n",
        "\n",
        "    return base_bonus\n",
        "\n",
        "# Test the function\n",
        "store = {\n",
        "    \"name\": \"Downtown\",\n",
        "    \"monthly_sales\": 120000,\n",
        "    \"customer_rating\": 4.7\n",
        "}\n",
        "bonus = calculate_store_bonus(store)\n",
        "print(f\"{store['name']} earned a ${bonus} bonus!\")"
      ],
      "id": "c26cbc81"
    },
    {
      "cell_type": "markdown",
      "metadata": {},
      "source": [
        "## Exercise 5.1 - Store Performance Report Generator\n",
        "\n",
        "Create a function `generate_store_report` that takes a store dictionary\n",
        "and returns a performance summary string.\n",
        "\n",
        "The function should:\n",
        "\n",
        "1.  Calculate profit: revenue - costs\n",
        "2.  Calculate profit margin: (profit / revenue) \\* 100\n",
        "3.  Determine status: “Excellent” if margin \\> 30%, “Good” if \\> 20%,\n",
        "    else “Needs Improvement”\n",
        "4.  Return a **formatted string** with the store name, margin, and\n",
        "    status"
      ],
      "id": "e5e04d04-1a4c-4b41-b246-b1b3b2e937f5"
    },
    {
      "cell_type": "code",
      "execution_count": 21,
      "metadata": {},
      "outputs": [],
      "source": [
        "# YOUR CODE BELOW\n",
        "def generate_store_report(store):\n",
        "    # Calculate profit margin\n",
        "\n",
        "    # Determine performance status\n",
        "\n",
        "    # Return formatted report string"
      ],
      "id": "cf292d00"
    },
    {
      "cell_type": "code",
      "execution_count": 23,
      "metadata": {},
      "outputs": [],
      "source": [
        "# Test your report generator\n",
        "test_store1 = {\"name\": \"Plaza\", \"revenue\": 50000, \"costs\": 30000}\n",
        "report1 = generate_store_report(test_store1)\n",
        "assert \"40.0%\" in report1, \"Plaza should have 40.0% margin\"\n",
        "assert \"Excellent\" in report1, \"Plaza should be Excellent\"\n",
        "\n",
        "test_store2 = {\"name\": \"Station\", \"revenue\": 40000, \"costs\": 34000}\n",
        "report2 = generate_store_report(test_store2)\n",
        "assert \"15.0%\" in report2, \"Station should have 15.0% margin\"\n",
        "assert \"Needs Improvement\" in report2, \"Station needs improvement\"\n",
        "\n",
        "print(\"Fantastic! Your reporting system gives clear insights into store performance!\")"
      ],
      "id": "6f217472"
    },
    {
      "cell_type": "markdown",
      "metadata": {},
      "source": [
        "------------------------------------------------------------------------\n",
        "\n",
        "# Conclusion\n",
        "\n",
        "**Congratulations! You’ve successfully built a regional data management\n",
        "system for Bean Counter!**\n",
        "\n",
        "**You’ve learned:**\n",
        "\n",
        "-   **Dictionaries** - Storing structured data with descriptive labels\n",
        "    (keys and values)\n",
        "-   **Accessing & Updating** - Getting and modifying dictionary values\n",
        "    using keys\n",
        "-   **Lists of Dictionaries** - Managing multiple entities with\n",
        "    consistent structure\n",
        "-   **Looping Through Dictionaries** - Analyzing data across all stores\n",
        "-   **Filtering Dictionary Data** - Finding stores that meet specific\n",
        "    criteria\n",
        "-   **Functions with Dictionaries** - Creating powerful analysis and\n",
        "    reporting tools\n",
        "\n",
        "**Your Bean Counter regional management system can now:**\n",
        "\n",
        "-   Track detailed information for each location\n",
        "-   Analyze performance across all stores\n",
        "-   Identify locations needing supplies or support\n",
        "-   Generate automated performance reports\n",
        "\n",
        "**Remember:**\n",
        "\n",
        "-   Use curly braces `{}` to create dictionaries\n",
        "-   Access values with square brackets and keys: `dict['key']`\n",
        "-   Dictionaries are perfect for describing things with multiple\n",
        "    attributes\n",
        "-   Lists of dictionaries let you manage many similar entities\n",
        "-   Loop through dictionaries to aggregate data or find patterns\n",
        "-   Combine dictionaries with functions for sophisticated business logic\n",
        "\n",
        "**What’s Next:** Your data management skills have caught the CEO’s\n",
        "attention! In the next tutorial, you’ll be promoted to **Operations\n",
        "Director**, where you’ll learn about **sorting and optimization** -\n",
        "finding the best options among many choices. You’ll optimize scheduling,\n",
        "resource allocation, and discover how to always pick the best option for\n",
        "Bean Counter!\n",
        "\n",
        "# Solutions\n",
        "\n",
        "You will likely find solutions to most exercises online. However, I\n",
        "strongly encourage you to work on these exercises independently without\n",
        "searching explicitly for the exact answers to the exercises.\n",
        "Understanding someone else’s solution is very different from developing\n",
        "your own. Use the lecture notes and try to solve the exercises on your\n",
        "own. This approach will significantly enhance your learning and\n",
        "problem-solving skills.\n",
        "\n",
        "Remember, the goal is not just to complete the exercises, but to\n",
        "understand the concepts and improve your programming abilities. If you\n",
        "encounter difficulties, review the lecture materials, experiment with\n",
        "different approaches, and don’t hesitate to ask for clarification during\n",
        "class discussions."
      ],
      "id": "eff97dfb-9577-47a2-bfa7-eb5603fce618"
    }
  ],
  "nbformat": 4,
  "nbformat_minor": 5,
  "metadata": {
    "kernelspec": {
      "name": "python3",
      "display_name": "Python 3 (ipykernel)",
      "language": "python",
      "path": "/Users/vlcek/Documents/git-teaching/Management-Science/.venv/share/jupyter/kernels/python3"
    },
    "language_info": {
      "name": "python",
      "codemirror_mode": {
        "name": "ipython",
        "version": "3"
      },
      "file_extension": ".py",
      "mimetype": "text/x-python",
      "nbconvert_exporter": "python",
      "pygments_lexer": "ipython3",
      "version": "3.12.11"
    }
  }
}